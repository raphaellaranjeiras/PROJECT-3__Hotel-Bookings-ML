{
 "cells": [
  {
   "cell_type": "code",
   "execution_count": 1,
   "id": "6f9fd631",
   "metadata": {},
   "outputs": [],
   "source": [
    "import warnings\n",
    "warnings.filterwarnings('ignore')\n",
    "import pandas as pd\n",
    "pd.set_option('display.max_columns', None)\n",
    "import numpy as np\n",
    "from sklearn.model_selection import train_test_split, RandomizedSearchCV\n",
    "from sklearn.preprocessing import OneHotEncoder, StandardScaler\n",
    "from sklearn.pipeline import Pipeline\n",
    "from sklearn.compose import ColumnTransformer\n",
    "from category_encoders import JamesSteinEncoder\n",
    "from sklearn.ensemble import RandomForestClassifier\n",
    "from sklearn.metrics import classification_report\n",
    "from feature_engine.encoding import RareLabelEncoder\n",
    "import joblib as jb"
   ]
  },
  {
   "cell_type": "code",
   "execution_count": 67,
   "id": "b45ea35f",
   "metadata": {},
   "outputs": [],
   "source": [
    "df = pd.read_csv('hotel_bookings.csv')"
   ]
  },
  {
   "cell_type": "code",
   "execution_count": 68,
   "id": "b78a7f50",
   "metadata": {},
   "outputs": [
    {
     "data": {
      "text/plain": [
       "(111689, 32)"
      ]
     },
     "execution_count": 68,
     "metadata": {},
     "output_type": "execute_result"
    }
   ],
   "source": [
    "df = df[~((df['arrival_date_year'] == 2015) & (df['arrival_date_month'] == 'July') | (df['arrival_date_year'] == 2017) &\n",
    "         (df['arrival_date_month'] == 'August'))]\n",
    "df.shape"
   ]
  },
  {
   "cell_type": "code",
   "execution_count": 69,
   "id": "bfe5954d",
   "metadata": {},
   "outputs": [
    {
     "data": {
      "text/plain": [
       "(111513, 32)"
      ]
     },
     "execution_count": 69,
     "metadata": {},
     "output_type": "execute_result"
    }
   ],
   "source": [
    "df = df[~((df['children'] == 0) & (df['adults'] == 0) & (df['babies'] == 0))]\n",
    "df.shape"
   ]
  },
  {
   "cell_type": "code",
   "execution_count": 70,
   "id": "bf6a6ebc",
   "metadata": {},
   "outputs": [
    {
     "data": {
      "text/plain": [
       "(111513, 24)"
      ]
     },
     "execution_count": 70,
     "metadata": {},
     "output_type": "execute_result"
    }
   ],
   "source": [
    "df.drop(columns= ['company', 'agent', 'reservation_status_date', 'assigned_room_type', 'reservation_status',\n",
    "                  'arrival_date_year', 'arrival_date_month', 'arrival_date_day_of_month'], \n",
    "        inplace= True)\n",
    "df.shape"
   ]
  },
  {
   "cell_type": "code",
   "execution_count": 71,
   "id": "312cdd76",
   "metadata": {
    "scrolled": true
   },
   "outputs": [
    {
     "data": {
      "text/plain": [
       "(111044, 24)"
      ]
     },
     "execution_count": 71,
     "metadata": {},
     "output_type": "execute_result"
    }
   ],
   "source": [
    "df.dropna(inplace= True)\n",
    "df.shape"
   ]
  },
  {
   "cell_type": "code",
   "execution_count": 72,
   "id": "35659b89",
   "metadata": {
    "scrolled": false
   },
   "outputs": [
    {
     "data": {
      "text/plain": [
       "31653"
      ]
     },
     "execution_count": 72,
     "metadata": {},
     "output_type": "execute_result"
    }
   ],
   "source": [
    "df.duplicated().sum()"
   ]
  },
  {
   "cell_type": "code",
   "execution_count": 73,
   "id": "d59d435f",
   "metadata": {
    "scrolled": true
   },
   "outputs": [
    {
     "data": {
      "text/plain": [
       "0    63.02\n",
       "1    36.98\n",
       "Name: is_canceled, dtype: float64"
      ]
     },
     "execution_count": 73,
     "metadata": {},
     "output_type": "execute_result"
    }
   ],
   "source": [
    "df['is_canceled'].value_counts(normalize= True).mul(100).round(2)"
   ]
  },
  {
   "cell_type": "code",
   "execution_count": 75,
   "id": "bb55f2ce",
   "metadata": {
    "collapsed": true
   },
   "outputs": [
    {
     "data": {
      "text/html": [
       "<div>\n",
       "<style scoped>\n",
       "    .dataframe tbody tr th:only-of-type {\n",
       "        vertical-align: middle;\n",
       "    }\n",
       "\n",
       "    .dataframe tbody tr th {\n",
       "        vertical-align: top;\n",
       "    }\n",
       "\n",
       "    .dataframe thead th {\n",
       "        text-align: right;\n",
       "    }\n",
       "</style>\n",
       "<table border=\"1\" class=\"dataframe\">\n",
       "  <thead>\n",
       "    <tr style=\"text-align: right;\">\n",
       "      <th></th>\n",
       "      <th>hotel</th>\n",
       "      <th>meal</th>\n",
       "      <th>country</th>\n",
       "      <th>market_segment</th>\n",
       "      <th>distribution_channel</th>\n",
       "      <th>reserved_room_type</th>\n",
       "      <th>deposit_type</th>\n",
       "      <th>customer_type</th>\n",
       "    </tr>\n",
       "  </thead>\n",
       "  <tbody>\n",
       "    <tr>\n",
       "      <th>82162</th>\n",
       "      <td>City Hotel</td>\n",
       "      <td>BB</td>\n",
       "      <td>PRT</td>\n",
       "      <td>Corporate</td>\n",
       "      <td>Corporate</td>\n",
       "      <td>A</td>\n",
       "      <td>No Deposit</td>\n",
       "      <td>Transient-Party</td>\n",
       "    </tr>\n",
       "    <tr>\n",
       "      <th>12953</th>\n",
       "      <td>Resort Hotel</td>\n",
       "      <td>HB</td>\n",
       "      <td>PRT</td>\n",
       "      <td>Offline TA/TO</td>\n",
       "      <td>TA/TO</td>\n",
       "      <td>E</td>\n",
       "      <td>No Deposit</td>\n",
       "      <td>Contract</td>\n",
       "    </tr>\n",
       "    <tr>\n",
       "      <th>31360</th>\n",
       "      <td>Resort Hotel</td>\n",
       "      <td>HB</td>\n",
       "      <td>GBR</td>\n",
       "      <td>Direct</td>\n",
       "      <td>Direct</td>\n",
       "      <td>A</td>\n",
       "      <td>No Deposit</td>\n",
       "      <td>Transient</td>\n",
       "    </tr>\n",
       "    <tr>\n",
       "      <th>115771</th>\n",
       "      <td>City Hotel</td>\n",
       "      <td>BB</td>\n",
       "      <td>GBR</td>\n",
       "      <td>Online TA</td>\n",
       "      <td>TA/TO</td>\n",
       "      <td>F</td>\n",
       "      <td>No Deposit</td>\n",
       "      <td>Transient</td>\n",
       "    </tr>\n",
       "    <tr>\n",
       "      <th>63645</th>\n",
       "      <td>City Hotel</td>\n",
       "      <td>BB</td>\n",
       "      <td>PRT</td>\n",
       "      <td>Online TA</td>\n",
       "      <td>TA/TO</td>\n",
       "      <td>G</td>\n",
       "      <td>No Deposit</td>\n",
       "      <td>Transient</td>\n",
       "    </tr>\n",
       "  </tbody>\n",
       "</table>\n",
       "</div>"
      ],
      "text/plain": [
       "               hotel meal country market_segment distribution_channel  \\\n",
       "82162     City Hotel   BB     PRT      Corporate            Corporate   \n",
       "12953   Resort Hotel   HB     PRT  Offline TA/TO                TA/TO   \n",
       "31360   Resort Hotel   HB     GBR         Direct               Direct   \n",
       "115771    City Hotel   BB     GBR      Online TA                TA/TO   \n",
       "63645     City Hotel   BB     PRT      Online TA                TA/TO   \n",
       "\n",
       "       reserved_room_type deposit_type    customer_type  \n",
       "82162                   A   No Deposit  Transient-Party  \n",
       "12953                   E   No Deposit         Contract  \n",
       "31360                   A   No Deposit        Transient  \n",
       "115771                  F   No Deposit        Transient  \n",
       "63645                   G   No Deposit        Transient  "
      ]
     },
     "execution_count": 75,
     "metadata": {},
     "output_type": "execute_result"
    }
   ],
   "source": [
    "df_categorical = df.select_dtypes('object')\n",
    "df_numerical = df.select_dtypes('number')"
   ]
  },
  {
   "cell_type": "code",
   "execution_count": 76,
   "id": "3f133ae6",
   "metadata": {
    "scrolled": false
   },
   "outputs": [
    {
     "data": {
      "text/plain": [
       "(111044, 8)"
      ]
     },
     "execution_count": 76,
     "metadata": {},
     "output_type": "execute_result"
    }
   ],
   "source": [
    "df_categorical.shape"
   ]
  },
  {
   "cell_type": "code",
   "execution_count": 78,
   "id": "03c0d796",
   "metadata": {
    "scrolled": false
   },
   "outputs": [
    {
     "data": {
      "text/plain": [
       "(111044, 16)"
      ]
     },
     "execution_count": 78,
     "metadata": {},
     "output_type": "execute_result"
    }
   ],
   "source": [
    "df_numerical.shape"
   ]
  },
  {
   "cell_type": "code",
   "execution_count": 79,
   "id": "f8697bc6",
   "metadata": {},
   "outputs": [],
   "source": [
    "X = df.drop(['is_canceled'], axis= 1)\n",
    "y = df['is_canceled']\n",
    "\n",
    "categorical_variables = X.select_dtypes('object').columns.to_list()\n",
    "numerical_variables = X.select_dtypes('number').columns.to_list()\n",
    "\n",
    "X_train, X_test, y_train, y_test = train_test_split(X, y, test_size= 0.33, random_state= 4)"
   ]
  },
  {
   "cell_type": "code",
   "execution_count": 81,
   "id": "757e1387",
   "metadata": {
    "scrolled": true
   },
   "outputs": [
    {
     "data": {
      "text/plain": [
       "(175,)"
      ]
     },
     "execution_count": 81,
     "metadata": {},
     "output_type": "execute_result"
    }
   ],
   "source": [
    "df['country'].value_counts(dropna=False, normalize= True).shape"
   ]
  },
  {
   "cell_type": "code",
   "execution_count": 82,
   "id": "335d02d4",
   "metadata": {
    "scrolled": true
   },
   "outputs": [
    {
     "data": {
      "text/plain": [
       "0.9496055617593026"
      ]
     },
     "execution_count": 82,
     "metadata": {},
     "output_type": "execute_result"
    }
   ],
   "source": [
    "df['country'].value_counts(dropna=False, normalize= True)[0:22].sum()"
   ]
  },
  {
   "cell_type": "code",
   "execution_count": 83,
   "id": "5906e3f6",
   "metadata": {},
   "outputs": [
    {
     "data": {
      "text/plain": [
       "ISR    0.005809\n",
       "RUS    0.005286\n",
       "NOR    0.005169\n",
       "ROU    0.004097\n",
       "FIN    0.003908\n",
       "Name: country, dtype: float64"
      ]
     },
     "execution_count": 83,
     "metadata": {},
     "output_type": "execute_result"
    }
   ],
   "source": [
    "df['country'].value_counts(dropna=False, normalize= True)[0:22].tail()"
   ]
  },
  {
   "cell_type": "code",
   "execution_count": 84,
   "id": "b62218b0",
   "metadata": {},
   "outputs": [
    {
     "data": {
      "text/plain": [
       "(23,)"
      ]
     },
     "execution_count": 84,
     "metadata": {},
     "output_type": "execute_result"
    }
   ],
   "source": [
    "rare_encoder = RareLabelEncoder(tol= 0.003900, variables= ['country'], replace_with= 'Other Country')\n",
    "rare_encoder.fit(X_train)\n",
    "X_train = rare_encoder.transform(X_train)\n",
    "X_test = rare_encoder.transform(X_test)\n",
    "\n",
    "X_train['country'].value_counts(dropna=False, normalize= True).shape"
   ]
  },
  {
   "cell_type": "code",
   "execution_count": 85,
   "id": "1bca8a71",
   "metadata": {
    "scrolled": false
   },
   "outputs": [
    {
     "data": {
      "text/plain": [
       "PRT              0.404468\n",
       "GBR              0.103536\n",
       "FRA              0.088509\n",
       "ESP              0.070565\n",
       "DEU              0.062958\n",
       "Other Country    0.051063\n",
       "ITA              0.030780\n",
       "IRL              0.028871\n",
       "BEL              0.019973\n",
       "BRA              0.019046\n",
       "NLD              0.018280\n",
       "USA              0.016694\n",
       "CHE              0.014422\n",
       "CN               0.010833\n",
       "AUT              0.010753\n",
       "SWE              0.008710\n",
       "CHN              0.008683\n",
       "POL              0.008038\n",
       "ISR              0.005497\n",
       "RUS              0.005282\n",
       "NOR              0.004839\n",
       "ROU              0.004113\n",
       "FIN              0.004086\n",
       "Name: country, dtype: float64"
      ]
     },
     "execution_count": 85,
     "metadata": {},
     "output_type": "execute_result"
    }
   ],
   "source": [
    "X_train['country'].value_counts(dropna=False, normalize= True)"
   ]
  },
  {
   "cell_type": "code",
   "execution_count": 86,
   "id": "5e4ce7d6",
   "metadata": {
    "scrolled": true
   },
   "outputs": [
    {
     "data": {
      "text/html": [
       "<div>\n",
       "<style scoped>\n",
       "    .dataframe tbody tr th:only-of-type {\n",
       "        vertical-align: middle;\n",
       "    }\n",
       "\n",
       "    .dataframe tbody tr th {\n",
       "        vertical-align: top;\n",
       "    }\n",
       "\n",
       "    .dataframe thead th {\n",
       "        text-align: right;\n",
       "    }\n",
       "</style>\n",
       "<table border=\"1\" class=\"dataframe\">\n",
       "  <thead>\n",
       "    <tr style=\"text-align: right;\">\n",
       "      <th></th>\n",
       "      <th>lead_time</th>\n",
       "      <th>arrival_date_week_number</th>\n",
       "      <th>stays_in_weekend_nights</th>\n",
       "      <th>stays_in_week_nights</th>\n",
       "      <th>adults</th>\n",
       "      <th>children</th>\n",
       "      <th>babies</th>\n",
       "      <th>is_repeated_guest</th>\n",
       "      <th>previous_cancellations</th>\n",
       "      <th>previous_bookings_not_canceled</th>\n",
       "      <th>booking_changes</th>\n",
       "      <th>days_in_waiting_list</th>\n",
       "      <th>adr</th>\n",
       "      <th>required_car_parking_spaces</th>\n",
       "      <th>total_of_special_requests</th>\n",
       "    </tr>\n",
       "  </thead>\n",
       "  <tbody>\n",
       "    <tr>\n",
       "      <th>65992</th>\n",
       "      <td>121</td>\n",
       "      <td>15</td>\n",
       "      <td>0</td>\n",
       "      <td>4</td>\n",
       "      <td>3</td>\n",
       "      <td>0.0</td>\n",
       "      <td>0</td>\n",
       "      <td>0</td>\n",
       "      <td>0</td>\n",
       "      <td>0</td>\n",
       "      <td>0</td>\n",
       "      <td>0</td>\n",
       "      <td>173.25</td>\n",
       "      <td>0</td>\n",
       "      <td>0</td>\n",
       "    </tr>\n",
       "    <tr>\n",
       "      <th>110968</th>\n",
       "      <td>175</td>\n",
       "      <td>18</td>\n",
       "      <td>1</td>\n",
       "      <td>3</td>\n",
       "      <td>2</td>\n",
       "      <td>0.0</td>\n",
       "      <td>0</td>\n",
       "      <td>0</td>\n",
       "      <td>0</td>\n",
       "      <td>0</td>\n",
       "      <td>0</td>\n",
       "      <td>0</td>\n",
       "      <td>99.00</td>\n",
       "      <td>0</td>\n",
       "      <td>2</td>\n",
       "    </tr>\n",
       "    <tr>\n",
       "      <th>14150</th>\n",
       "      <td>4</td>\n",
       "      <td>50</td>\n",
       "      <td>0</td>\n",
       "      <td>1</td>\n",
       "      <td>1</td>\n",
       "      <td>0.0</td>\n",
       "      <td>0</td>\n",
       "      <td>0</td>\n",
       "      <td>0</td>\n",
       "      <td>5</td>\n",
       "      <td>0</td>\n",
       "      <td>0</td>\n",
       "      <td>27.00</td>\n",
       "      <td>0</td>\n",
       "      <td>0</td>\n",
       "    </tr>\n",
       "    <tr>\n",
       "      <th>116903</th>\n",
       "      <td>88</td>\n",
       "      <td>30</td>\n",
       "      <td>1</td>\n",
       "      <td>2</td>\n",
       "      <td>2</td>\n",
       "      <td>0.0</td>\n",
       "      <td>0</td>\n",
       "      <td>0</td>\n",
       "      <td>0</td>\n",
       "      <td>0</td>\n",
       "      <td>0</td>\n",
       "      <td>0</td>\n",
       "      <td>125.00</td>\n",
       "      <td>0</td>\n",
       "      <td>1</td>\n",
       "    </tr>\n",
       "    <tr>\n",
       "      <th>42135</th>\n",
       "      <td>10</td>\n",
       "      <td>36</td>\n",
       "      <td>2</td>\n",
       "      <td>5</td>\n",
       "      <td>2</td>\n",
       "      <td>0.0</td>\n",
       "      <td>0</td>\n",
       "      <td>0</td>\n",
       "      <td>0</td>\n",
       "      <td>0</td>\n",
       "      <td>0</td>\n",
       "      <td>0</td>\n",
       "      <td>85.00</td>\n",
       "      <td>0</td>\n",
       "      <td>0</td>\n",
       "    </tr>\n",
       "  </tbody>\n",
       "</table>\n",
       "</div>"
      ],
      "text/plain": [
       "        lead_time  arrival_date_week_number  stays_in_weekend_nights  \\\n",
       "65992         121                        15                        0   \n",
       "110968        175                        18                        1   \n",
       "14150           4                        50                        0   \n",
       "116903         88                        30                        1   \n",
       "42135          10                        36                        2   \n",
       "\n",
       "        stays_in_week_nights  adults  children  babies  is_repeated_guest  \\\n",
       "65992                      4       3       0.0       0                  0   \n",
       "110968                     3       2       0.0       0                  0   \n",
       "14150                      1       1       0.0       0                  0   \n",
       "116903                     2       2       0.0       0                  0   \n",
       "42135                      5       2       0.0       0                  0   \n",
       "\n",
       "        previous_cancellations  previous_bookings_not_canceled  \\\n",
       "65992                        0                               0   \n",
       "110968                       0                               0   \n",
       "14150                        0                               5   \n",
       "116903                       0                               0   \n",
       "42135                        0                               0   \n",
       "\n",
       "        booking_changes  days_in_waiting_list     adr  \\\n",
       "65992                 0                     0  173.25   \n",
       "110968                0                     0   99.00   \n",
       "14150                 0                     0   27.00   \n",
       "116903                0                     0  125.00   \n",
       "42135                 0                     0   85.00   \n",
       "\n",
       "        required_car_parking_spaces  total_of_special_requests  \n",
       "65992                             0                          0  \n",
       "110968                            0                          2  \n",
       "14150                             0                          0  \n",
       "116903                            0                          1  \n",
       "42135                             0                          0  "
      ]
     },
     "execution_count": 86,
     "metadata": {},
     "output_type": "execute_result"
    }
   ],
   "source": [
    "X_train[numerical_variables].head()"
   ]
  },
  {
   "cell_type": "code",
   "execution_count": 87,
   "id": "3884bcc7",
   "metadata": {
    "scrolled": false
   },
   "outputs": [
    {
     "data": {
      "text/plain": [
       "['hotel',\n",
       " 'meal',\n",
       " 'country',\n",
       " 'market_segment',\n",
       " 'distribution_channel',\n",
       " 'reserved_room_type',\n",
       " 'deposit_type',\n",
       " 'customer_type']"
      ]
     },
     "execution_count": 87,
     "metadata": {},
     "output_type": "execute_result"
    }
   ],
   "source": [
    "categorical_variables"
   ]
  },
  {
   "cell_type": "code",
   "execution_count": 88,
   "id": "16cadfe4",
   "metadata": {},
   "outputs": [
    {
     "data": {
      "text/plain": [
       "['country']"
      ]
     },
     "execution_count": 88,
     "metadata": {},
     "output_type": "execute_result"
    }
   ],
   "source": [
    "country_variable = [categorical_variables[2]]\n",
    "country_variable"
   ]
  },
  {
   "cell_type": "code",
   "execution_count": 90,
   "id": "9d8f8cea",
   "metadata": {
    "scrolled": true
   },
   "outputs": [
    {
     "data": {
      "text/plain": [
       "['hotel',\n",
       " 'meal',\n",
       " 'market_segment',\n",
       " 'distribution_channel',\n",
       " 'deposit_type',\n",
       " 'customer_type']"
      ]
     },
     "execution_count": 90,
     "metadata": {},
     "output_type": "execute_result"
    }
   ],
   "source": [
    "other_variables = []\n",
    "for i in categorical_variables:\n",
    "    if i not in ['country', 'reserved_room_type']:\n",
    "        other_variables.append(i)\n",
    "    else:\n",
    "        pass\n",
    "        \n",
    "other_variables"
   ]
  },
  {
   "cell_type": "markdown",
   "id": "8f7c801b",
   "metadata": {},
   "source": [
    "### Random Forest"
   ]
  },
  {
   "cell_type": "markdown",
   "id": "73269b65",
   "metadata": {},
   "source": [
    "#### OHE"
   ]
  },
  {
   "cell_type": "code",
   "execution_count": 26,
   "id": "8df50b46",
   "metadata": {},
   "outputs": [],
   "source": [
    "pd.set_option('max_colwidth', None)\n",
    "\n",
    "other_variables_pipe = Pipeline([('encoder_other_variables', OneHotEncoder(handle_unknown= 'ignore'))])\n",
    "country_pipe = Pipeline([('encoder_country', OneHotEncoder(handle_unknown= 'ignore'))]) \n",
    "num_pipe = Pipeline([('num', StandardScaler())])\n",
    "   \n",
    "transformer = ColumnTransformer([('other_variables_transf', other_variables_pipe, other_variables), \n",
    "                                 ('country_transf', country_pipe, country_variable), \n",
    "                                 ('num_transf', num_pipe, numerical_variables)])\n",
    "\n",
    "rf = RandomForestClassifier(n_estimators= 100, random_state= 4)\n",
    "\n",
    "pipe = Pipeline([('transformer', transformer), ('model', rf)])\n",
    "\n",
    "weights = np.arange(0.2, 0.8, 0.005)\n",
    "param_grid = {'model__min_samples_leaf':[1,2,3,4,5,6,7,8,9,10], \n",
    "              'model__class_weight':[{0:x, 1:1-x} for x in weights]}\n",
    "\n",
    "rscv_rf = RandomizedSearchCV(pipe, param_grid, cv= 10, n_jobs= -1, \n",
    "                    scoring= ['recall', 'precision', 'f1', 'roc_auc'], refit= 'f1', return_train_score= True, random_state= 4)\n",
    "\n",
    "rscv_rf.fit(X_train, y_train)\n",
    "\n",
    "best_results = pd.DataFrame(rscv_rf.cv_results_)"
   ]
  },
  {
   "cell_type": "code",
   "execution_count": 27,
   "id": "5a4cbc96",
   "metadata": {
    "scrolled": true
   },
   "outputs": [
    {
     "data": {
      "text/html": [
       "<div>\n",
       "<style scoped>\n",
       "    .dataframe tbody tr th:only-of-type {\n",
       "        vertical-align: middle;\n",
       "    }\n",
       "\n",
       "    .dataframe tbody tr th {\n",
       "        vertical-align: top;\n",
       "    }\n",
       "\n",
       "    .dataframe thead th {\n",
       "        text-align: right;\n",
       "    }\n",
       "</style>\n",
       "<table border=\"1\" class=\"dataframe\">\n",
       "  <thead>\n",
       "    <tr style=\"text-align: right;\">\n",
       "      <th></th>\n",
       "      <th>params</th>\n",
       "      <th>mean_train_recall</th>\n",
       "      <th>mean_test_recall</th>\n",
       "      <th>mean_train_precision</th>\n",
       "      <th>mean_test_precision</th>\n",
       "      <th>mean_train_f1</th>\n",
       "      <th>mean_test_f1</th>\n",
       "      <th>mean_train_roc_auc</th>\n",
       "      <th>mean_test_roc_auc</th>\n",
       "    </tr>\n",
       "  </thead>\n",
       "  <tbody>\n",
       "    <tr>\n",
       "      <th>4</th>\n",
       "      <td>{'model__min_samples_leaf': 1, 'model__class_weight': {0: 0.38000000000000017, 1: 0.6199999999999999}}</td>\n",
       "      <td>1.00</td>\n",
       "      <td>0.79</td>\n",
       "      <td>0.99</td>\n",
       "      <td>0.87</td>\n",
       "      <td>0.99</td>\n",
       "      <td>0.83</td>\n",
       "      <td>1.00</td>\n",
       "      <td>0.95</td>\n",
       "    </tr>\n",
       "    <tr>\n",
       "      <th>7</th>\n",
       "      <td>{'model__min_samples_leaf': 4, 'model__class_weight': {0: 0.3950000000000002, 1: 0.6049999999999998}}</td>\n",
       "      <td>0.86</td>\n",
       "      <td>0.80</td>\n",
       "      <td>0.87</td>\n",
       "      <td>0.83</td>\n",
       "      <td>0.87</td>\n",
       "      <td>0.82</td>\n",
       "      <td>0.97</td>\n",
       "      <td>0.94</td>\n",
       "    </tr>\n",
       "    <tr>\n",
       "      <th>1</th>\n",
       "      <td>{'model__min_samples_leaf': 5, 'model__class_weight': {0: 0.2850000000000001, 1: 0.7149999999999999}}</td>\n",
       "      <td>0.92</td>\n",
       "      <td>0.87</td>\n",
       "      <td>0.80</td>\n",
       "      <td>0.76</td>\n",
       "      <td>0.86</td>\n",
       "      <td>0.81</td>\n",
       "      <td>0.97</td>\n",
       "      <td>0.94</td>\n",
       "    </tr>\n",
       "    <tr>\n",
       "      <th>5</th>\n",
       "      <td>{'model__min_samples_leaf': 7, 'model__class_weight': {0: 0.4250000000000002, 1: 0.5749999999999997}}</td>\n",
       "      <td>0.81</td>\n",
       "      <td>0.78</td>\n",
       "      <td>0.86</td>\n",
       "      <td>0.84</td>\n",
       "      <td>0.84</td>\n",
       "      <td>0.81</td>\n",
       "      <td>0.96</td>\n",
       "      <td>0.94</td>\n",
       "    </tr>\n",
       "    <tr>\n",
       "      <th>2</th>\n",
       "      <td>{'model__min_samples_leaf': 10, 'model__class_weight': {0: 0.4150000000000002, 1: 0.5849999999999997}}</td>\n",
       "      <td>0.81</td>\n",
       "      <td>0.78</td>\n",
       "      <td>0.85</td>\n",
       "      <td>0.83</td>\n",
       "      <td>0.83</td>\n",
       "      <td>0.81</td>\n",
       "      <td>0.95</td>\n",
       "      <td>0.93</td>\n",
       "    </tr>\n",
       "    <tr>\n",
       "      <th>9</th>\n",
       "      <td>{'model__min_samples_leaf': 10, 'model__class_weight': {0: 0.25000000000000006, 1: 0.75}}</td>\n",
       "      <td>0.93</td>\n",
       "      <td>0.90</td>\n",
       "      <td>0.72</td>\n",
       "      <td>0.70</td>\n",
       "      <td>0.81</td>\n",
       "      <td>0.79</td>\n",
       "      <td>0.95</td>\n",
       "      <td>0.93</td>\n",
       "    </tr>\n",
       "    <tr>\n",
       "      <th>3</th>\n",
       "      <td>{'model__min_samples_leaf': 10, 'model__class_weight': {0: 0.5500000000000003, 1: 0.44999999999999973}}</td>\n",
       "      <td>0.71</td>\n",
       "      <td>0.69</td>\n",
       "      <td>0.91</td>\n",
       "      <td>0.89</td>\n",
       "      <td>0.79</td>\n",
       "      <td>0.78</td>\n",
       "      <td>0.95</td>\n",
       "      <td>0.93</td>\n",
       "    </tr>\n",
       "    <tr>\n",
       "      <th>6</th>\n",
       "      <td>{'model__min_samples_leaf': 9, 'model__class_weight': {0: 0.6050000000000004, 1: 0.3949999999999996}}</td>\n",
       "      <td>0.67</td>\n",
       "      <td>0.65</td>\n",
       "      <td>0.94</td>\n",
       "      <td>0.92</td>\n",
       "      <td>0.78</td>\n",
       "      <td>0.76</td>\n",
       "      <td>0.95</td>\n",
       "      <td>0.93</td>\n",
       "    </tr>\n",
       "    <tr>\n",
       "      <th>8</th>\n",
       "      <td>{'model__min_samples_leaf': 3, 'model__class_weight': {0: 0.7400000000000004, 1: 0.25999999999999956}}</td>\n",
       "      <td>0.66</td>\n",
       "      <td>0.60</td>\n",
       "      <td>0.99</td>\n",
       "      <td>0.95</td>\n",
       "      <td>0.79</td>\n",
       "      <td>0.74</td>\n",
       "      <td>0.98</td>\n",
       "      <td>0.94</td>\n",
       "    </tr>\n",
       "    <tr>\n",
       "      <th>0</th>\n",
       "      <td>{'model__min_samples_leaf': 7, 'model__class_weight': {0: 0.7700000000000005, 1: 0.22999999999999954}}</td>\n",
       "      <td>0.51</td>\n",
       "      <td>0.49</td>\n",
       "      <td>1.00</td>\n",
       "      <td>0.98</td>\n",
       "      <td>0.68</td>\n",
       "      <td>0.66</td>\n",
       "      <td>0.96</td>\n",
       "      <td>0.94</td>\n",
       "    </tr>\n",
       "  </tbody>\n",
       "</table>\n",
       "</div>"
      ],
      "text/plain": [
       "                                                                                                    params  \\\n",
       "4   {'model__min_samples_leaf': 1, 'model__class_weight': {0: 0.38000000000000017, 1: 0.6199999999999999}}   \n",
       "7    {'model__min_samples_leaf': 4, 'model__class_weight': {0: 0.3950000000000002, 1: 0.6049999999999998}}   \n",
       "1    {'model__min_samples_leaf': 5, 'model__class_weight': {0: 0.2850000000000001, 1: 0.7149999999999999}}   \n",
       "5    {'model__min_samples_leaf': 7, 'model__class_weight': {0: 0.4250000000000002, 1: 0.5749999999999997}}   \n",
       "2   {'model__min_samples_leaf': 10, 'model__class_weight': {0: 0.4150000000000002, 1: 0.5849999999999997}}   \n",
       "9                {'model__min_samples_leaf': 10, 'model__class_weight': {0: 0.25000000000000006, 1: 0.75}}   \n",
       "3  {'model__min_samples_leaf': 10, 'model__class_weight': {0: 0.5500000000000003, 1: 0.44999999999999973}}   \n",
       "6    {'model__min_samples_leaf': 9, 'model__class_weight': {0: 0.6050000000000004, 1: 0.3949999999999996}}   \n",
       "8   {'model__min_samples_leaf': 3, 'model__class_weight': {0: 0.7400000000000004, 1: 0.25999999999999956}}   \n",
       "0   {'model__min_samples_leaf': 7, 'model__class_weight': {0: 0.7700000000000005, 1: 0.22999999999999954}}   \n",
       "\n",
       "   mean_train_recall  mean_test_recall  mean_train_precision  \\\n",
       "4               1.00              0.79                  0.99   \n",
       "7               0.86              0.80                  0.87   \n",
       "1               0.92              0.87                  0.80   \n",
       "5               0.81              0.78                  0.86   \n",
       "2               0.81              0.78                  0.85   \n",
       "9               0.93              0.90                  0.72   \n",
       "3               0.71              0.69                  0.91   \n",
       "6               0.67              0.65                  0.94   \n",
       "8               0.66              0.60                  0.99   \n",
       "0               0.51              0.49                  1.00   \n",
       "\n",
       "   mean_test_precision  mean_train_f1  mean_test_f1  mean_train_roc_auc  \\\n",
       "4                 0.87           0.99          0.83                1.00   \n",
       "7                 0.83           0.87          0.82                0.97   \n",
       "1                 0.76           0.86          0.81                0.97   \n",
       "5                 0.84           0.84          0.81                0.96   \n",
       "2                 0.83           0.83          0.81                0.95   \n",
       "9                 0.70           0.81          0.79                0.95   \n",
       "3                 0.89           0.79          0.78                0.95   \n",
       "6                 0.92           0.78          0.76                0.95   \n",
       "8                 0.95           0.79          0.74                0.98   \n",
       "0                 0.98           0.68          0.66                0.96   \n",
       "\n",
       "   mean_test_roc_auc  \n",
       "4               0.95  \n",
       "7               0.94  \n",
       "1               0.94  \n",
       "5               0.94  \n",
       "2               0.93  \n",
       "9               0.93  \n",
       "3               0.93  \n",
       "6               0.93  \n",
       "8               0.94  \n",
       "0               0.94  "
      ]
     },
     "execution_count": 27,
     "metadata": {},
     "output_type": "execute_result"
    }
   ],
   "source": [
    "best_results[['params','mean_train_recall', 'mean_test_recall', 'mean_train_precision', 'mean_test_precision', \n",
    "              'mean_train_f1', 'mean_test_f1', 'mean_train_roc_auc', 'mean_test_roc_auc']].sort_values(\n",
    "                                                                                'mean_test_f1', ascending= False).round(2)"
   ]
  },
  {
   "cell_type": "code",
   "execution_count": 29,
   "id": "c4487037",
   "metadata": {},
   "outputs": [
    {
     "name": "stdout",
     "output_type": "stream",
     "text": [
      "{'model__min_samples_leaf': 1, 'model__class_weight': {0: 0.38000000000000017, 1: 0.6199999999999999}}\n",
      "\n",
      "              precision    recall  f1-score   support\n",
      "\n",
      "           0       0.89      0.93      0.91     23067\n",
      "           1       0.87      0.80      0.83     13578\n",
      "\n",
      "    accuracy                           0.88     36645\n",
      "   macro avg       0.88      0.87      0.87     36645\n",
      "weighted avg       0.88      0.88      0.88     36645\n",
      "\n"
     ]
    }
   ],
   "source": [
    "print(rscv_rf.best_params_)\n",
    "print('')\n",
    "\n",
    "y_pred = rscv_rf.predict(X_test)\n",
    "\n",
    "print(classification_report(y_test, y_pred))"
   ]
  },
  {
   "cell_type": "markdown",
   "id": "71e31ad2",
   "metadata": {},
   "source": [
    "#### OHE + JamesStein"
   ]
  },
  {
   "cell_type": "code",
   "execution_count": 26,
   "id": "368ef743",
   "metadata": {},
   "outputs": [],
   "source": [
    "other_variables_pipe = Pipeline([('encoder_other_variables', OneHotEncoder(handle_unknown= 'ignore'))])\n",
    "country_pipe = Pipeline([('encoder_country', JamesSteinEncoder())])\n",
    "num_pipe = Pipeline([('num', StandardScaler())])\n",
    "   \n",
    "transformer = ColumnTransformer([('other_variables_transf', other_variables_pipe, other_variables), \n",
    "                                 ('country_transf', country_pipe, country_variable), \n",
    "                                 ('num_transf', num_pipe, numerical_variables)])\n",
    "\n",
    "rf = RandomForestClassifier(n_estimators= 100, random_state= 4)\n",
    "\n",
    "pipe = Pipeline([('transformer', transformer), ('model', rf)])\n",
    "\n",
    "weights = np.arange(0.2, 0.8, 0.005)\n",
    "param_grid = {'model__min_samples_leaf':[1,2,3,4,5,6,7,8,9,10], \n",
    "              'model__class_weight':[{0:x, 1:1-x} for x in weights]}\n",
    "\n",
    "rscv_ohe_jss = RandomizedSearchCV(pipe, param_grid, cv= 10, n_jobs= -1, \n",
    "                    scoring= ['recall', 'precision', 'f1', 'roc_auc'], refit= 'f1', return_train_score= True, random_state= 4)\n",
    "\n",
    "rscv_ohe_jss.fit(X_train, y_train)\n",
    "\n",
    "end=time.time()\n",
    "\n",
    "best_results = pd.DataFrame(rscv_ohe_jss.cv_results_)"
   ]
  },
  {
   "cell_type": "code",
   "execution_count": 27,
   "id": "d87f4446",
   "metadata": {},
   "outputs": [
    {
     "data": {
      "text/html": [
       "<div>\n",
       "<style scoped>\n",
       "    .dataframe tbody tr th:only-of-type {\n",
       "        vertical-align: middle;\n",
       "    }\n",
       "\n",
       "    .dataframe tbody tr th {\n",
       "        vertical-align: top;\n",
       "    }\n",
       "\n",
       "    .dataframe thead th {\n",
       "        text-align: right;\n",
       "    }\n",
       "</style>\n",
       "<table border=\"1\" class=\"dataframe\">\n",
       "  <thead>\n",
       "    <tr style=\"text-align: right;\">\n",
       "      <th></th>\n",
       "      <th>params</th>\n",
       "      <th>mean_train_recall</th>\n",
       "      <th>mean_test_recall</th>\n",
       "      <th>mean_train_precision</th>\n",
       "      <th>mean_test_precision</th>\n",
       "      <th>mean_train_f1</th>\n",
       "      <th>mean_test_f1</th>\n",
       "      <th>mean_train_roc_auc</th>\n",
       "      <th>mean_test_roc_auc</th>\n",
       "    </tr>\n",
       "  </thead>\n",
       "  <tbody>\n",
       "    <tr>\n",
       "      <th>9</th>\n",
       "      <td>{'model__min_samples_leaf': 6, 'model__class_w...</td>\n",
       "      <td>0.88</td>\n",
       "      <td>0.82</td>\n",
       "      <td>0.78</td>\n",
       "      <td>0.74</td>\n",
       "      <td>0.82</td>\n",
       "      <td>0.78</td>\n",
       "      <td>0.95</td>\n",
       "      <td>0.91</td>\n",
       "    </tr>\n",
       "    <tr>\n",
       "      <th>1</th>\n",
       "      <td>{'model__min_samples_leaf': 3, 'model__class_w...</td>\n",
       "      <td>0.96</td>\n",
       "      <td>0.87</td>\n",
       "      <td>0.77</td>\n",
       "      <td>0.70</td>\n",
       "      <td>0.85</td>\n",
       "      <td>0.78</td>\n",
       "      <td>0.97</td>\n",
       "      <td>0.92</td>\n",
       "    </tr>\n",
       "    <tr>\n",
       "      <th>6</th>\n",
       "      <td>{'model__min_samples_leaf': 8, 'model__class_w...</td>\n",
       "      <td>0.76</td>\n",
       "      <td>0.73</td>\n",
       "      <td>0.85</td>\n",
       "      <td>0.82</td>\n",
       "      <td>0.80</td>\n",
       "      <td>0.77</td>\n",
       "      <td>0.94</td>\n",
       "      <td>0.91</td>\n",
       "    </tr>\n",
       "    <tr>\n",
       "      <th>2</th>\n",
       "      <td>{'model__min_samples_leaf': 2, 'model__class_w...</td>\n",
       "      <td>0.75</td>\n",
       "      <td>0.66</td>\n",
       "      <td>0.98</td>\n",
       "      <td>0.91</td>\n",
       "      <td>0.85</td>\n",
       "      <td>0.76</td>\n",
       "      <td>0.98</td>\n",
       "      <td>0.92</td>\n",
       "    </tr>\n",
       "    <tr>\n",
       "      <th>4</th>\n",
       "      <td>{'model__min_samples_leaf': 8, 'model__class_w...</td>\n",
       "      <td>0.71</td>\n",
       "      <td>0.69</td>\n",
       "      <td>0.87</td>\n",
       "      <td>0.86</td>\n",
       "      <td>0.78</td>\n",
       "      <td>0.76</td>\n",
       "      <td>0.94</td>\n",
       "      <td>0.91</td>\n",
       "    </tr>\n",
       "    <tr>\n",
       "      <th>8</th>\n",
       "      <td>{'model__min_samples_leaf': 10, 'model__class_...</td>\n",
       "      <td>0.90</td>\n",
       "      <td>0.86</td>\n",
       "      <td>0.70</td>\n",
       "      <td>0.68</td>\n",
       "      <td>0.79</td>\n",
       "      <td>0.76</td>\n",
       "      <td>0.93</td>\n",
       "      <td>0.91</td>\n",
       "    </tr>\n",
       "    <tr>\n",
       "      <th>0</th>\n",
       "      <td>{'model__min_samples_leaf': 8, 'model__class_w...</td>\n",
       "      <td>0.68</td>\n",
       "      <td>0.66</td>\n",
       "      <td>0.89</td>\n",
       "      <td>0.87</td>\n",
       "      <td>0.77</td>\n",
       "      <td>0.75</td>\n",
       "      <td>0.94</td>\n",
       "      <td>0.91</td>\n",
       "    </tr>\n",
       "    <tr>\n",
       "      <th>3</th>\n",
       "      <td>{'model__min_samples_leaf': 6, 'model__class_w...</td>\n",
       "      <td>0.68</td>\n",
       "      <td>0.66</td>\n",
       "      <td>0.90</td>\n",
       "      <td>0.88</td>\n",
       "      <td>0.77</td>\n",
       "      <td>0.75</td>\n",
       "      <td>0.94</td>\n",
       "      <td>0.91</td>\n",
       "    </tr>\n",
       "    <tr>\n",
       "      <th>7</th>\n",
       "      <td>{'model__min_samples_leaf': 6, 'model__class_w...</td>\n",
       "      <td>0.66</td>\n",
       "      <td>0.64</td>\n",
       "      <td>0.91</td>\n",
       "      <td>0.89</td>\n",
       "      <td>0.77</td>\n",
       "      <td>0.74</td>\n",
       "      <td>0.95</td>\n",
       "      <td>0.91</td>\n",
       "    </tr>\n",
       "    <tr>\n",
       "      <th>5</th>\n",
       "      <td>{'model__min_samples_leaf': 8, 'model__class_w...</td>\n",
       "      <td>0.64</td>\n",
       "      <td>0.62</td>\n",
       "      <td>0.91</td>\n",
       "      <td>0.89</td>\n",
       "      <td>0.75</td>\n",
       "      <td>0.73</td>\n",
       "      <td>0.94</td>\n",
       "      <td>0.91</td>\n",
       "    </tr>\n",
       "  </tbody>\n",
       "</table>\n",
       "</div>"
      ],
      "text/plain": [
       "                                              params  mean_train_recall  \\\n",
       "9  {'model__min_samples_leaf': 6, 'model__class_w...               0.88   \n",
       "1  {'model__min_samples_leaf': 3, 'model__class_w...               0.96   \n",
       "6  {'model__min_samples_leaf': 8, 'model__class_w...               0.76   \n",
       "2  {'model__min_samples_leaf': 2, 'model__class_w...               0.75   \n",
       "4  {'model__min_samples_leaf': 8, 'model__class_w...               0.71   \n",
       "8  {'model__min_samples_leaf': 10, 'model__class_...               0.90   \n",
       "0  {'model__min_samples_leaf': 8, 'model__class_w...               0.68   \n",
       "3  {'model__min_samples_leaf': 6, 'model__class_w...               0.68   \n",
       "7  {'model__min_samples_leaf': 6, 'model__class_w...               0.66   \n",
       "5  {'model__min_samples_leaf': 8, 'model__class_w...               0.64   \n",
       "\n",
       "   mean_test_recall  mean_train_precision  mean_test_precision  mean_train_f1  \\\n",
       "9              0.82                  0.78                 0.74           0.82   \n",
       "1              0.87                  0.77                 0.70           0.85   \n",
       "6              0.73                  0.85                 0.82           0.80   \n",
       "2              0.66                  0.98                 0.91           0.85   \n",
       "4              0.69                  0.87                 0.86           0.78   \n",
       "8              0.86                  0.70                 0.68           0.79   \n",
       "0              0.66                  0.89                 0.87           0.77   \n",
       "3              0.66                  0.90                 0.88           0.77   \n",
       "7              0.64                  0.91                 0.89           0.77   \n",
       "5              0.62                  0.91                 0.89           0.75   \n",
       "\n",
       "   mean_test_f1  mean_train_roc_auc  mean_test_roc_auc  \n",
       "9          0.78                0.95               0.91  \n",
       "1          0.78                0.97               0.92  \n",
       "6          0.77                0.94               0.91  \n",
       "2          0.76                0.98               0.92  \n",
       "4          0.76                0.94               0.91  \n",
       "8          0.76                0.93               0.91  \n",
       "0          0.75                0.94               0.91  \n",
       "3          0.75                0.94               0.91  \n",
       "7          0.74                0.95               0.91  \n",
       "5          0.73                0.94               0.91  "
      ]
     },
     "execution_count": 27,
     "metadata": {},
     "output_type": "execute_result"
    }
   ],
   "source": [
    "best_results[['params','mean_train_recall', 'mean_test_recall', 'mean_train_precision', 'mean_test_precision', \n",
    "              'mean_train_f1', 'mean_test_f1', 'mean_train_roc_auc', 'mean_test_roc_auc']].sort_values(\n",
    "                                                                                'mean_test_f1', ascending= False).round(2)"
   ]
  },
  {
   "cell_type": "code",
   "execution_count": 29,
   "id": "0352f228",
   "metadata": {},
   "outputs": [
    {
     "name": "stdout",
     "output_type": "stream",
     "text": [
      "{'model__min_samples_leaf': 6, 'model__class_weight': {0: 0.2900000000000001, 1: 0.71}}\n",
      "\n",
      "              precision    recall  f1-score   support\n",
      "\n",
      "           0       0.90      0.83      0.86     23067\n",
      "           1       0.75      0.83      0.79     13578\n",
      "\n",
      "    accuracy                           0.83     36645\n",
      "   macro avg       0.82      0.83      0.83     36645\n",
      "weighted avg       0.84      0.83      0.84     36645\n",
      "\n"
     ]
    }
   ],
   "source": [
    "print(rscv_ohe_jss.best_params_)\n",
    "print('')\n",
    "\n",
    "y_pred = rscv_ohe_jss.predict(X_test)\n",
    "\n",
    "print(classification_report(y_test, y_pred))\n",
    "\n",
    "pd.reset_option('max.colwidth')"
   ]
  },
  {
   "cell_type": "code",
   "execution_count": 30,
   "id": "34339d4d",
   "metadata": {},
   "outputs": [
    {
     "data": {
      "text/plain": [
       "['random_forest_model']"
      ]
     },
     "execution_count": 30,
     "metadata": {},
     "output_type": "execute_result"
    }
   ],
   "source": [
    "jb.dump(rscv_rf, 'random_forest_model')"
   ]
  },
  {
   "cell_type": "markdown",
   "id": "3502dc67",
   "metadata": {},
   "source": [
    "### Análise das Features  do modelo "
   ]
  },
  {
   "cell_type": "code",
   "execution_count": 458,
   "id": "a9242a23",
   "metadata": {
    "scrolled": true
   },
   "outputs": [
    {
     "data": {
      "text/html": [
       "<style type=\"text/css\">\n",
       "#T_57f92_row0_col0 {\n",
       "  width: 10em;\n",
       "  background: linear-gradient(90deg, green 100.0%, transparent 100.0%);\n",
       "}\n",
       "#T_57f92_row1_col0 {\n",
       "  width: 10em;\n",
       "  background: linear-gradient(90deg, green 66.7%, transparent 66.7%);\n",
       "}\n",
       "#T_57f92_row2_col0, #T_57f92_row3_col0 {\n",
       "  width: 10em;\n",
       "  background: linear-gradient(90deg, green 60.0%, transparent 60.0%);\n",
       "}\n",
       "#T_57f92_row4_col0 {\n",
       "  width: 10em;\n",
       "  background: linear-gradient(90deg, green 53.3%, transparent 53.3%);\n",
       "}\n",
       "#T_57f92_row5_col0, #T_57f92_row6_col0 {\n",
       "  width: 10em;\n",
       "  background: linear-gradient(90deg, green 40.0%, transparent 40.0%);\n",
       "}\n",
       "#T_57f92_row7_col0 {\n",
       "  width: 10em;\n",
       "  background: linear-gradient(90deg, green 33.3%, transparent 33.3%);\n",
       "}\n",
       "#T_57f92_row8_col0, #T_57f92_row9_col0 {\n",
       "  width: 10em;\n",
       "  background: linear-gradient(90deg, green 20.0%, transparent 20.0%);\n",
       "}\n",
       "#T_57f92_row10_col0, #T_57f92_row11_col0, #T_57f92_row12_col0, #T_57f92_row13_col0 {\n",
       "  width: 10em;\n",
       "  background: linear-gradient(90deg, green 13.3%, transparent 13.3%);\n",
       "}\n",
       "#T_57f92_row14_col0, #T_57f92_row15_col0, #T_57f92_row16_col0, #T_57f92_row17_col0, #T_57f92_row18_col0, #T_57f92_row19_col0, #T_57f92_row20_col0, #T_57f92_row21_col0, #T_57f92_row22_col0, #T_57f92_row23_col0, #T_57f92_row24_col0, #T_57f92_row25_col0, #T_57f92_row26_col0, #T_57f92_row27_col0 {\n",
       "  width: 10em;\n",
       "  background: linear-gradient(90deg, green 6.7%, transparent 6.7%);\n",
       "}\n",
       "#T_57f92_row28_col0, #T_57f92_row29_col0, #T_57f92_row30_col0, #T_57f92_row31_col0, #T_57f92_row32_col0, #T_57f92_row33_col0, #T_57f92_row34_col0, #T_57f92_row35_col0, #T_57f92_row36_col0, #T_57f92_row37_col0, #T_57f92_row38_col0, #T_57f92_row39_col0, #T_57f92_row40_col0, #T_57f92_row41_col0, #T_57f92_row42_col0, #T_57f92_row43_col0, #T_57f92_row44_col0, #T_57f92_row45_col0, #T_57f92_row46_col0, #T_57f92_row47_col0, #T_57f92_row48_col0, #T_57f92_row49_col0, #T_57f92_row50_col0, #T_57f92_row51_col0, #T_57f92_row52_col0, #T_57f92_row53_col0, #T_57f92_row54_col0, #T_57f92_row55_col0, #T_57f92_row56_col0, #T_57f92_row57_col0, #T_57f92_row58_col0, #T_57f92_row59_col0, #T_57f92_row60_col0, #T_57f92_row61_col0, #T_57f92_row62_col0, #T_57f92_row63_col0, #T_57f92_row64_col0, #T_57f92_row65_col0, #T_57f92_row66_col0, #T_57f92_row67_col0, #T_57f92_row68_col0, #T_57f92_row69_col0, #T_57f92_row70_col0, #T_57f92_row71_col0 {\n",
       "  width: 10em;\n",
       "}\n",
       "</style>\n",
       "<table id=\"T_57f92\">\n",
       "  <thead>\n",
       "    <tr>\n",
       "      <th class=\"blank level0\" >&nbsp;</th>\n",
       "      <th id=\"T_57f92_level0_col0\" class=\"col_heading level0 col0\" >Importance</th>\n",
       "    </tr>\n",
       "  </thead>\n",
       "  <tbody>\n",
       "    <tr>\n",
       "      <th id=\"T_57f92_level0_row0\" class=\"row_heading level0 row0\" >num_transf__lead_time</th>\n",
       "      <td id=\"T_57f92_row0_col0\" class=\"data row0 col0\" >0.150000</td>\n",
       "    </tr>\n",
       "    <tr>\n",
       "      <th id=\"T_57f92_level0_row1\" class=\"row_heading level0 row1\" >num_transf__adr</th>\n",
       "      <td id=\"T_57f92_row1_col0\" class=\"data row1 col0\" >0.100000</td>\n",
       "    </tr>\n",
       "    <tr>\n",
       "      <th id=\"T_57f92_level0_row2\" class=\"row_heading level0 row2\" >other_variables_transf__deposit_type_No Deposit</th>\n",
       "      <td id=\"T_57f92_row2_col0\" class=\"data row2 col0\" >0.090000</td>\n",
       "    </tr>\n",
       "    <tr>\n",
       "      <th id=\"T_57f92_level0_row3\" class=\"row_heading level0 row3\" >num_transf__arrival_date_week_number</th>\n",
       "      <td id=\"T_57f92_row3_col0\" class=\"data row3 col0\" >0.090000</td>\n",
       "    </tr>\n",
       "    <tr>\n",
       "      <th id=\"T_57f92_level0_row4\" class=\"row_heading level0 row4\" >other_variables_transf__deposit_type_Non Refund</th>\n",
       "      <td id=\"T_57f92_row4_col0\" class=\"data row4 col0\" >0.080000</td>\n",
       "    </tr>\n",
       "    <tr>\n",
       "      <th id=\"T_57f92_level0_row5\" class=\"row_heading level0 row5\" >country_transf__country_PRT</th>\n",
       "      <td id=\"T_57f92_row5_col0\" class=\"data row5 col0\" >0.060000</td>\n",
       "    </tr>\n",
       "    <tr>\n",
       "      <th id=\"T_57f92_level0_row6\" class=\"row_heading level0 row6\" >num_transf__total_of_special_requests</th>\n",
       "      <td id=\"T_57f92_row6_col0\" class=\"data row6 col0\" >0.060000</td>\n",
       "    </tr>\n",
       "    <tr>\n",
       "      <th id=\"T_57f92_level0_row7\" class=\"row_heading level0 row7\" >num_transf__stays_in_week_nights</th>\n",
       "      <td id=\"T_57f92_row7_col0\" class=\"data row7 col0\" >0.050000</td>\n",
       "    </tr>\n",
       "    <tr>\n",
       "      <th id=\"T_57f92_level0_row8\" class=\"row_heading level0 row8\" >num_transf__previous_cancellations</th>\n",
       "      <td id=\"T_57f92_row8_col0\" class=\"data row8 col0\" >0.030000</td>\n",
       "    </tr>\n",
       "    <tr>\n",
       "      <th id=\"T_57f92_level0_row9\" class=\"row_heading level0 row9\" >num_transf__stays_in_weekend_nights</th>\n",
       "      <td id=\"T_57f92_row9_col0\" class=\"data row9 col0\" >0.030000</td>\n",
       "    </tr>\n",
       "    <tr>\n",
       "      <th id=\"T_57f92_level0_row10\" class=\"row_heading level0 row10\" >num_transf__booking_changes</th>\n",
       "      <td id=\"T_57f92_row10_col0\" class=\"data row10 col0\" >0.020000</td>\n",
       "    </tr>\n",
       "    <tr>\n",
       "      <th id=\"T_57f92_level0_row11\" class=\"row_heading level0 row11\" >other_variables_transf__market_segment_Online TA</th>\n",
       "      <td id=\"T_57f92_row11_col0\" class=\"data row11 col0\" >0.020000</td>\n",
       "    </tr>\n",
       "    <tr>\n",
       "      <th id=\"T_57f92_level0_row12\" class=\"row_heading level0 row12\" >num_transf__required_car_parking_spaces</th>\n",
       "      <td id=\"T_57f92_row12_col0\" class=\"data row12 col0\" >0.020000</td>\n",
       "    </tr>\n",
       "    <tr>\n",
       "      <th id=\"T_57f92_level0_row13\" class=\"row_heading level0 row13\" >num_transf__adults</th>\n",
       "      <td id=\"T_57f92_row13_col0\" class=\"data row13 col0\" >0.020000</td>\n",
       "    </tr>\n",
       "    <tr>\n",
       "      <th id=\"T_57f92_level0_row14\" class=\"row_heading level0 row14\" >other_variables_transf__customer_type_Transient</th>\n",
       "      <td id=\"T_57f92_row14_col0\" class=\"data row14 col0\" >0.010000</td>\n",
       "    </tr>\n",
       "    <tr>\n",
       "      <th id=\"T_57f92_level0_row15\" class=\"row_heading level0 row15\" >other_variables_transf__market_segment_Offline TA/TO</th>\n",
       "      <td id=\"T_57f92_row15_col0\" class=\"data row15 col0\" >0.010000</td>\n",
       "    </tr>\n",
       "    <tr>\n",
       "      <th id=\"T_57f92_level0_row16\" class=\"row_heading level0 row16\" >other_variables_transf__customer_type_Transient-Party</th>\n",
       "      <td id=\"T_57f92_row16_col0\" class=\"data row16 col0\" >0.010000</td>\n",
       "    </tr>\n",
       "    <tr>\n",
       "      <th id=\"T_57f92_level0_row17\" class=\"row_heading level0 row17\" >other_variables_transf__market_segment_Groups</th>\n",
       "      <td id=\"T_57f92_row17_col0\" class=\"data row17 col0\" >0.010000</td>\n",
       "    </tr>\n",
       "    <tr>\n",
       "      <th id=\"T_57f92_level0_row18\" class=\"row_heading level0 row18\" >other_variables_transf__distribution_channel_TA/TO</th>\n",
       "      <td id=\"T_57f92_row18_col0\" class=\"data row18 col0\" >0.010000</td>\n",
       "    </tr>\n",
       "    <tr>\n",
       "      <th id=\"T_57f92_level0_row19\" class=\"row_heading level0 row19\" >other_variables_transf__hotel_City Hotel</th>\n",
       "      <td id=\"T_57f92_row19_col0\" class=\"data row19 col0\" >0.010000</td>\n",
       "    </tr>\n",
       "    <tr>\n",
       "      <th id=\"T_57f92_level0_row20\" class=\"row_heading level0 row20\" >num_transf__children</th>\n",
       "      <td id=\"T_57f92_row20_col0\" class=\"data row20 col0\" >0.010000</td>\n",
       "    </tr>\n",
       "    <tr>\n",
       "      <th id=\"T_57f92_level0_row21\" class=\"row_heading level0 row21\" >other_variables_transf__reserved_room_type_A</th>\n",
       "      <td id=\"T_57f92_row21_col0\" class=\"data row21 col0\" >0.010000</td>\n",
       "    </tr>\n",
       "    <tr>\n",
       "      <th id=\"T_57f92_level0_row22\" class=\"row_heading level0 row22\" >country_transf__country_GBR</th>\n",
       "      <td id=\"T_57f92_row22_col0\" class=\"data row22 col0\" >0.010000</td>\n",
       "    </tr>\n",
       "    <tr>\n",
       "      <th id=\"T_57f92_level0_row23\" class=\"row_heading level0 row23\" >other_variables_transf__hotel_Resort Hotel</th>\n",
       "      <td id=\"T_57f92_row23_col0\" class=\"data row23 col0\" >0.010000</td>\n",
       "    </tr>\n",
       "    <tr>\n",
       "      <th id=\"T_57f92_level0_row24\" class=\"row_heading level0 row24\" >other_variables_transf__meal_BB</th>\n",
       "      <td id=\"T_57f92_row24_col0\" class=\"data row24 col0\" >0.010000</td>\n",
       "    </tr>\n",
       "    <tr>\n",
       "      <th id=\"T_57f92_level0_row25\" class=\"row_heading level0 row25\" >other_variables_transf__reserved_room_type_D</th>\n",
       "      <td id=\"T_57f92_row25_col0\" class=\"data row25 col0\" >0.010000</td>\n",
       "    </tr>\n",
       "    <tr>\n",
       "      <th id=\"T_57f92_level0_row26\" class=\"row_heading level0 row26\" >country_transf__country_FRA</th>\n",
       "      <td id=\"T_57f92_row26_col0\" class=\"data row26 col0\" >0.010000</td>\n",
       "    </tr>\n",
       "    <tr>\n",
       "      <th id=\"T_57f92_level0_row27\" class=\"row_heading level0 row27\" >country_transf__country_DEU</th>\n",
       "      <td id=\"T_57f92_row27_col0\" class=\"data row27 col0\" >0.010000</td>\n",
       "    </tr>\n",
       "    <tr>\n",
       "      <th id=\"T_57f92_level0_row28\" class=\"row_heading level0 row28\" >country_transf__country_ESP</th>\n",
       "      <td id=\"T_57f92_row28_col0\" class=\"data row28 col0\" >0.000000</td>\n",
       "    </tr>\n",
       "    <tr>\n",
       "      <th id=\"T_57f92_level0_row29\" class=\"row_heading level0 row29\" >other_variables_transf__meal_HB</th>\n",
       "      <td id=\"T_57f92_row29_col0\" class=\"data row29 col0\" >0.000000</td>\n",
       "    </tr>\n",
       "    <tr>\n",
       "      <th id=\"T_57f92_level0_row30\" class=\"row_heading level0 row30\" >country_transf__country_Other Country</th>\n",
       "      <td id=\"T_57f92_row30_col0\" class=\"data row30 col0\" >0.000000</td>\n",
       "    </tr>\n",
       "    <tr>\n",
       "      <th id=\"T_57f92_level0_row31\" class=\"row_heading level0 row31\" >other_variables_transf__market_segment_Direct</th>\n",
       "      <td id=\"T_57f92_row31_col0\" class=\"data row31 col0\" >0.000000</td>\n",
       "    </tr>\n",
       "    <tr>\n",
       "      <th id=\"T_57f92_level0_row32\" class=\"row_heading level0 row32\" >num_transf__days_in_waiting_list</th>\n",
       "      <td id=\"T_57f92_row32_col0\" class=\"data row32 col0\" >0.000000</td>\n",
       "    </tr>\n",
       "    <tr>\n",
       "      <th id=\"T_57f92_level0_row33\" class=\"row_heading level0 row33\" >other_variables_transf__distribution_channel_Direct</th>\n",
       "      <td id=\"T_57f92_row33_col0\" class=\"data row33 col0\" >0.000000</td>\n",
       "    </tr>\n",
       "    <tr>\n",
       "      <th id=\"T_57f92_level0_row34\" class=\"row_heading level0 row34\" >other_variables_transf__meal_SC</th>\n",
       "      <td id=\"T_57f92_row34_col0\" class=\"data row34 col0\" >0.000000</td>\n",
       "    </tr>\n",
       "    <tr>\n",
       "      <th id=\"T_57f92_level0_row35\" class=\"row_heading level0 row35\" >num_transf__previous_bookings_not_canceled</th>\n",
       "      <td id=\"T_57f92_row35_col0\" class=\"data row35 col0\" >0.000000</td>\n",
       "    </tr>\n",
       "    <tr>\n",
       "      <th id=\"T_57f92_level0_row36\" class=\"row_heading level0 row36\" >other_variables_transf__reserved_room_type_E</th>\n",
       "      <td id=\"T_57f92_row36_col0\" class=\"data row36 col0\" >0.000000</td>\n",
       "    </tr>\n",
       "    <tr>\n",
       "      <th id=\"T_57f92_level0_row37\" class=\"row_heading level0 row37\" >country_transf__country_IRL</th>\n",
       "      <td id=\"T_57f92_row37_col0\" class=\"data row37 col0\" >0.000000</td>\n",
       "    </tr>\n",
       "    <tr>\n",
       "      <th id=\"T_57f92_level0_row38\" class=\"row_heading level0 row38\" >country_transf__country_ITA</th>\n",
       "      <td id=\"T_57f92_row38_col0\" class=\"data row38 col0\" >0.000000</td>\n",
       "    </tr>\n",
       "    <tr>\n",
       "      <th id=\"T_57f92_level0_row39\" class=\"row_heading level0 row39\" >num_transf__is_repeated_guest</th>\n",
       "      <td id=\"T_57f92_row39_col0\" class=\"data row39 col0\" >0.000000</td>\n",
       "    </tr>\n",
       "    <tr>\n",
       "      <th id=\"T_57f92_level0_row40\" class=\"row_heading level0 row40\" >country_transf__country_BRA</th>\n",
       "      <td id=\"T_57f92_row40_col0\" class=\"data row40 col0\" >0.000000</td>\n",
       "    </tr>\n",
       "    <tr>\n",
       "      <th id=\"T_57f92_level0_row41\" class=\"row_heading level0 row41\" >other_variables_transf__market_segment_Corporate</th>\n",
       "      <td id=\"T_57f92_row41_col0\" class=\"data row41 col0\" >0.000000</td>\n",
       "    </tr>\n",
       "    <tr>\n",
       "      <th id=\"T_57f92_level0_row42\" class=\"row_heading level0 row42\" >country_transf__country_CHN</th>\n",
       "      <td id=\"T_57f92_row42_col0\" class=\"data row42 col0\" >0.000000</td>\n",
       "    </tr>\n",
       "    <tr>\n",
       "      <th id=\"T_57f92_level0_row43\" class=\"row_heading level0 row43\" >country_transf__country_USA</th>\n",
       "      <td id=\"T_57f92_row43_col0\" class=\"data row43 col0\" >0.000000</td>\n",
       "    </tr>\n",
       "    <tr>\n",
       "      <th id=\"T_57f92_level0_row44\" class=\"row_heading level0 row44\" >country_transf__country_CHE</th>\n",
       "      <td id=\"T_57f92_row44_col0\" class=\"data row44 col0\" >0.000000</td>\n",
       "    </tr>\n",
       "    <tr>\n",
       "      <th id=\"T_57f92_level0_row45\" class=\"row_heading level0 row45\" >country_transf__country_BEL</th>\n",
       "      <td id=\"T_57f92_row45_col0\" class=\"data row45 col0\" >0.000000</td>\n",
       "    </tr>\n",
       "    <tr>\n",
       "      <th id=\"T_57f92_level0_row46\" class=\"row_heading level0 row46\" >country_transf__country_NLD</th>\n",
       "      <td id=\"T_57f92_row46_col0\" class=\"data row46 col0\" >0.000000</td>\n",
       "    </tr>\n",
       "    <tr>\n",
       "      <th id=\"T_57f92_level0_row47\" class=\"row_heading level0 row47\" >other_variables_transf__reserved_room_type_F</th>\n",
       "      <td id=\"T_57f92_row47_col0\" class=\"data row47 col0\" >0.000000</td>\n",
       "    </tr>\n",
       "    <tr>\n",
       "      <th id=\"T_57f92_level0_row48\" class=\"row_heading level0 row48\" >other_variables_transf__distribution_channel_Corporate</th>\n",
       "      <td id=\"T_57f92_row48_col0\" class=\"data row48 col0\" >0.000000</td>\n",
       "    </tr>\n",
       "    <tr>\n",
       "      <th id=\"T_57f92_level0_row49\" class=\"row_heading level0 row49\" >other_variables_transf__customer_type_Contract</th>\n",
       "      <td id=\"T_57f92_row49_col0\" class=\"data row49 col0\" >0.000000</td>\n",
       "    </tr>\n",
       "    <tr>\n",
       "      <th id=\"T_57f92_level0_row50\" class=\"row_heading level0 row50\" >other_variables_transf__reserved_room_type_G</th>\n",
       "      <td id=\"T_57f92_row50_col0\" class=\"data row50 col0\" >0.000000</td>\n",
       "    </tr>\n",
       "    <tr>\n",
       "      <th id=\"T_57f92_level0_row51\" class=\"row_heading level0 row51\" >country_transf__country_AUT</th>\n",
       "      <td id=\"T_57f92_row51_col0\" class=\"data row51 col0\" >0.000000</td>\n",
       "    </tr>\n",
       "    <tr>\n",
       "      <th id=\"T_57f92_level0_row52\" class=\"row_heading level0 row52\" >country_transf__country_CN</th>\n",
       "      <td id=\"T_57f92_row52_col0\" class=\"data row52 col0\" >0.000000</td>\n",
       "    </tr>\n",
       "    <tr>\n",
       "      <th id=\"T_57f92_level0_row53\" class=\"row_heading level0 row53\" >country_transf__country_SWE</th>\n",
       "      <td id=\"T_57f92_row53_col0\" class=\"data row53 col0\" >0.000000</td>\n",
       "    </tr>\n",
       "    <tr>\n",
       "      <th id=\"T_57f92_level0_row54\" class=\"row_heading level0 row54\" >other_variables_transf__reserved_room_type_B</th>\n",
       "      <td id=\"T_57f92_row54_col0\" class=\"data row54 col0\" >0.000000</td>\n",
       "    </tr>\n",
       "    <tr>\n",
       "      <th id=\"T_57f92_level0_row55\" class=\"row_heading level0 row55\" >country_transf__country_RUS</th>\n",
       "      <td id=\"T_57f92_row55_col0\" class=\"data row55 col0\" >0.000000</td>\n",
       "    </tr>\n",
       "    <tr>\n",
       "      <th id=\"T_57f92_level0_row56\" class=\"row_heading level0 row56\" >country_transf__country_POL</th>\n",
       "      <td id=\"T_57f92_row56_col0\" class=\"data row56 col0\" >0.000000</td>\n",
       "    </tr>\n",
       "    <tr>\n",
       "      <th id=\"T_57f92_level0_row57\" class=\"row_heading level0 row57\" >other_variables_transf__meal_Undefined</th>\n",
       "      <td id=\"T_57f92_row57_col0\" class=\"data row57 col0\" >0.000000</td>\n",
       "    </tr>\n",
       "    <tr>\n",
       "      <th id=\"T_57f92_level0_row58\" class=\"row_heading level0 row58\" >country_transf__country_ISR</th>\n",
       "      <td id=\"T_57f92_row58_col0\" class=\"data row58 col0\" >0.000000</td>\n",
       "    </tr>\n",
       "    <tr>\n",
       "      <th id=\"T_57f92_level0_row59\" class=\"row_heading level0 row59\" >num_transf__babies</th>\n",
       "      <td id=\"T_57f92_row59_col0\" class=\"data row59 col0\" >0.000000</td>\n",
       "    </tr>\n",
       "    <tr>\n",
       "      <th id=\"T_57f92_level0_row60\" class=\"row_heading level0 row60\" >country_transf__country_ROU</th>\n",
       "      <td id=\"T_57f92_row60_col0\" class=\"data row60 col0\" >0.000000</td>\n",
       "    </tr>\n",
       "    <tr>\n",
       "      <th id=\"T_57f92_level0_row61\" class=\"row_heading level0 row61\" >other_variables_transf__reserved_room_type_C</th>\n",
       "      <td id=\"T_57f92_row61_col0\" class=\"data row61 col0\" >0.000000</td>\n",
       "    </tr>\n",
       "    <tr>\n",
       "      <th id=\"T_57f92_level0_row62\" class=\"row_heading level0 row62\" >country_transf__country_NOR</th>\n",
       "      <td id=\"T_57f92_row62_col0\" class=\"data row62 col0\" >0.000000</td>\n",
       "    </tr>\n",
       "    <tr>\n",
       "      <th id=\"T_57f92_level0_row63\" class=\"row_heading level0 row63\" >other_variables_transf__meal_FB</th>\n",
       "      <td id=\"T_57f92_row63_col0\" class=\"data row63 col0\" >0.000000</td>\n",
       "    </tr>\n",
       "    <tr>\n",
       "      <th id=\"T_57f92_level0_row64\" class=\"row_heading level0 row64\" >country_transf__country_FIN</th>\n",
       "      <td id=\"T_57f92_row64_col0\" class=\"data row64 col0\" >0.000000</td>\n",
       "    </tr>\n",
       "    <tr>\n",
       "      <th id=\"T_57f92_level0_row65\" class=\"row_heading level0 row65\" >other_variables_transf__deposit_type_Refundable</th>\n",
       "      <td id=\"T_57f92_row65_col0\" class=\"data row65 col0\" >0.000000</td>\n",
       "    </tr>\n",
       "    <tr>\n",
       "      <th id=\"T_57f92_level0_row66\" class=\"row_heading level0 row66\" >other_variables_transf__reserved_room_type_H</th>\n",
       "      <td id=\"T_57f92_row66_col0\" class=\"data row66 col0\" >0.000000</td>\n",
       "    </tr>\n",
       "    <tr>\n",
       "      <th id=\"T_57f92_level0_row67\" class=\"row_heading level0 row67\" >other_variables_transf__distribution_channel_GDS</th>\n",
       "      <td id=\"T_57f92_row67_col0\" class=\"data row67 col0\" >0.000000</td>\n",
       "    </tr>\n",
       "    <tr>\n",
       "      <th id=\"T_57f92_level0_row68\" class=\"row_heading level0 row68\" >other_variables_transf__market_segment_Complementary</th>\n",
       "      <td id=\"T_57f92_row68_col0\" class=\"data row68 col0\" >0.000000</td>\n",
       "    </tr>\n",
       "    <tr>\n",
       "      <th id=\"T_57f92_level0_row69\" class=\"row_heading level0 row69\" >other_variables_transf__customer_type_Group</th>\n",
       "      <td id=\"T_57f92_row69_col0\" class=\"data row69 col0\" >0.000000</td>\n",
       "    </tr>\n",
       "    <tr>\n",
       "      <th id=\"T_57f92_level0_row70\" class=\"row_heading level0 row70\" >other_variables_transf__market_segment_Aviation</th>\n",
       "      <td id=\"T_57f92_row70_col0\" class=\"data row70 col0\" >0.000000</td>\n",
       "    </tr>\n",
       "    <tr>\n",
       "      <th id=\"T_57f92_level0_row71\" class=\"row_heading level0 row71\" >other_variables_transf__reserved_room_type_L</th>\n",
       "      <td id=\"T_57f92_row71_col0\" class=\"data row71 col0\" >0.000000</td>\n",
       "    </tr>\n",
       "  </tbody>\n",
       "</table>\n"
      ],
      "text/plain": [
       "<pandas.io.formats.style.Styler at 0x251b3fdfa60>"
      ]
     },
     "execution_count": 458,
     "metadata": {},
     "output_type": "execute_result"
    }
   ],
   "source": [
    "feature_importance = pd.Series(rscv_ohe.best_estimator_['model'].feature_importances_, \n",
    "                               index= rscv_ohe.best_estimator_['transformer'].get_feature_names_out())\n",
    "feature_importance = pd.DataFrame(feature_importance.sort_values(ascending= False).round(2), columns= ['Importance'])\n",
    "feature_importance.style.bar(color=['red', 'green'])"
   ]
  }
 ],
 "metadata": {
  "kernelspec": {
   "display_name": "Python 3 (ipykernel)",
   "language": "python",
   "name": "python3"
  },
  "language_info": {
   "codemirror_mode": {
    "name": "ipython",
    "version": 3
   },
   "file_extension": ".py",
   "mimetype": "text/x-python",
   "name": "python",
   "nbconvert_exporter": "python",
   "pygments_lexer": "ipython3",
   "version": "3.9.13"
  }
 },
 "nbformat": 4,
 "nbformat_minor": 5
}
