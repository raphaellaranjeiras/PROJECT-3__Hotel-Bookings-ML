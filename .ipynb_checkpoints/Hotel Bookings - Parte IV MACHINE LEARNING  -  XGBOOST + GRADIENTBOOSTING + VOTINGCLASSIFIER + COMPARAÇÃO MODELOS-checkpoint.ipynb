{
 "cells": [
  {
   "cell_type": "code",
   "execution_count": 4,
   "id": "6f9fd631",
   "metadata": {},
   "outputs": [],
   "source": [
    "import warnings\n",
    "warnings.filterwarnings('ignore')\n",
    "import pandas as pd\n",
    "pd.set_option('display.max_columns', None)\n",
    "import numpy as np\n",
    "import matplotlib.pyplot as plt \n",
    "%matplotlib inline\n",
    "import seaborn as sns\n",
    "from sklearn.model_selection import train_test_split, RandomizedSearchCV, cross_validate\n",
    "from sklearn.preprocessing import OneHotEncoder, StandardScaler\n",
    "from sklearn.pipeline import Pipeline\n",
    "from sklearn.compose import ColumnTransformer\n",
    "from  sklearn.ensemble import VotingClassifier, RandomForestClassifier, GradientBoostingClassifier, AdaBoostClassifier\n",
    "from xgboost import XGBClassifier\n",
    "from sklearn.tree import DecisionTreeClassifier\n",
    "from sklearn.metrics import classification_report, RocCurveDisplay, PrecisionRecallDisplay\n",
    "from feature_engine.encoding import RareLabelEncoder\n",
    "import joblib as jb"
   ]
  },
  {
   "cell_type": "code",
   "execution_count": 67,
   "id": "b45ea35f",
   "metadata": {},
   "outputs": [],
   "source": [
    "df = pd.read_csv('hotel_bookings.csv')"
   ]
  },
  {
   "cell_type": "code",
   "execution_count": 68,
   "id": "b78a7f50",
   "metadata": {},
   "outputs": [
    {
     "data": {
      "text/plain": [
       "(111689, 32)"
      ]
     },
     "execution_count": 68,
     "metadata": {},
     "output_type": "execute_result"
    }
   ],
   "source": [
    "df = df[~((df['arrival_date_year'] == 2015) & (df['arrival_date_month'] == 'July') | (df['arrival_date_year'] == 2017) &\n",
    "         (df['arrival_date_month'] == 'August'))]\n",
    "df.shape"
   ]
  },
  {
   "cell_type": "code",
   "execution_count": 69,
   "id": "bfe5954d",
   "metadata": {},
   "outputs": [
    {
     "data": {
      "text/plain": [
       "(111513, 32)"
      ]
     },
     "execution_count": 69,
     "metadata": {},
     "output_type": "execute_result"
    }
   ],
   "source": [
    "df = df[~((df['children'] == 0) & (df['adults'] == 0) & (df['babies'] == 0))]\n",
    "df.shape"
   ]
  },
  {
   "cell_type": "code",
   "execution_count": 70,
   "id": "bf6a6ebc",
   "metadata": {},
   "outputs": [
    {
     "data": {
      "text/plain": [
       "(111513, 24)"
      ]
     },
     "execution_count": 70,
     "metadata": {},
     "output_type": "execute_result"
    }
   ],
   "source": [
    "df.drop(columns= ['company', 'agent', 'reservation_status_date', 'assigned_room_type', 'reservation_status',\n",
    "                  'arrival_date_year', 'arrival_date_month', 'arrival_date_day_of_month'], \n",
    "        inplace= True)\n",
    "df.shape"
   ]
  },
  {
   "cell_type": "code",
   "execution_count": 71,
   "id": "312cdd76",
   "metadata": {
    "scrolled": true
   },
   "outputs": [
    {
     "data": {
      "text/plain": [
       "(111044, 24)"
      ]
     },
     "execution_count": 71,
     "metadata": {},
     "output_type": "execute_result"
    }
   ],
   "source": [
    "df.dropna(inplace= True)\n",
    "df.shape"
   ]
  },
  {
   "cell_type": "code",
   "execution_count": 72,
   "id": "35659b89",
   "metadata": {
    "scrolled": false
   },
   "outputs": [
    {
     "data": {
      "text/plain": [
       "31653"
      ]
     },
     "execution_count": 72,
     "metadata": {},
     "output_type": "execute_result"
    }
   ],
   "source": [
    "df.duplicated().sum()"
   ]
  },
  {
   "cell_type": "code",
   "execution_count": 73,
   "id": "d59d435f",
   "metadata": {
    "scrolled": true
   },
   "outputs": [
    {
     "data": {
      "text/plain": [
       "0    63.02\n",
       "1    36.98\n",
       "Name: is_canceled, dtype: float64"
      ]
     },
     "execution_count": 73,
     "metadata": {},
     "output_type": "execute_result"
    }
   ],
   "source": [
    "df['is_canceled'].value_counts(normalize= True).mul(100).round(2)"
   ]
  },
  {
   "cell_type": "code",
   "execution_count": 75,
   "id": "bb55f2ce",
   "metadata": {
    "collapsed": true
   },
   "outputs": [
    {
     "data": {
      "text/html": [
       "<div>\n",
       "<style scoped>\n",
       "    .dataframe tbody tr th:only-of-type {\n",
       "        vertical-align: middle;\n",
       "    }\n",
       "\n",
       "    .dataframe tbody tr th {\n",
       "        vertical-align: top;\n",
       "    }\n",
       "\n",
       "    .dataframe thead th {\n",
       "        text-align: right;\n",
       "    }\n",
       "</style>\n",
       "<table border=\"1\" class=\"dataframe\">\n",
       "  <thead>\n",
       "    <tr style=\"text-align: right;\">\n",
       "      <th></th>\n",
       "      <th>hotel</th>\n",
       "      <th>meal</th>\n",
       "      <th>country</th>\n",
       "      <th>market_segment</th>\n",
       "      <th>distribution_channel</th>\n",
       "      <th>reserved_room_type</th>\n",
       "      <th>deposit_type</th>\n",
       "      <th>customer_type</th>\n",
       "    </tr>\n",
       "  </thead>\n",
       "  <tbody>\n",
       "    <tr>\n",
       "      <th>82162</th>\n",
       "      <td>City Hotel</td>\n",
       "      <td>BB</td>\n",
       "      <td>PRT</td>\n",
       "      <td>Corporate</td>\n",
       "      <td>Corporate</td>\n",
       "      <td>A</td>\n",
       "      <td>No Deposit</td>\n",
       "      <td>Transient-Party</td>\n",
       "    </tr>\n",
       "    <tr>\n",
       "      <th>12953</th>\n",
       "      <td>Resort Hotel</td>\n",
       "      <td>HB</td>\n",
       "      <td>PRT</td>\n",
       "      <td>Offline TA/TO</td>\n",
       "      <td>TA/TO</td>\n",
       "      <td>E</td>\n",
       "      <td>No Deposit</td>\n",
       "      <td>Contract</td>\n",
       "    </tr>\n",
       "    <tr>\n",
       "      <th>31360</th>\n",
       "      <td>Resort Hotel</td>\n",
       "      <td>HB</td>\n",
       "      <td>GBR</td>\n",
       "      <td>Direct</td>\n",
       "      <td>Direct</td>\n",
       "      <td>A</td>\n",
       "      <td>No Deposit</td>\n",
       "      <td>Transient</td>\n",
       "    </tr>\n",
       "    <tr>\n",
       "      <th>115771</th>\n",
       "      <td>City Hotel</td>\n",
       "      <td>BB</td>\n",
       "      <td>GBR</td>\n",
       "      <td>Online TA</td>\n",
       "      <td>TA/TO</td>\n",
       "      <td>F</td>\n",
       "      <td>No Deposit</td>\n",
       "      <td>Transient</td>\n",
       "    </tr>\n",
       "    <tr>\n",
       "      <th>63645</th>\n",
       "      <td>City Hotel</td>\n",
       "      <td>BB</td>\n",
       "      <td>PRT</td>\n",
       "      <td>Online TA</td>\n",
       "      <td>TA/TO</td>\n",
       "      <td>G</td>\n",
       "      <td>No Deposit</td>\n",
       "      <td>Transient</td>\n",
       "    </tr>\n",
       "  </tbody>\n",
       "</table>\n",
       "</div>"
      ],
      "text/plain": [
       "               hotel meal country market_segment distribution_channel  \\\n",
       "82162     City Hotel   BB     PRT      Corporate            Corporate   \n",
       "12953   Resort Hotel   HB     PRT  Offline TA/TO                TA/TO   \n",
       "31360   Resort Hotel   HB     GBR         Direct               Direct   \n",
       "115771    City Hotel   BB     GBR      Online TA                TA/TO   \n",
       "63645     City Hotel   BB     PRT      Online TA                TA/TO   \n",
       "\n",
       "       reserved_room_type deposit_type    customer_type  \n",
       "82162                   A   No Deposit  Transient-Party  \n",
       "12953                   E   No Deposit         Contract  \n",
       "31360                   A   No Deposit        Transient  \n",
       "115771                  F   No Deposit        Transient  \n",
       "63645                   G   No Deposit        Transient  "
      ]
     },
     "execution_count": 75,
     "metadata": {},
     "output_type": "execute_result"
    }
   ],
   "source": [
    "df_categorical = df.select_dtypes('object')\n",
    "df_numerical = df.select_dtypes('number')"
   ]
  },
  {
   "cell_type": "code",
   "execution_count": 76,
   "id": "3f133ae6",
   "metadata": {
    "scrolled": false
   },
   "outputs": [
    {
     "data": {
      "text/plain": [
       "(111044, 8)"
      ]
     },
     "execution_count": 76,
     "metadata": {},
     "output_type": "execute_result"
    }
   ],
   "source": [
    "df_categorical.shape"
   ]
  },
  {
   "cell_type": "code",
   "execution_count": 78,
   "id": "03c0d796",
   "metadata": {
    "scrolled": false
   },
   "outputs": [
    {
     "data": {
      "text/plain": [
       "(111044, 16)"
      ]
     },
     "execution_count": 78,
     "metadata": {},
     "output_type": "execute_result"
    }
   ],
   "source": [
    "df_numerical.shape"
   ]
  },
  {
   "cell_type": "code",
   "execution_count": 79,
   "id": "f8697bc6",
   "metadata": {},
   "outputs": [],
   "source": [
    "X = df.drop(['is_canceled'], axis= 1)\n",
    "y = df['is_canceled']\n",
    "\n",
    "categorical_variables = X.select_dtypes('object').columns.to_list()\n",
    "numerical_variables = X.select_dtypes('number').columns.to_list()\n",
    "\n",
    "X_train, X_test, y_train, y_test = train_test_split(X, y, test_size= 0.33, random_state= 4)"
   ]
  },
  {
   "cell_type": "code",
   "execution_count": 81,
   "id": "757e1387",
   "metadata": {
    "scrolled": true
   },
   "outputs": [
    {
     "data": {
      "text/plain": [
       "(175,)"
      ]
     },
     "execution_count": 81,
     "metadata": {},
     "output_type": "execute_result"
    }
   ],
   "source": [
    "df['country'].value_counts(dropna=False, normalize= True).shape"
   ]
  },
  {
   "cell_type": "code",
   "execution_count": 82,
   "id": "335d02d4",
   "metadata": {
    "scrolled": true
   },
   "outputs": [
    {
     "data": {
      "text/plain": [
       "0.9496055617593026"
      ]
     },
     "execution_count": 82,
     "metadata": {},
     "output_type": "execute_result"
    }
   ],
   "source": [
    "df['country'].value_counts(dropna=False, normalize= True)[0:22].sum()"
   ]
  },
  {
   "cell_type": "code",
   "execution_count": 83,
   "id": "5906e3f6",
   "metadata": {},
   "outputs": [
    {
     "data": {
      "text/plain": [
       "ISR    0.005809\n",
       "RUS    0.005286\n",
       "NOR    0.005169\n",
       "ROU    0.004097\n",
       "FIN    0.003908\n",
       "Name: country, dtype: float64"
      ]
     },
     "execution_count": 83,
     "metadata": {},
     "output_type": "execute_result"
    }
   ],
   "source": [
    "df['country'].value_counts(dropna=False, normalize= True)[0:22].tail()"
   ]
  },
  {
   "cell_type": "code",
   "execution_count": 84,
   "id": "b62218b0",
   "metadata": {},
   "outputs": [
    {
     "data": {
      "text/plain": [
       "(23,)"
      ]
     },
     "execution_count": 84,
     "metadata": {},
     "output_type": "execute_result"
    }
   ],
   "source": [
    "rare_encoder = RareLabelEncoder(tol= 0.003900, variables= ['country'], replace_with= 'Other Country')\n",
    "rare_encoder.fit(X_train)\n",
    "X_train = rare_encoder.transform(X_train)\n",
    "X_test = rare_encoder.transform(X_test)\n",
    "\n",
    "X_train['country'].value_counts(dropna=False, normalize= True).shape"
   ]
  },
  {
   "cell_type": "code",
   "execution_count": 85,
   "id": "1bca8a71",
   "metadata": {
    "collapsed": true
   },
   "outputs": [
    {
     "data": {
      "text/plain": [
       "PRT              0.404468\n",
       "GBR              0.103536\n",
       "FRA              0.088509\n",
       "ESP              0.070565\n",
       "DEU              0.062958\n",
       "Other Country    0.051063\n",
       "ITA              0.030780\n",
       "IRL              0.028871\n",
       "BEL              0.019973\n",
       "BRA              0.019046\n",
       "NLD              0.018280\n",
       "USA              0.016694\n",
       "CHE              0.014422\n",
       "CN               0.010833\n",
       "AUT              0.010753\n",
       "SWE              0.008710\n",
       "CHN              0.008683\n",
       "POL              0.008038\n",
       "ISR              0.005497\n",
       "RUS              0.005282\n",
       "NOR              0.004839\n",
       "ROU              0.004113\n",
       "FIN              0.004086\n",
       "Name: country, dtype: float64"
      ]
     },
     "execution_count": 85,
     "metadata": {},
     "output_type": "execute_result"
    }
   ],
   "source": [
    "X_train['country'].value_counts(dropna=False, normalize= True)"
   ]
  },
  {
   "cell_type": "code",
   "execution_count": 86,
   "id": "5e4ce7d6",
   "metadata": {
    "scrolled": true
   },
   "outputs": [
    {
     "data": {
      "text/html": [
       "<div>\n",
       "<style scoped>\n",
       "    .dataframe tbody tr th:only-of-type {\n",
       "        vertical-align: middle;\n",
       "    }\n",
       "\n",
       "    .dataframe tbody tr th {\n",
       "        vertical-align: top;\n",
       "    }\n",
       "\n",
       "    .dataframe thead th {\n",
       "        text-align: right;\n",
       "    }\n",
       "</style>\n",
       "<table border=\"1\" class=\"dataframe\">\n",
       "  <thead>\n",
       "    <tr style=\"text-align: right;\">\n",
       "      <th></th>\n",
       "      <th>lead_time</th>\n",
       "      <th>arrival_date_week_number</th>\n",
       "      <th>stays_in_weekend_nights</th>\n",
       "      <th>stays_in_week_nights</th>\n",
       "      <th>adults</th>\n",
       "      <th>children</th>\n",
       "      <th>babies</th>\n",
       "      <th>is_repeated_guest</th>\n",
       "      <th>previous_cancellations</th>\n",
       "      <th>previous_bookings_not_canceled</th>\n",
       "      <th>booking_changes</th>\n",
       "      <th>days_in_waiting_list</th>\n",
       "      <th>adr</th>\n",
       "      <th>required_car_parking_spaces</th>\n",
       "      <th>total_of_special_requests</th>\n",
       "    </tr>\n",
       "  </thead>\n",
       "  <tbody>\n",
       "    <tr>\n",
       "      <th>65992</th>\n",
       "      <td>121</td>\n",
       "      <td>15</td>\n",
       "      <td>0</td>\n",
       "      <td>4</td>\n",
       "      <td>3</td>\n",
       "      <td>0.0</td>\n",
       "      <td>0</td>\n",
       "      <td>0</td>\n",
       "      <td>0</td>\n",
       "      <td>0</td>\n",
       "      <td>0</td>\n",
       "      <td>0</td>\n",
       "      <td>173.25</td>\n",
       "      <td>0</td>\n",
       "      <td>0</td>\n",
       "    </tr>\n",
       "    <tr>\n",
       "      <th>110968</th>\n",
       "      <td>175</td>\n",
       "      <td>18</td>\n",
       "      <td>1</td>\n",
       "      <td>3</td>\n",
       "      <td>2</td>\n",
       "      <td>0.0</td>\n",
       "      <td>0</td>\n",
       "      <td>0</td>\n",
       "      <td>0</td>\n",
       "      <td>0</td>\n",
       "      <td>0</td>\n",
       "      <td>0</td>\n",
       "      <td>99.00</td>\n",
       "      <td>0</td>\n",
       "      <td>2</td>\n",
       "    </tr>\n",
       "    <tr>\n",
       "      <th>14150</th>\n",
       "      <td>4</td>\n",
       "      <td>50</td>\n",
       "      <td>0</td>\n",
       "      <td>1</td>\n",
       "      <td>1</td>\n",
       "      <td>0.0</td>\n",
       "      <td>0</td>\n",
       "      <td>0</td>\n",
       "      <td>0</td>\n",
       "      <td>5</td>\n",
       "      <td>0</td>\n",
       "      <td>0</td>\n",
       "      <td>27.00</td>\n",
       "      <td>0</td>\n",
       "      <td>0</td>\n",
       "    </tr>\n",
       "    <tr>\n",
       "      <th>116903</th>\n",
       "      <td>88</td>\n",
       "      <td>30</td>\n",
       "      <td>1</td>\n",
       "      <td>2</td>\n",
       "      <td>2</td>\n",
       "      <td>0.0</td>\n",
       "      <td>0</td>\n",
       "      <td>0</td>\n",
       "      <td>0</td>\n",
       "      <td>0</td>\n",
       "      <td>0</td>\n",
       "      <td>0</td>\n",
       "      <td>125.00</td>\n",
       "      <td>0</td>\n",
       "      <td>1</td>\n",
       "    </tr>\n",
       "    <tr>\n",
       "      <th>42135</th>\n",
       "      <td>10</td>\n",
       "      <td>36</td>\n",
       "      <td>2</td>\n",
       "      <td>5</td>\n",
       "      <td>2</td>\n",
       "      <td>0.0</td>\n",
       "      <td>0</td>\n",
       "      <td>0</td>\n",
       "      <td>0</td>\n",
       "      <td>0</td>\n",
       "      <td>0</td>\n",
       "      <td>0</td>\n",
       "      <td>85.00</td>\n",
       "      <td>0</td>\n",
       "      <td>0</td>\n",
       "    </tr>\n",
       "  </tbody>\n",
       "</table>\n",
       "</div>"
      ],
      "text/plain": [
       "        lead_time  arrival_date_week_number  stays_in_weekend_nights  \\\n",
       "65992         121                        15                        0   \n",
       "110968        175                        18                        1   \n",
       "14150           4                        50                        0   \n",
       "116903         88                        30                        1   \n",
       "42135          10                        36                        2   \n",
       "\n",
       "        stays_in_week_nights  adults  children  babies  is_repeated_guest  \\\n",
       "65992                      4       3       0.0       0                  0   \n",
       "110968                     3       2       0.0       0                  0   \n",
       "14150                      1       1       0.0       0                  0   \n",
       "116903                     2       2       0.0       0                  0   \n",
       "42135                      5       2       0.0       0                  0   \n",
       "\n",
       "        previous_cancellations  previous_bookings_not_canceled  \\\n",
       "65992                        0                               0   \n",
       "110968                       0                               0   \n",
       "14150                        0                               5   \n",
       "116903                       0                               0   \n",
       "42135                        0                               0   \n",
       "\n",
       "        booking_changes  days_in_waiting_list     adr  \\\n",
       "65992                 0                     0  173.25   \n",
       "110968                0                     0   99.00   \n",
       "14150                 0                     0   27.00   \n",
       "116903                0                     0  125.00   \n",
       "42135                 0                     0   85.00   \n",
       "\n",
       "        required_car_parking_spaces  total_of_special_requests  \n",
       "65992                             0                          0  \n",
       "110968                            0                          2  \n",
       "14150                             0                          0  \n",
       "116903                            0                          1  \n",
       "42135                             0                          0  "
      ]
     },
     "execution_count": 86,
     "metadata": {},
     "output_type": "execute_result"
    }
   ],
   "source": [
    "X_train[numerical_variables].head()"
   ]
  },
  {
   "cell_type": "code",
   "execution_count": 87,
   "id": "3884bcc7",
   "metadata": {
    "scrolled": false
   },
   "outputs": [
    {
     "data": {
      "text/plain": [
       "['hotel',\n",
       " 'meal',\n",
       " 'country',\n",
       " 'market_segment',\n",
       " 'distribution_channel',\n",
       " 'reserved_room_type',\n",
       " 'deposit_type',\n",
       " 'customer_type']"
      ]
     },
     "execution_count": 87,
     "metadata": {},
     "output_type": "execute_result"
    }
   ],
   "source": [
    "categorical_variables"
   ]
  },
  {
   "cell_type": "code",
   "execution_count": 88,
   "id": "16cadfe4",
   "metadata": {},
   "outputs": [
    {
     "data": {
      "text/plain": [
       "['country']"
      ]
     },
     "execution_count": 88,
     "metadata": {},
     "output_type": "execute_result"
    }
   ],
   "source": [
    "country_variable = [categorical_variables[2]]\n",
    "country_variable"
   ]
  },
  {
   "cell_type": "code",
   "execution_count": 90,
   "id": "9d8f8cea",
   "metadata": {
    "scrolled": true
   },
   "outputs": [
    {
     "data": {
      "text/plain": [
       "['hotel',\n",
       " 'meal',\n",
       " 'market_segment',\n",
       " 'distribution_channel',\n",
       " 'deposit_type',\n",
       " 'customer_type']"
      ]
     },
     "execution_count": 90,
     "metadata": {},
     "output_type": "execute_result"
    }
   ],
   "source": [
    "other_variables = []\n",
    "for i in categorical_variables:\n",
    "    if i not in ['country', 'reserved_room_type']:\n",
    "        other_variables.append(i)\n",
    "    else:\n",
    "        pass\n",
    "        \n",
    "other_variables"
   ]
  },
  {
   "cell_type": "markdown",
   "id": "4d44ceae",
   "metadata": {},
   "source": [
    "### XGBoostClassifier"
   ]
  },
  {
   "cell_type": "code",
   "execution_count": 12,
   "id": "36acb1d6",
   "metadata": {},
   "outputs": [
    {
     "name": "stdout",
     "output_type": "stream",
     "text": [
      "1.704\n"
     ]
    }
   ],
   "source": [
    "scale_pos_weight = df['is_canceled'].value_counts()[0] / df['is_canceled'].value_counts()[1]\n",
    "print(scale_pos_weight.round(3))"
   ]
  },
  {
   "cell_type": "code",
   "execution_count": 13,
   "id": "ec5e386a",
   "metadata": {},
   "outputs": [
    {
     "name": "stdout",
     "output_type": "stream",
     "text": [
      "[18:53:06] WARNING: C:/buildkite-agent/builds/buildkite-windows-cpu-autoscaling-group-i-03de431ba26204c4d-1/xgboost/xgboost-ci-windows/src/learner.cc:767: \n",
      "Parameters: { \"n_estimator\" } are not used.\n",
      "\n"
     ]
    }
   ],
   "source": [
    "transformer = ColumnTransformer([('ohe', OneHotEncoder(handle_unknown= 'ignore'), categorical_variables), \n",
    "                                  ('stdscaler', StandardScaler(), numerical_variables)])\n",
    "\n",
    "xgb = XGBClassifier(n_estimator= 100, learning_rate= 1)\n",
    "\n",
    "pipe = Pipeline([('transformer', transformer), ('model', xgb)])\n",
    "\n",
    "param_grid = {'model__max_depth':np.arange(5,9),\n",
    "              'model__scale_pos_weight': np.arange(1.3, 2.3, 0.15)}   \n",
    "    \n",
    "rscv_xgb = RandomizedSearchCV(pipe, param_grid, cv= 10, n_jobs= -1, scoring= ['recall', 'precision', 'f1', 'roc_auc'], \n",
    "                             refit= 'f1', return_train_score= True, random_state= 4)\n",
    "\n",
    "rscv_xgb.fit(X_train, y_train)\n",
    "\n",
    "best_results = pd.DataFrame(rscv_xgb.cv_results_)"
   ]
  },
  {
   "cell_type": "code",
   "execution_count": 14,
   "id": "5c492678",
   "metadata": {
    "collapsed": true
   },
   "outputs": [
    {
     "data": {
      "text/html": [
       "<div>\n",
       "<style scoped>\n",
       "    .dataframe tbody tr th:only-of-type {\n",
       "        vertical-align: middle;\n",
       "    }\n",
       "\n",
       "    .dataframe tbody tr th {\n",
       "        vertical-align: top;\n",
       "    }\n",
       "\n",
       "    .dataframe thead th {\n",
       "        text-align: right;\n",
       "    }\n",
       "</style>\n",
       "<table border=\"1\" class=\"dataframe\">\n",
       "  <thead>\n",
       "    <tr style=\"text-align: right;\">\n",
       "      <th></th>\n",
       "      <th>params</th>\n",
       "      <th>mean_train_recall</th>\n",
       "      <th>mean_test_recall</th>\n",
       "      <th>mean_train_precision</th>\n",
       "      <th>mean_test_precision</th>\n",
       "      <th>mean_train_f1</th>\n",
       "      <th>mean_test_f1</th>\n",
       "      <th>mean_train_roc_auc</th>\n",
       "      <th>mean_test_roc_auc</th>\n",
       "    </tr>\n",
       "  </thead>\n",
       "  <tbody>\n",
       "    <tr>\n",
       "      <th>3</th>\n",
       "      <td>{'model__scale_pos_weight': 2.1999999999999993, 'model__max_depth': 8}</td>\n",
       "      <td>0.99</td>\n",
       "      <td>0.83</td>\n",
       "      <td>0.94</td>\n",
       "      <td>0.79</td>\n",
       "      <td>0.96</td>\n",
       "      <td>0.81</td>\n",
       "      <td>1.00</td>\n",
       "      <td>0.94</td>\n",
       "    </tr>\n",
       "    <tr>\n",
       "      <th>4</th>\n",
       "      <td>{'model__scale_pos_weight': 1.8999999999999997, 'model__max_depth': 8}</td>\n",
       "      <td>0.98</td>\n",
       "      <td>0.83</td>\n",
       "      <td>0.94</td>\n",
       "      <td>0.80</td>\n",
       "      <td>0.96</td>\n",
       "      <td>0.81</td>\n",
       "      <td>1.00</td>\n",
       "      <td>0.94</td>\n",
       "    </tr>\n",
       "    <tr>\n",
       "      <th>6</th>\n",
       "      <td>{'model__scale_pos_weight': 1.7499999999999998, 'model__max_depth': 8}</td>\n",
       "      <td>0.98</td>\n",
       "      <td>0.82</td>\n",
       "      <td>0.95</td>\n",
       "      <td>0.80</td>\n",
       "      <td>0.97</td>\n",
       "      <td>0.81</td>\n",
       "      <td>1.00</td>\n",
       "      <td>0.94</td>\n",
       "    </tr>\n",
       "    <tr>\n",
       "      <th>5</th>\n",
       "      <td>{'model__scale_pos_weight': 1.7499999999999998, 'model__max_depth': 7}</td>\n",
       "      <td>0.96</td>\n",
       "      <td>0.83</td>\n",
       "      <td>0.91</td>\n",
       "      <td>0.79</td>\n",
       "      <td>0.93</td>\n",
       "      <td>0.81</td>\n",
       "      <td>0.99</td>\n",
       "      <td>0.94</td>\n",
       "    </tr>\n",
       "    <tr>\n",
       "      <th>1</th>\n",
       "      <td>{'model__scale_pos_weight': 1.5999999999999999, 'model__max_depth': 7}</td>\n",
       "      <td>0.95</td>\n",
       "      <td>0.83</td>\n",
       "      <td>0.92</td>\n",
       "      <td>0.80</td>\n",
       "      <td>0.93</td>\n",
       "      <td>0.81</td>\n",
       "      <td>0.99</td>\n",
       "      <td>0.93</td>\n",
       "    </tr>\n",
       "    <tr>\n",
       "      <th>7</th>\n",
       "      <td>{'model__scale_pos_weight': 2.1999999999999993, 'model__max_depth': 7}</td>\n",
       "      <td>0.97</td>\n",
       "      <td>0.84</td>\n",
       "      <td>0.90</td>\n",
       "      <td>0.78</td>\n",
       "      <td>0.93</td>\n",
       "      <td>0.81</td>\n",
       "      <td>0.99</td>\n",
       "      <td>0.93</td>\n",
       "    </tr>\n",
       "    <tr>\n",
       "      <th>9</th>\n",
       "      <td>{'model__scale_pos_weight': 1.7499999999999998, 'model__max_depth': 5}</td>\n",
       "      <td>0.90</td>\n",
       "      <td>0.84</td>\n",
       "      <td>0.83</td>\n",
       "      <td>0.78</td>\n",
       "      <td>0.87</td>\n",
       "      <td>0.81</td>\n",
       "      <td>0.97</td>\n",
       "      <td>0.93</td>\n",
       "    </tr>\n",
       "    <tr>\n",
       "      <th>2</th>\n",
       "      <td>{'model__scale_pos_weight': 1.8999999999999997, 'model__max_depth': 6}</td>\n",
       "      <td>0.94</td>\n",
       "      <td>0.84</td>\n",
       "      <td>0.86</td>\n",
       "      <td>0.78</td>\n",
       "      <td>0.90</td>\n",
       "      <td>0.81</td>\n",
       "      <td>0.98</td>\n",
       "      <td>0.93</td>\n",
       "    </tr>\n",
       "    <tr>\n",
       "      <th>8</th>\n",
       "      <td>{'model__scale_pos_weight': 1.3, 'model__max_depth': 5}</td>\n",
       "      <td>0.87</td>\n",
       "      <td>0.81</td>\n",
       "      <td>0.86</td>\n",
       "      <td>0.80</td>\n",
       "      <td>0.87</td>\n",
       "      <td>0.81</td>\n",
       "      <td>0.97</td>\n",
       "      <td>0.93</td>\n",
       "    </tr>\n",
       "    <tr>\n",
       "      <th>0</th>\n",
       "      <td>{'model__scale_pos_weight': 2.05, 'model__max_depth': 7}</td>\n",
       "      <td>0.97</td>\n",
       "      <td>0.84</td>\n",
       "      <td>0.90</td>\n",
       "      <td>0.78</td>\n",
       "      <td>0.93</td>\n",
       "      <td>0.81</td>\n",
       "      <td>0.99</td>\n",
       "      <td>0.93</td>\n",
       "    </tr>\n",
       "  </tbody>\n",
       "</table>\n",
       "</div>"
      ],
      "text/plain": [
       "                                                                   params  \\\n",
       "3  {'model__scale_pos_weight': 2.1999999999999993, 'model__max_depth': 8}   \n",
       "4  {'model__scale_pos_weight': 1.8999999999999997, 'model__max_depth': 8}   \n",
       "6  {'model__scale_pos_weight': 1.7499999999999998, 'model__max_depth': 8}   \n",
       "5  {'model__scale_pos_weight': 1.7499999999999998, 'model__max_depth': 7}   \n",
       "1  {'model__scale_pos_weight': 1.5999999999999999, 'model__max_depth': 7}   \n",
       "7  {'model__scale_pos_weight': 2.1999999999999993, 'model__max_depth': 7}   \n",
       "9  {'model__scale_pos_weight': 1.7499999999999998, 'model__max_depth': 5}   \n",
       "2  {'model__scale_pos_weight': 1.8999999999999997, 'model__max_depth': 6}   \n",
       "8                 {'model__scale_pos_weight': 1.3, 'model__max_depth': 5}   \n",
       "0                {'model__scale_pos_weight': 2.05, 'model__max_depth': 7}   \n",
       "\n",
       "   mean_train_recall  mean_test_recall  mean_train_precision  \\\n",
       "3               0.99              0.83                  0.94   \n",
       "4               0.98              0.83                  0.94   \n",
       "6               0.98              0.82                  0.95   \n",
       "5               0.96              0.83                  0.91   \n",
       "1               0.95              0.83                  0.92   \n",
       "7               0.97              0.84                  0.90   \n",
       "9               0.90              0.84                  0.83   \n",
       "2               0.94              0.84                  0.86   \n",
       "8               0.87              0.81                  0.86   \n",
       "0               0.97              0.84                  0.90   \n",
       "\n",
       "   mean_test_precision  mean_train_f1  mean_test_f1  mean_train_roc_auc  \\\n",
       "3                 0.79           0.96          0.81                1.00   \n",
       "4                 0.80           0.96          0.81                1.00   \n",
       "6                 0.80           0.97          0.81                1.00   \n",
       "5                 0.79           0.93          0.81                0.99   \n",
       "1                 0.80           0.93          0.81                0.99   \n",
       "7                 0.78           0.93          0.81                0.99   \n",
       "9                 0.78           0.87          0.81                0.97   \n",
       "2                 0.78           0.90          0.81                0.98   \n",
       "8                 0.80           0.87          0.81                0.97   \n",
       "0                 0.78           0.93          0.81                0.99   \n",
       "\n",
       "   mean_test_roc_auc  \n",
       "3               0.94  \n",
       "4               0.94  \n",
       "6               0.94  \n",
       "5               0.94  \n",
       "1               0.93  \n",
       "7               0.93  \n",
       "9               0.93  \n",
       "2               0.93  \n",
       "8               0.93  \n",
       "0               0.93  "
      ]
     },
     "execution_count": 14,
     "metadata": {},
     "output_type": "execute_result"
    }
   ],
   "source": [
    "pd.set_option('max.colwidth', None)\n",
    "best_results[['params','mean_train_recall', 'mean_test_recall', 'mean_train_precision', 'mean_test_precision', \n",
    "              'mean_train_f1', 'mean_test_f1', 'mean_train_roc_auc', 'mean_test_roc_auc']].sort_values(\n",
    "                                                                                'mean_test_f1', ascending= False).round(2)"
   ]
  },
  {
   "cell_type": "code",
   "execution_count": 15,
   "id": "86023c82",
   "metadata": {},
   "outputs": [
    {
     "name": "stdout",
     "output_type": "stream",
     "text": [
      "{'model__scale_pos_weight': 2.1999999999999993, 'model__max_depth': 8}\n",
      "\n",
      "              precision    recall  f1-score   support\n",
      "\n",
      "           0       0.90      0.87      0.89     23067\n",
      "           1       0.79      0.84      0.82     13578\n",
      "\n",
      "    accuracy                           0.86     36645\n",
      "   macro avg       0.85      0.86      0.85     36645\n",
      "weighted avg       0.86      0.86      0.86     36645\n",
      "\n"
     ]
    }
   ],
   "source": [
    "print(rscv_xgb.best_params_)\n",
    "print('')\n",
    "\n",
    "y_pred = rscv_xgb.predict(X_test)\n",
    "print(classification_report(y_test, y_pred))"
   ]
  },
  {
   "cell_type": "code",
   "execution_count": 18,
   "id": "75359ac3",
   "metadata": {
    "scrolled": false
   },
   "outputs": [
    {
     "data": {
      "text/plain": [
       "['extreme_gradient_boosting_model']"
      ]
     },
     "execution_count": 18,
     "metadata": {},
     "output_type": "execute_result"
    }
   ],
   "source": [
    "jb.dump(value= rscv_xgb, filename= 'extreme_gradient_boosting_model')"
   ]
  },
  {
   "cell_type": "markdown",
   "id": "127710a3",
   "metadata": {},
   "source": [
    "### GradientBoostingClassifier"
   ]
  },
  {
   "cell_type": "code",
   "execution_count": 12,
   "id": "f5c10907",
   "metadata": {},
   "outputs": [],
   "source": [
    "transformer = ColumnTransformer([('ohe', OneHotEncoder(handle_unknown= 'ignore'), categorical_variables), \n",
    "                                  ('stdscaler', StandardScaler(), numerical_variables)])\n",
    "\n",
    "gb = GradientBoostingClassifier(n_estimators= 100, min_samples_leaf= 1,  random_state= 4)\n",
    "\n",
    "pipe = Pipeline([('transformer', transformer), ('model', gb)])\n",
    "\n",
    "param_grid = {'model__learning_rate': np.arange(1, 2, 0.2),\n",
    "              'model__max_depth':[3,5]}   \n",
    "    \n",
    "rscv_gb = RandomizedSearchCV(pipe, param_grid, cv= 10, n_jobs= -1, scoring= ['recall', 'precision', 'f1', 'roc_auc'], \n",
    "                             refit= 'f1', return_train_score= True, random_state= 4)\n",
    "\n",
    "rscv_gb.fit(X_train, y_train)\n",
    "\n",
    "best_results = pd.DataFrame(rscv_gb.cv_results_)"
   ]
  },
  {
   "cell_type": "code",
   "execution_count": 13,
   "id": "6514ed2e",
   "metadata": {
    "collapsed": true
   },
   "outputs": [
    {
     "data": {
      "text/html": [
       "<div>\n",
       "<style scoped>\n",
       "    .dataframe tbody tr th:only-of-type {\n",
       "        vertical-align: middle;\n",
       "    }\n",
       "\n",
       "    .dataframe tbody tr th {\n",
       "        vertical-align: top;\n",
       "    }\n",
       "\n",
       "    .dataframe thead th {\n",
       "        text-align: right;\n",
       "    }\n",
       "</style>\n",
       "<table border=\"1\" class=\"dataframe\">\n",
       "  <thead>\n",
       "    <tr style=\"text-align: right;\">\n",
       "      <th></th>\n",
       "      <th>params</th>\n",
       "      <th>mean_train_recall</th>\n",
       "      <th>mean_test_recall</th>\n",
       "      <th>mean_train_precision</th>\n",
       "      <th>mean_test_precision</th>\n",
       "      <th>mean_train_f1</th>\n",
       "      <th>mean_test_f1</th>\n",
       "      <th>mean_train_roc_auc</th>\n",
       "      <th>mean_test_roc_auc</th>\n",
       "    </tr>\n",
       "  </thead>\n",
       "  <tbody>\n",
       "    <tr>\n",
       "      <th>1</th>\n",
       "      <td>{'model__max_depth': 5, 'model__learning_rate': 1.0}</td>\n",
       "      <td>0.84</td>\n",
       "      <td>0.78</td>\n",
       "      <td>0.89</td>\n",
       "      <td>0.82</td>\n",
       "      <td>0.87</td>\n",
       "      <td>0.80</td>\n",
       "      <td>0.97</td>\n",
       "      <td>0.93</td>\n",
       "    </tr>\n",
       "    <tr>\n",
       "      <th>3</th>\n",
       "      <td>{'model__max_depth': 5, 'model__learning_rate': 1.2}</td>\n",
       "      <td>0.84</td>\n",
       "      <td>0.78</td>\n",
       "      <td>0.88</td>\n",
       "      <td>0.81</td>\n",
       "      <td>0.86</td>\n",
       "      <td>0.79</td>\n",
       "      <td>0.96</td>\n",
       "      <td>0.92</td>\n",
       "    </tr>\n",
       "    <tr>\n",
       "      <th>0</th>\n",
       "      <td>{'model__max_depth': 3, 'model__learning_rate': 1.0}</td>\n",
       "      <td>0.78</td>\n",
       "      <td>0.76</td>\n",
       "      <td>0.85</td>\n",
       "      <td>0.83</td>\n",
       "      <td>0.81</td>\n",
       "      <td>0.79</td>\n",
       "      <td>0.94</td>\n",
       "      <td>0.93</td>\n",
       "    </tr>\n",
       "    <tr>\n",
       "      <th>5</th>\n",
       "      <td>{'model__max_depth': 5, 'model__learning_rate': 1.4}</td>\n",
       "      <td>0.84</td>\n",
       "      <td>0.78</td>\n",
       "      <td>0.87</td>\n",
       "      <td>0.81</td>\n",
       "      <td>0.86</td>\n",
       "      <td>0.79</td>\n",
       "      <td>0.96</td>\n",
       "      <td>0.92</td>\n",
       "    </tr>\n",
       "    <tr>\n",
       "      <th>2</th>\n",
       "      <td>{'model__max_depth': 3, 'model__learning_rate': 1.2}</td>\n",
       "      <td>0.79</td>\n",
       "      <td>0.76</td>\n",
       "      <td>0.84</td>\n",
       "      <td>0.82</td>\n",
       "      <td>0.81</td>\n",
       "      <td>0.79</td>\n",
       "      <td>0.94</td>\n",
       "      <td>0.93</td>\n",
       "    </tr>\n",
       "    <tr>\n",
       "      <th>4</th>\n",
       "      <td>{'model__max_depth': 3, 'model__learning_rate': 1.4}</td>\n",
       "      <td>0.78</td>\n",
       "      <td>0.76</td>\n",
       "      <td>0.84</td>\n",
       "      <td>0.82</td>\n",
       "      <td>0.81</td>\n",
       "      <td>0.79</td>\n",
       "      <td>0.94</td>\n",
       "      <td>0.92</td>\n",
       "    </tr>\n",
       "    <tr>\n",
       "      <th>7</th>\n",
       "      <td>{'model__max_depth': 5, 'model__learning_rate': 1.5999999999999999}</td>\n",
       "      <td>0.83</td>\n",
       "      <td>0.77</td>\n",
       "      <td>0.86</td>\n",
       "      <td>0.79</td>\n",
       "      <td>0.84</td>\n",
       "      <td>0.78</td>\n",
       "      <td>0.95</td>\n",
       "      <td>0.91</td>\n",
       "    </tr>\n",
       "    <tr>\n",
       "      <th>6</th>\n",
       "      <td>{'model__max_depth': 3, 'model__learning_rate': 1.5999999999999999}</td>\n",
       "      <td>0.76</td>\n",
       "      <td>0.75</td>\n",
       "      <td>0.80</td>\n",
       "      <td>0.79</td>\n",
       "      <td>0.77</td>\n",
       "      <td>0.76</td>\n",
       "      <td>0.88</td>\n",
       "      <td>0.87</td>\n",
       "    </tr>\n",
       "    <tr>\n",
       "      <th>8</th>\n",
       "      <td>{'model__max_depth': 3, 'model__learning_rate': 1.7999999999999998}</td>\n",
       "      <td>0.78</td>\n",
       "      <td>0.78</td>\n",
       "      <td>0.72</td>\n",
       "      <td>0.72</td>\n",
       "      <td>0.75</td>\n",
       "      <td>0.74</td>\n",
       "      <td>0.85</td>\n",
       "      <td>0.85</td>\n",
       "    </tr>\n",
       "    <tr>\n",
       "      <th>9</th>\n",
       "      <td>{'model__max_depth': 5, 'model__learning_rate': 1.7999999999999998}</td>\n",
       "      <td>0.76</td>\n",
       "      <td>0.74</td>\n",
       "      <td>0.70</td>\n",
       "      <td>0.68</td>\n",
       "      <td>0.72</td>\n",
       "      <td>0.70</td>\n",
       "      <td>0.78</td>\n",
       "      <td>0.77</td>\n",
       "    </tr>\n",
       "  </tbody>\n",
       "</table>\n",
       "</div>"
      ],
      "text/plain": [
       "                                                                params  \\\n",
       "1                 {'model__max_depth': 5, 'model__learning_rate': 1.0}   \n",
       "3                 {'model__max_depth': 5, 'model__learning_rate': 1.2}   \n",
       "0                 {'model__max_depth': 3, 'model__learning_rate': 1.0}   \n",
       "5                 {'model__max_depth': 5, 'model__learning_rate': 1.4}   \n",
       "2                 {'model__max_depth': 3, 'model__learning_rate': 1.2}   \n",
       "4                 {'model__max_depth': 3, 'model__learning_rate': 1.4}   \n",
       "7  {'model__max_depth': 5, 'model__learning_rate': 1.5999999999999999}   \n",
       "6  {'model__max_depth': 3, 'model__learning_rate': 1.5999999999999999}   \n",
       "8  {'model__max_depth': 3, 'model__learning_rate': 1.7999999999999998}   \n",
       "9  {'model__max_depth': 5, 'model__learning_rate': 1.7999999999999998}   \n",
       "\n",
       "   mean_train_recall  mean_test_recall  mean_train_precision  \\\n",
       "1               0.84              0.78                  0.89   \n",
       "3               0.84              0.78                  0.88   \n",
       "0               0.78              0.76                  0.85   \n",
       "5               0.84              0.78                  0.87   \n",
       "2               0.79              0.76                  0.84   \n",
       "4               0.78              0.76                  0.84   \n",
       "7               0.83              0.77                  0.86   \n",
       "6               0.76              0.75                  0.80   \n",
       "8               0.78              0.78                  0.72   \n",
       "9               0.76              0.74                  0.70   \n",
       "\n",
       "   mean_test_precision  mean_train_f1  mean_test_f1  mean_train_roc_auc  \\\n",
       "1                 0.82           0.87          0.80                0.97   \n",
       "3                 0.81           0.86          0.79                0.96   \n",
       "0                 0.83           0.81          0.79                0.94   \n",
       "5                 0.81           0.86          0.79                0.96   \n",
       "2                 0.82           0.81          0.79                0.94   \n",
       "4                 0.82           0.81          0.79                0.94   \n",
       "7                 0.79           0.84          0.78                0.95   \n",
       "6                 0.79           0.77          0.76                0.88   \n",
       "8                 0.72           0.75          0.74                0.85   \n",
       "9                 0.68           0.72          0.70                0.78   \n",
       "\n",
       "   mean_test_roc_auc  \n",
       "1               0.93  \n",
       "3               0.92  \n",
       "0               0.93  \n",
       "5               0.92  \n",
       "2               0.93  \n",
       "4               0.92  \n",
       "7               0.91  \n",
       "6               0.87  \n",
       "8               0.85  \n",
       "9               0.77  "
      ]
     },
     "execution_count": 13,
     "metadata": {},
     "output_type": "execute_result"
    }
   ],
   "source": [
    "pd.set_option('max.colwidth', None)\n",
    "best_results[['params','mean_train_recall', 'mean_test_recall', 'mean_train_precision', 'mean_test_precision', \n",
    "              'mean_train_f1', 'mean_test_f1', 'mean_train_roc_auc', 'mean_test_roc_auc']].sort_values(\n",
    "                                                                                'mean_test_f1', ascending= False).round(2)"
   ]
  },
  {
   "cell_type": "code",
   "execution_count": 14,
   "id": "540d277e",
   "metadata": {
    "scrolled": true
   },
   "outputs": [
    {
     "name": "stdout",
     "output_type": "stream",
     "text": [
      "{'model__max_depth': 5, 'model__learning_rate': 1.0}\n",
      "\n",
      "              precision    recall  f1-score   support\n",
      "\n",
      "           0       0.88      0.90      0.89     23067\n",
      "           1       0.83      0.79      0.81     13578\n",
      "\n",
      "    accuracy                           0.86     36645\n",
      "   macro avg       0.85      0.85      0.85     36645\n",
      "weighted avg       0.86      0.86      0.86     36645\n",
      "\n"
     ]
    }
   ],
   "source": [
    "print(rscv_gb.best_params_)\n",
    "print('')\n",
    "\n",
    "y_pred = rscv_gb.predict(X_test)\n",
    "print(classification_report(y_test, y_pred))"
   ]
  },
  {
   "cell_type": "code",
   "execution_count": 17,
   "id": "8e3d2b85",
   "metadata": {
    "scrolled": true
   },
   "outputs": [
    {
     "data": {
      "text/plain": [
       "['gradient_boosting_model']"
      ]
     },
     "execution_count": 17,
     "metadata": {},
     "output_type": "execute_result"
    }
   ],
   "source": [
    "jb.dump(value= rscv_gb, filename= 'gradient_boosting_model')"
   ]
  },
  {
   "cell_type": "markdown",
   "id": "a602a2cc",
   "metadata": {},
   "source": [
    "### VotingClassifier"
   ]
  },
  {
   "cell_type": "code",
   "execution_count": 15,
   "id": "d6b7fead",
   "metadata": {},
   "outputs": [],
   "source": [
    "rf = RandomForestClassifier(n_estimators= 100, min_samples_leaf= 1, class_weight= {0: 0.38, 1: 0.62})\n",
    "gb =  GradientBoostingClassifier(max_depth= 5, learning_rate= 1)\n",
    "xgb = XGBClassifier(n_estimators= 100, max_depth= 8, scale_pos_weight= 2.19, learning_rate= 1)\n",
    "ada_tree = AdaBoostClassifier(DecisionTreeClassifier(min_samples_leaf= 2, class_weight= {0:0.645, 1:0.355}, random_state= 4), \n",
    "                              n_estimators= 100, learning_rate= 1.2, random_state=4)\n",
    "\n",
    "\n",
    "transformer = ColumnTransformer([('ohe', OneHotEncoder(handle_unknown= 'ignore'), categorical_variables), \n",
    "                                  ('stdscaler', StandardScaler(), numerical_variables)])\n",
    "\n",
    "voting = VotingClassifier(estimators= [('rf', rf), ('gb', gb), ('xgb', xgb)], voting= 'soft')\n",
    "\n",
    "voting_classif = Pipeline([('transformer', transformer), ('model', voting)])\n",
    "\n",
    "voting_cv = cross_validate(voting_classif, X_train, y_train, cv= 10, \n",
    "                                scoring= ['precision', 'recall', 'f1', 'roc_auc'], return_train_score= True, n_jobs= -1)"
   ]
  },
  {
   "cell_type": "code",
   "execution_count": 16,
   "id": "11a4ad53",
   "metadata": {
    "scrolled": false
   },
   "outputs": [
    {
     "data": {
      "text/html": [
       "<div>\n",
       "<style scoped>\n",
       "    .dataframe tbody tr th:only-of-type {\n",
       "        vertical-align: middle;\n",
       "    }\n",
       "\n",
       "    .dataframe tbody tr th {\n",
       "        vertical-align: top;\n",
       "    }\n",
       "\n",
       "    .dataframe thead th {\n",
       "        text-align: right;\n",
       "    }\n",
       "</style>\n",
       "<table border=\"1\" class=\"dataframe\">\n",
       "  <thead>\n",
       "    <tr style=\"text-align: right;\">\n",
       "      <th></th>\n",
       "      <th>fit_time</th>\n",
       "      <th>score_time</th>\n",
       "      <th>test_precision</th>\n",
       "      <th>train_precision</th>\n",
       "      <th>test_recall</th>\n",
       "      <th>train_recall</th>\n",
       "      <th>test_f1</th>\n",
       "      <th>train_f1</th>\n",
       "      <th>test_roc_auc</th>\n",
       "      <th>train_roc_auc</th>\n",
       "    </tr>\n",
       "  </thead>\n",
       "  <tbody>\n",
       "    <tr>\n",
       "      <th>0</th>\n",
       "      <td>262.02</td>\n",
       "      <td>1.02</td>\n",
       "      <td>0.85</td>\n",
       "      <td>0.97</td>\n",
       "      <td>0.83</td>\n",
       "      <td>0.98</td>\n",
       "      <td>0.84</td>\n",
       "      <td>0.97</td>\n",
       "      <td>0.95</td>\n",
       "      <td>1.0</td>\n",
       "    </tr>\n",
       "    <tr>\n",
       "      <th>1</th>\n",
       "      <td>259.08</td>\n",
       "      <td>1.01</td>\n",
       "      <td>0.84</td>\n",
       "      <td>0.97</td>\n",
       "      <td>0.82</td>\n",
       "      <td>0.98</td>\n",
       "      <td>0.83</td>\n",
       "      <td>0.97</td>\n",
       "      <td>0.95</td>\n",
       "      <td>1.0</td>\n",
       "    </tr>\n",
       "    <tr>\n",
       "      <th>2</th>\n",
       "      <td>261.83</td>\n",
       "      <td>1.07</td>\n",
       "      <td>0.85</td>\n",
       "      <td>0.97</td>\n",
       "      <td>0.82</td>\n",
       "      <td>0.98</td>\n",
       "      <td>0.83</td>\n",
       "      <td>0.97</td>\n",
       "      <td>0.95</td>\n",
       "      <td>1.0</td>\n",
       "    </tr>\n",
       "    <tr>\n",
       "      <th>3</th>\n",
       "      <td>262.34</td>\n",
       "      <td>1.02</td>\n",
       "      <td>0.85</td>\n",
       "      <td>0.97</td>\n",
       "      <td>0.83</td>\n",
       "      <td>0.98</td>\n",
       "      <td>0.84</td>\n",
       "      <td>0.97</td>\n",
       "      <td>0.95</td>\n",
       "      <td>1.0</td>\n",
       "    </tr>\n",
       "    <tr>\n",
       "      <th>4</th>\n",
       "      <td>264.78</td>\n",
       "      <td>1.06</td>\n",
       "      <td>0.84</td>\n",
       "      <td>0.97</td>\n",
       "      <td>0.82</td>\n",
       "      <td>0.98</td>\n",
       "      <td>0.83</td>\n",
       "      <td>0.97</td>\n",
       "      <td>0.95</td>\n",
       "      <td>1.0</td>\n",
       "    </tr>\n",
       "    <tr>\n",
       "      <th>5</th>\n",
       "      <td>259.40</td>\n",
       "      <td>0.98</td>\n",
       "      <td>0.83</td>\n",
       "      <td>0.97</td>\n",
       "      <td>0.81</td>\n",
       "      <td>0.98</td>\n",
       "      <td>0.82</td>\n",
       "      <td>0.97</td>\n",
       "      <td>0.94</td>\n",
       "      <td>1.0</td>\n",
       "    </tr>\n",
       "    <tr>\n",
       "      <th>6</th>\n",
       "      <td>258.82</td>\n",
       "      <td>0.97</td>\n",
       "      <td>0.84</td>\n",
       "      <td>0.97</td>\n",
       "      <td>0.81</td>\n",
       "      <td>0.98</td>\n",
       "      <td>0.83</td>\n",
       "      <td>0.97</td>\n",
       "      <td>0.95</td>\n",
       "      <td>1.0</td>\n",
       "    </tr>\n",
       "    <tr>\n",
       "      <th>7</th>\n",
       "      <td>262.15</td>\n",
       "      <td>1.03</td>\n",
       "      <td>0.85</td>\n",
       "      <td>0.97</td>\n",
       "      <td>0.81</td>\n",
       "      <td>0.98</td>\n",
       "      <td>0.83</td>\n",
       "      <td>0.97</td>\n",
       "      <td>0.95</td>\n",
       "      <td>1.0</td>\n",
       "    </tr>\n",
       "    <tr>\n",
       "      <th>8</th>\n",
       "      <td>124.53</td>\n",
       "      <td>0.63</td>\n",
       "      <td>0.85</td>\n",
       "      <td>0.97</td>\n",
       "      <td>0.80</td>\n",
       "      <td>0.98</td>\n",
       "      <td>0.82</td>\n",
       "      <td>0.97</td>\n",
       "      <td>0.95</td>\n",
       "      <td>1.0</td>\n",
       "    </tr>\n",
       "    <tr>\n",
       "      <th>9</th>\n",
       "      <td>123.87</td>\n",
       "      <td>0.62</td>\n",
       "      <td>0.84</td>\n",
       "      <td>0.97</td>\n",
       "      <td>0.82</td>\n",
       "      <td>0.98</td>\n",
       "      <td>0.83</td>\n",
       "      <td>0.97</td>\n",
       "      <td>0.95</td>\n",
       "      <td>1.0</td>\n",
       "    </tr>\n",
       "  </tbody>\n",
       "</table>\n",
       "</div>"
      ],
      "text/plain": [
       "   fit_time  score_time  test_precision  train_precision  test_recall  \\\n",
       "0    262.02        1.02            0.85             0.97         0.83   \n",
       "1    259.08        1.01            0.84             0.97         0.82   \n",
       "2    261.83        1.07            0.85             0.97         0.82   \n",
       "3    262.34        1.02            0.85             0.97         0.83   \n",
       "4    264.78        1.06            0.84             0.97         0.82   \n",
       "5    259.40        0.98            0.83             0.97         0.81   \n",
       "6    258.82        0.97            0.84             0.97         0.81   \n",
       "7    262.15        1.03            0.85             0.97         0.81   \n",
       "8    124.53        0.63            0.85             0.97         0.80   \n",
       "9    123.87        0.62            0.84             0.97         0.82   \n",
       "\n",
       "   train_recall  test_f1  train_f1  test_roc_auc  train_roc_auc  \n",
       "0          0.98     0.84      0.97          0.95            1.0  \n",
       "1          0.98     0.83      0.97          0.95            1.0  \n",
       "2          0.98     0.83      0.97          0.95            1.0  \n",
       "3          0.98     0.84      0.97          0.95            1.0  \n",
       "4          0.98     0.83      0.97          0.95            1.0  \n",
       "5          0.98     0.82      0.97          0.94            1.0  \n",
       "6          0.98     0.83      0.97          0.95            1.0  \n",
       "7          0.98     0.83      0.97          0.95            1.0  \n",
       "8          0.98     0.82      0.97          0.95            1.0  \n",
       "9          0.98     0.83      0.97          0.95            1.0  "
      ]
     },
     "execution_count": 16,
     "metadata": {},
     "output_type": "execute_result"
    }
   ],
   "source": [
    "voting_cv_df = pd.DataFrame(voting_cv)\n",
    "voting_cv_df.round(2)"
   ]
  },
  {
   "cell_type": "code",
   "execution_count": 17,
   "id": "062c5650",
   "metadata": {},
   "outputs": [
    {
     "name": "stdout",
     "output_type": "stream",
     "text": [
      "              precision    recall  f1-score   support\n",
      "\n",
      "           0       0.90      0.91      0.91     23067\n",
      "           1       0.85      0.83      0.84     13578\n",
      "\n",
      "    accuracy                           0.88     36645\n",
      "   macro avg       0.87      0.87      0.87     36645\n",
      "weighted avg       0.88      0.88      0.88     36645\n",
      "\n"
     ]
    }
   ],
   "source": [
    "voting_classif.fit(X_train, y_train)\n",
    "y_pred = voting_classif.predict(X_test)\n",
    "\n",
    "print(classification_report(y_test, y_pred))"
   ]
  },
  {
   "cell_type": "code",
   "execution_count": 20,
   "id": "932927cc",
   "metadata": {
    "scrolled": false
   },
   "outputs": [
    {
     "data": {
      "text/plain": [
       "['voting_classifier_model']"
      ]
     },
     "execution_count": 20,
     "metadata": {},
     "output_type": "execute_result"
    }
   ],
   "source": [
    "jb.dump(value= voting_classif, filename= 'voting_classifier_model')"
   ]
  },
  {
   "cell_type": "markdown",
   "id": "9530d3a9",
   "metadata": {},
   "source": [
    "## Comparação"
   ]
  },
  {
   "cell_type": "code",
   "execution_count": 36,
   "id": "835fed0d",
   "metadata": {},
   "outputs": [],
   "source": [
    "rf = jb.load('random_forest_model')\n",
    "gb = jb.load('gradient_boosting_model')\n",
    "xgb = jb.load('extreme_gradient_boosting_model')\n",
    "voting = jb.load('voting_classifier_model')\n",
    "gnb = jb.load('gaussian_nb_model')\n",
    "logreg = jb.load('logistic_regression_model')\n",
    "dtree = jb.load('decision_tree_model')\n",
    "ada_tree = jb.load('ada_tree_model')\n",
    "ada_logreg = jb.load('ada_logreg_model')\n",
    "ada_gaussian_nb = jb.load('ada_gnb_model')"
   ]
  },
  {
   "cell_type": "code",
   "execution_count": 29,
   "id": "1d2f4775",
   "metadata": {},
   "outputs": [],
   "source": [
    "def roc_curve_comparison(models, labels):\n",
    "    fig, ax = plt.subplots()\n",
    "    models_labels = zip(models, labels)\n",
    "    for i, j in models_labels:            \n",
    "        roc_curve = RocCurveDisplay.from_estimator(i, X_test, y_test, name= j, ax= ax)\n",
    "    ax.set_title('Comparação de Curvas ROC', fontweight= 'bold', fontsize= 14)    \n",
    "    ax.set_xlabel('Taxa de Falsos Positivos (1 - Especificidade)')\n",
    "    ax.set_ylabel('Taxa de Verdadeiros Positivos (Recall)')"
   ]
  },
  {
   "cell_type": "code",
   "execution_count": 33,
   "id": "10635c28",
   "metadata": {},
   "outputs": [
    {
     "data": {
      "image/png": "[encoded data removed]",
      "text/plain": [
       "<Figure size 640x480 with 1 Axes>"
      ]
     },
     "metadata": {},
     "output_type": "display_data"
    }
   ],
   "source": [
    "roc_curve_comparison([rf, gb, voting, gnb, logreg, dtree, xgb, ada_tree, ada_logreg, ada_gaussian_nb], \n",
    "                     ['Random Forest', 'Gradient Boosting', 'Voting Classifier', 'Gaussian Naive Bayes', \n",
    "                      'Logistic Regression', 'Decision Tree', 'XGBoost', 'AdaBoost (Decision Tree)',\n",
    "                      'AdaBoost (Logreg)', 'AdaBoost (GaussianNB)'])"
   ]
  },
  {
   "cell_type": "code",
   "execution_count": 31,
   "id": "e087722d",
   "metadata": {},
   "outputs": [],
   "source": [
    "def precision_recall_curve_comparison(models, labels):\n",
    "    fig, ax = plt.subplots()\n",
    "    models_labels = zip(models, labels)\n",
    "    for i, j in models_labels:            \n",
    "        roc_curve = PrecisionRecallDisplay.from_estimator(i, X_test, y_test, name= j, ax= ax)\n",
    "        ax.set_title('Comparação Precisão/Recall')\n",
    "        ax.set_xlabel('Recall/Sensibilidade')\n",
    "        ax.set_ylabel('Precisão')\n",
    "        ax.legend(loc= 'lower center')"
   ]
  },
  {
   "cell_type": "code",
   "execution_count": 35,
   "id": "40c52799",
   "metadata": {},
   "outputs": [
    {
     "data": {
      "image/png": "[encoded data removed]",
      "text/plain": [
       "<Figure size 640x480 with 1 Axes>"
      ]
     },
     "metadata": {},
     "output_type": "display_data"
    }
   ],
   "source": [
    "precision_recall_curve_comparison([rf, gb, voting, gnb, logreg, dtree, xgb, ada_tree, ada_logreg, ada_gaussian_nb], \n",
    "                                  ['Random Forest', 'Gradient Boosting', 'Voting Classifier', 'Gaussian Naive Bayes', \n",
    "                                   'Logistic Regression', 'Decision Tree', 'XGBoost', 'AdaBoost (Decision Tree)', \n",
    "                                   'AdaBoost (Logreg)', 'AdaBoost (GaussianNB)'])"
   ]
  }
 ],
 "metadata": {
  "kernelspec": {
   "display_name": "Python 3 (ipykernel)",
   "language": "python",
   "name": "python3"
  },
  "language_info": {
   "codemirror_mode": {
    "name": "ipython",
    "version": 3
   },
   "file_extension": ".py",
   "mimetype": "text/x-python",
   "name": "python",
   "nbconvert_exporter": "python",
   "pygments_lexer": "ipython3",
   "version": "3.9.13"
  }
 },
 "nbformat": 4,
 "nbformat_minor": 5
}
