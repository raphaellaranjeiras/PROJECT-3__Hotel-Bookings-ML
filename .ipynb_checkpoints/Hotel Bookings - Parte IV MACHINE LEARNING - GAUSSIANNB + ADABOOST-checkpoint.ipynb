{
 "cells": [
  {
   "cell_type": "code",
   "execution_count": 13,
   "id": "6f9fd631",
   "metadata": {},
   "outputs": [],
   "source": [
    "import warnings\n",
    "warnings.filterwarnings('ignore')\n",
    "import pandas as pd\n",
    "pd.set_option('display.max_columns', None)\n",
    "import numpy as np\n",
    "from sklearn.model_selection import train_test_split, RandomizedSearchCV, cross_validate\n",
    "from sklearn.preprocessing import StandardScaler, PowerTransformer\n",
    "from sklearn.pipeline import Pipeline\n",
    "from sklearn.compose import ColumnTransformer\n",
    "from category_encoders import JamesSteinEncoder\n",
    "from sklearn.naive_bayes import GaussianNB\n",
    "from sklearn.ensemble import AdaBoostClassifier\n",
    "from sklearn.metrics import classification_report\n",
    "from feature_engine.encoding import RareLabelEncoder\n",
    "import joblib as jb"
   ]
  },
  {
   "cell_type": "code",
   "execution_count": 67,
   "id": "b45ea35f",
   "metadata": {},
   "outputs": [],
   "source": [
    "df = pd.read_csv('hotel_bookings.csv')"
   ]
  },
  {
   "cell_type": "code",
   "execution_count": 68,
   "id": "b78a7f50",
   "metadata": {},
   "outputs": [
    {
     "data": {
      "text/plain": [
       "(111689, 32)"
      ]
     },
     "execution_count": 68,
     "metadata": {},
     "output_type": "execute_result"
    }
   ],
   "source": [
    "df = df[~((df['arrival_date_year'] == 2015) & (df['arrival_date_month'] == 'July') | (df['arrival_date_year'] == 2017) &\n",
    "         (df['arrival_date_month'] == 'August'))]\n",
    "df.shape"
   ]
  },
  {
   "cell_type": "code",
   "execution_count": 69,
   "id": "bfe5954d",
   "metadata": {},
   "outputs": [
    {
     "data": {
      "text/plain": [
       "(111513, 32)"
      ]
     },
     "execution_count": 69,
     "metadata": {},
     "output_type": "execute_result"
    }
   ],
   "source": [
    "df = df[~((df['children'] == 0) & (df['adults'] == 0) & (df['babies'] == 0))]\n",
    "df.shape"
   ]
  },
  {
   "cell_type": "code",
   "execution_count": 70,
   "id": "bf6a6ebc",
   "metadata": {},
   "outputs": [
    {
     "data": {
      "text/plain": [
       "(111513, 24)"
      ]
     },
     "execution_count": 70,
     "metadata": {},
     "output_type": "execute_result"
    }
   ],
   "source": [
    "df.drop(columns= ['company', 'agent', 'reservation_status_date', 'assigned_room_type', 'reservation_status',\n",
    "                  'arrival_date_year', 'arrival_date_month', 'arrival_date_day_of_month'], \n",
    "        inplace= True)\n",
    "df.shape"
   ]
  },
  {
   "cell_type": "code",
   "execution_count": 71,
   "id": "312cdd76",
   "metadata": {
    "scrolled": true
   },
   "outputs": [
    {
     "data": {
      "text/plain": [
       "(111044, 24)"
      ]
     },
     "execution_count": 71,
     "metadata": {},
     "output_type": "execute_result"
    }
   ],
   "source": [
    "df.dropna(inplace= True)\n",
    "df.shape"
   ]
  },
  {
   "cell_type": "code",
   "execution_count": 72,
   "id": "35659b89",
   "metadata": {
    "scrolled": false
   },
   "outputs": [
    {
     "data": {
      "text/plain": [
       "31653"
      ]
     },
     "execution_count": 72,
     "metadata": {},
     "output_type": "execute_result"
    }
   ],
   "source": [
    "df.duplicated().sum()"
   ]
  },
  {
   "cell_type": "code",
   "execution_count": 73,
   "id": "d59d435f",
   "metadata": {
    "scrolled": true
   },
   "outputs": [
    {
     "data": {
      "text/plain": [
       "0    63.02\n",
       "1    36.98\n",
       "Name: is_canceled, dtype: float64"
      ]
     },
     "execution_count": 73,
     "metadata": {},
     "output_type": "execute_result"
    }
   ],
   "source": [
    "df['is_canceled'].value_counts(normalize= True).mul(100).round(2)"
   ]
  },
  {
   "cell_type": "code",
   "execution_count": 75,
   "id": "bb55f2ce",
   "metadata": {
    "collapsed": true
   },
   "outputs": [
    {
     "data": {
      "text/html": [
       "<div>\n",
       "<style scoped>\n",
       "    .dataframe tbody tr th:only-of-type {\n",
       "        vertical-align: middle;\n",
       "    }\n",
       "\n",
       "    .dataframe tbody tr th {\n",
       "        vertical-align: top;\n",
       "    }\n",
       "\n",
       "    .dataframe thead th {\n",
       "        text-align: right;\n",
       "    }\n",
       "</style>\n",
       "<table border=\"1\" class=\"dataframe\">\n",
       "  <thead>\n",
       "    <tr style=\"text-align: right;\">\n",
       "      <th></th>\n",
       "      <th>hotel</th>\n",
       "      <th>meal</th>\n",
       "      <th>country</th>\n",
       "      <th>market_segment</th>\n",
       "      <th>distribution_channel</th>\n",
       "      <th>reserved_room_type</th>\n",
       "      <th>deposit_type</th>\n",
       "      <th>customer_type</th>\n",
       "    </tr>\n",
       "  </thead>\n",
       "  <tbody>\n",
       "    <tr>\n",
       "      <th>82162</th>\n",
       "      <td>City Hotel</td>\n",
       "      <td>BB</td>\n",
       "      <td>PRT</td>\n",
       "      <td>Corporate</td>\n",
       "      <td>Corporate</td>\n",
       "      <td>A</td>\n",
       "      <td>No Deposit</td>\n",
       "      <td>Transient-Party</td>\n",
       "    </tr>\n",
       "    <tr>\n",
       "      <th>12953</th>\n",
       "      <td>Resort Hotel</td>\n",
       "      <td>HB</td>\n",
       "      <td>PRT</td>\n",
       "      <td>Offline TA/TO</td>\n",
       "      <td>TA/TO</td>\n",
       "      <td>E</td>\n",
       "      <td>No Deposit</td>\n",
       "      <td>Contract</td>\n",
       "    </tr>\n",
       "    <tr>\n",
       "      <th>31360</th>\n",
       "      <td>Resort Hotel</td>\n",
       "      <td>HB</td>\n",
       "      <td>GBR</td>\n",
       "      <td>Direct</td>\n",
       "      <td>Direct</td>\n",
       "      <td>A</td>\n",
       "      <td>No Deposit</td>\n",
       "      <td>Transient</td>\n",
       "    </tr>\n",
       "    <tr>\n",
       "      <th>115771</th>\n",
       "      <td>City Hotel</td>\n",
       "      <td>BB</td>\n",
       "      <td>GBR</td>\n",
       "      <td>Online TA</td>\n",
       "      <td>TA/TO</td>\n",
       "      <td>F</td>\n",
       "      <td>No Deposit</td>\n",
       "      <td>Transient</td>\n",
       "    </tr>\n",
       "    <tr>\n",
       "      <th>63645</th>\n",
       "      <td>City Hotel</td>\n",
       "      <td>BB</td>\n",
       "      <td>PRT</td>\n",
       "      <td>Online TA</td>\n",
       "      <td>TA/TO</td>\n",
       "      <td>G</td>\n",
       "      <td>No Deposit</td>\n",
       "      <td>Transient</td>\n",
       "    </tr>\n",
       "  </tbody>\n",
       "</table>\n",
       "</div>"
      ],
      "text/plain": [
       "               hotel meal country market_segment distribution_channel  \\\n",
       "82162     City Hotel   BB     PRT      Corporate            Corporate   \n",
       "12953   Resort Hotel   HB     PRT  Offline TA/TO                TA/TO   \n",
       "31360   Resort Hotel   HB     GBR         Direct               Direct   \n",
       "115771    City Hotel   BB     GBR      Online TA                TA/TO   \n",
       "63645     City Hotel   BB     PRT      Online TA                TA/TO   \n",
       "\n",
       "       reserved_room_type deposit_type    customer_type  \n",
       "82162                   A   No Deposit  Transient-Party  \n",
       "12953                   E   No Deposit         Contract  \n",
       "31360                   A   No Deposit        Transient  \n",
       "115771                  F   No Deposit        Transient  \n",
       "63645                   G   No Deposit        Transient  "
      ]
     },
     "execution_count": 75,
     "metadata": {},
     "output_type": "execute_result"
    }
   ],
   "source": [
    "df_categorical = df.select_dtypes('object')\n",
    "df_numerical = df.select_dtypes('number')"
   ]
  },
  {
   "cell_type": "code",
   "execution_count": 76,
   "id": "3f133ae6",
   "metadata": {
    "scrolled": false
   },
   "outputs": [
    {
     "data": {
      "text/plain": [
       "(111044, 8)"
      ]
     },
     "execution_count": 76,
     "metadata": {},
     "output_type": "execute_result"
    }
   ],
   "source": [
    "df_categorical.shape"
   ]
  },
  {
   "cell_type": "code",
   "execution_count": 78,
   "id": "03c0d796",
   "metadata": {
    "scrolled": false
   },
   "outputs": [
    {
     "data": {
      "text/plain": [
       "(111044, 16)"
      ]
     },
     "execution_count": 78,
     "metadata": {},
     "output_type": "execute_result"
    }
   ],
   "source": [
    "df_numerical.shape"
   ]
  },
  {
   "cell_type": "code",
   "execution_count": 79,
   "id": "f8697bc6",
   "metadata": {},
   "outputs": [],
   "source": [
    "X = df.drop(['is_canceled'], axis= 1)\n",
    "y = df['is_canceled']\n",
    "\n",
    "categorical_variables = X.select_dtypes('object').columns.to_list()\n",
    "numerical_variables = X.select_dtypes('number').columns.to_list()\n",
    "\n",
    "X_train, X_test, y_train, y_test = train_test_split(X, y, test_size= 0.33, random_state= 4)"
   ]
  },
  {
   "cell_type": "code",
   "execution_count": 81,
   "id": "757e1387",
   "metadata": {
    "scrolled": true
   },
   "outputs": [
    {
     "data": {
      "text/plain": [
       "(175,)"
      ]
     },
     "execution_count": 81,
     "metadata": {},
     "output_type": "execute_result"
    }
   ],
   "source": [
    "df['country'].value_counts(dropna=False, normalize= True).shape"
   ]
  },
  {
   "cell_type": "code",
   "execution_count": 82,
   "id": "335d02d4",
   "metadata": {
    "scrolled": true
   },
   "outputs": [
    {
     "data": {
      "text/plain": [
       "0.9496055617593026"
      ]
     },
     "execution_count": 82,
     "metadata": {},
     "output_type": "execute_result"
    }
   ],
   "source": [
    "df['country'].value_counts(dropna=False, normalize= True)[0:22].sum()"
   ]
  },
  {
   "cell_type": "code",
   "execution_count": 83,
   "id": "5906e3f6",
   "metadata": {},
   "outputs": [
    {
     "data": {
      "text/plain": [
       "ISR    0.005809\n",
       "RUS    0.005286\n",
       "NOR    0.005169\n",
       "ROU    0.004097\n",
       "FIN    0.003908\n",
       "Name: country, dtype: float64"
      ]
     },
     "execution_count": 83,
     "metadata": {},
     "output_type": "execute_result"
    }
   ],
   "source": [
    "df['country'].value_counts(dropna=False, normalize= True)[0:22].tail()"
   ]
  },
  {
   "cell_type": "code",
   "execution_count": 84,
   "id": "b62218b0",
   "metadata": {},
   "outputs": [
    {
     "data": {
      "text/plain": [
       "(23,)"
      ]
     },
     "execution_count": 84,
     "metadata": {},
     "output_type": "execute_result"
    }
   ],
   "source": [
    "rare_encoder = RareLabelEncoder(tol= 0.003900, variables= ['country'], replace_with= 'Other Country')\n",
    "rare_encoder.fit(X_train)\n",
    "X_train = rare_encoder.transform(X_train)\n",
    "X_test = rare_encoder.transform(X_test)\n",
    "\n",
    "X_train['country'].value_counts(dropna=False, normalize= True).shape"
   ]
  },
  {
   "cell_type": "code",
   "execution_count": 85,
   "id": "1bca8a71",
   "metadata": {
    "scrolled": false
   },
   "outputs": [
    {
     "data": {
      "text/plain": [
       "PRT              0.404468\n",
       "GBR              0.103536\n",
       "FRA              0.088509\n",
       "ESP              0.070565\n",
       "DEU              0.062958\n",
       "Other Country    0.051063\n",
       "ITA              0.030780\n",
       "IRL              0.028871\n",
       "BEL              0.019973\n",
       "BRA              0.019046\n",
       "NLD              0.018280\n",
       "USA              0.016694\n",
       "CHE              0.014422\n",
       "CN               0.010833\n",
       "AUT              0.010753\n",
       "SWE              0.008710\n",
       "CHN              0.008683\n",
       "POL              0.008038\n",
       "ISR              0.005497\n",
       "RUS              0.005282\n",
       "NOR              0.004839\n",
       "ROU              0.004113\n",
       "FIN              0.004086\n",
       "Name: country, dtype: float64"
      ]
     },
     "execution_count": 85,
     "metadata": {},
     "output_type": "execute_result"
    }
   ],
   "source": [
    "X_train['country'].value_counts(dropna=False, normalize= True)"
   ]
  },
  {
   "cell_type": "code",
   "execution_count": 86,
   "id": "5e4ce7d6",
   "metadata": {
    "scrolled": true
   },
   "outputs": [
    {
     "data": {
      "text/html": [
       "<div>\n",
       "<style scoped>\n",
       "    .dataframe tbody tr th:only-of-type {\n",
       "        vertical-align: middle;\n",
       "    }\n",
       "\n",
       "    .dataframe tbody tr th {\n",
       "        vertical-align: top;\n",
       "    }\n",
       "\n",
       "    .dataframe thead th {\n",
       "        text-align: right;\n",
       "    }\n",
       "</style>\n",
       "<table border=\"1\" class=\"dataframe\">\n",
       "  <thead>\n",
       "    <tr style=\"text-align: right;\">\n",
       "      <th></th>\n",
       "      <th>lead_time</th>\n",
       "      <th>arrival_date_week_number</th>\n",
       "      <th>stays_in_weekend_nights</th>\n",
       "      <th>stays_in_week_nights</th>\n",
       "      <th>adults</th>\n",
       "      <th>children</th>\n",
       "      <th>babies</th>\n",
       "      <th>is_repeated_guest</th>\n",
       "      <th>previous_cancellations</th>\n",
       "      <th>previous_bookings_not_canceled</th>\n",
       "      <th>booking_changes</th>\n",
       "      <th>days_in_waiting_list</th>\n",
       "      <th>adr</th>\n",
       "      <th>required_car_parking_spaces</th>\n",
       "      <th>total_of_special_requests</th>\n",
       "    </tr>\n",
       "  </thead>\n",
       "  <tbody>\n",
       "    <tr>\n",
       "      <th>65992</th>\n",
       "      <td>121</td>\n",
       "      <td>15</td>\n",
       "      <td>0</td>\n",
       "      <td>4</td>\n",
       "      <td>3</td>\n",
       "      <td>0.0</td>\n",
       "      <td>0</td>\n",
       "      <td>0</td>\n",
       "      <td>0</td>\n",
       "      <td>0</td>\n",
       "      <td>0</td>\n",
       "      <td>0</td>\n",
       "      <td>173.25</td>\n",
       "      <td>0</td>\n",
       "      <td>0</td>\n",
       "    </tr>\n",
       "    <tr>\n",
       "      <th>110968</th>\n",
       "      <td>175</td>\n",
       "      <td>18</td>\n",
       "      <td>1</td>\n",
       "      <td>3</td>\n",
       "      <td>2</td>\n",
       "      <td>0.0</td>\n",
       "      <td>0</td>\n",
       "      <td>0</td>\n",
       "      <td>0</td>\n",
       "      <td>0</td>\n",
       "      <td>0</td>\n",
       "      <td>0</td>\n",
       "      <td>99.00</td>\n",
       "      <td>0</td>\n",
       "      <td>2</td>\n",
       "    </tr>\n",
       "    <tr>\n",
       "      <th>14150</th>\n",
       "      <td>4</td>\n",
       "      <td>50</td>\n",
       "      <td>0</td>\n",
       "      <td>1</td>\n",
       "      <td>1</td>\n",
       "      <td>0.0</td>\n",
       "      <td>0</td>\n",
       "      <td>0</td>\n",
       "      <td>0</td>\n",
       "      <td>5</td>\n",
       "      <td>0</td>\n",
       "      <td>0</td>\n",
       "      <td>27.00</td>\n",
       "      <td>0</td>\n",
       "      <td>0</td>\n",
       "    </tr>\n",
       "    <tr>\n",
       "      <th>116903</th>\n",
       "      <td>88</td>\n",
       "      <td>30</td>\n",
       "      <td>1</td>\n",
       "      <td>2</td>\n",
       "      <td>2</td>\n",
       "      <td>0.0</td>\n",
       "      <td>0</td>\n",
       "      <td>0</td>\n",
       "      <td>0</td>\n",
       "      <td>0</td>\n",
       "      <td>0</td>\n",
       "      <td>0</td>\n",
       "      <td>125.00</td>\n",
       "      <td>0</td>\n",
       "      <td>1</td>\n",
       "    </tr>\n",
       "    <tr>\n",
       "      <th>42135</th>\n",
       "      <td>10</td>\n",
       "      <td>36</td>\n",
       "      <td>2</td>\n",
       "      <td>5</td>\n",
       "      <td>2</td>\n",
       "      <td>0.0</td>\n",
       "      <td>0</td>\n",
       "      <td>0</td>\n",
       "      <td>0</td>\n",
       "      <td>0</td>\n",
       "      <td>0</td>\n",
       "      <td>0</td>\n",
       "      <td>85.00</td>\n",
       "      <td>0</td>\n",
       "      <td>0</td>\n",
       "    </tr>\n",
       "  </tbody>\n",
       "</table>\n",
       "</div>"
      ],
      "text/plain": [
       "        lead_time  arrival_date_week_number  stays_in_weekend_nights  \\\n",
       "65992         121                        15                        0   \n",
       "110968        175                        18                        1   \n",
       "14150           4                        50                        0   \n",
       "116903         88                        30                        1   \n",
       "42135          10                        36                        2   \n",
       "\n",
       "        stays_in_week_nights  adults  children  babies  is_repeated_guest  \\\n",
       "65992                      4       3       0.0       0                  0   \n",
       "110968                     3       2       0.0       0                  0   \n",
       "14150                      1       1       0.0       0                  0   \n",
       "116903                     2       2       0.0       0                  0   \n",
       "42135                      5       2       0.0       0                  0   \n",
       "\n",
       "        previous_cancellations  previous_bookings_not_canceled  \\\n",
       "65992                        0                               0   \n",
       "110968                       0                               0   \n",
       "14150                        0                               5   \n",
       "116903                       0                               0   \n",
       "42135                        0                               0   \n",
       "\n",
       "        booking_changes  days_in_waiting_list     adr  \\\n",
       "65992                 0                     0  173.25   \n",
       "110968                0                     0   99.00   \n",
       "14150                 0                     0   27.00   \n",
       "116903                0                     0  125.00   \n",
       "42135                 0                     0   85.00   \n",
       "\n",
       "        required_car_parking_spaces  total_of_special_requests  \n",
       "65992                             0                          0  \n",
       "110968                            0                          2  \n",
       "14150                             0                          0  \n",
       "116903                            0                          1  \n",
       "42135                             0                          0  "
      ]
     },
     "execution_count": 86,
     "metadata": {},
     "output_type": "execute_result"
    }
   ],
   "source": [
    "X_train[numerical_variables].head()"
   ]
  },
  {
   "cell_type": "code",
   "execution_count": 87,
   "id": "3884bcc7",
   "metadata": {
    "scrolled": false
   },
   "outputs": [
    {
     "data": {
      "text/plain": [
       "['hotel',\n",
       " 'meal',\n",
       " 'country',\n",
       " 'market_segment',\n",
       " 'distribution_channel',\n",
       " 'reserved_room_type',\n",
       " 'deposit_type',\n",
       " 'customer_type']"
      ]
     },
     "execution_count": 87,
     "metadata": {},
     "output_type": "execute_result"
    }
   ],
   "source": [
    "categorical_variables"
   ]
  },
  {
   "cell_type": "code",
   "execution_count": 88,
   "id": "16cadfe4",
   "metadata": {},
   "outputs": [
    {
     "data": {
      "text/plain": [
       "['country']"
      ]
     },
     "execution_count": 88,
     "metadata": {},
     "output_type": "execute_result"
    }
   ],
   "source": [
    "country_variable = [categorical_variables[2]]\n",
    "country_variable"
   ]
  },
  {
   "cell_type": "code",
   "execution_count": 90,
   "id": "9d8f8cea",
   "metadata": {
    "scrolled": true
   },
   "outputs": [
    {
     "data": {
      "text/plain": [
       "['hotel',\n",
       " 'meal',\n",
       " 'market_segment',\n",
       " 'distribution_channel',\n",
       " 'deposit_type',\n",
       " 'customer_type']"
      ]
     },
     "execution_count": 90,
     "metadata": {},
     "output_type": "execute_result"
    }
   ],
   "source": [
    "other_variables = []\n",
    "for i in categorical_variables:\n",
    "    if i not in ['country', 'reserved_room_type']:\n",
    "        other_variables.append(i)\n",
    "    else:\n",
    "        pass\n",
    "        \n",
    "other_variables"
   ]
  },
  {
   "cell_type": "markdown",
   "id": "f3eec8a3",
   "metadata": {},
   "source": [
    "### GaussianNB"
   ]
  },
  {
   "cell_type": "code",
   "execution_count": 24,
   "id": "58656141",
   "metadata": {},
   "outputs": [],
   "source": [
    "transformer = ColumnTransformer([('jmss', JamesSteinEncoder(), categorical_variables),\n",
    "                                 ('pwr', PowerTransformer(), numerical_variables ),\n",
    "                                 ('stdscaler', StandardScaler(), numerical_variables)])\n",
    "\n",
    "gnb = GaussianNB(var_smoothing= 1.5)\n",
    "\n",
    "pipe = Pipeline([('transformer', transformer), ('model', gnb)])\n",
    "\n",
    "gnb_cv = cross_validate(pipe, X_train, y_train, cv= 10, n_jobs= -1, \n",
    "                        scoring= ['f1', 'precision', 'recall'], return_train_score= True)"
   ]
  },
  {
   "cell_type": "code",
   "execution_count": 25,
   "id": "805e9955",
   "metadata": {},
   "outputs": [
    {
     "data": {
      "text/plain": [
       "fit_time           3.016941\n",
       "score_time         0.102267\n",
       "test_f1            0.662546\n",
       "train_f1           0.662266\n",
       "test_precision     0.582817\n",
       "train_precision    0.582456\n",
       "test_recall        0.767781\n",
       "train_recall       0.767551\n",
       "dtype: float64"
      ]
     },
     "execution_count": 25,
     "metadata": {},
     "output_type": "execute_result"
    }
   ],
   "source": [
    "gnb_cv_df = pd.DataFrame(gnb_cv)\n",
    "gnb_cv_df.mean()"
   ]
  },
  {
   "cell_type": "code",
   "execution_count": 26,
   "id": "c80eda00",
   "metadata": {
    "scrolled": true
   },
   "outputs": [
    {
     "name": "stdout",
     "output_type": "stream",
     "text": [
      "              precision    recall  f1-score   support\n",
      "\n",
      "           0       0.84      0.68      0.75     23067\n",
      "           1       0.59      0.78      0.67     13578\n",
      "\n",
      "    accuracy                           0.71     36645\n",
      "   macro avg       0.71      0.73      0.71     36645\n",
      "weighted avg       0.74      0.71      0.72     36645\n",
      "\n"
     ]
    }
   ],
   "source": [
    "pipe.fit(X_train, y_train)\n",
    "\n",
    "print(classification_report(y_test, pipe.predict(X_test)))"
   ]
  },
  {
   "cell_type": "code",
   "execution_count": 27,
   "id": "75359ac3",
   "metadata": {
    "scrolled": true
   },
   "outputs": [
    {
     "data": {
      "text/plain": [
       "['gaussian_nb_model']"
      ]
     },
     "execution_count": 27,
     "metadata": {},
     "output_type": "execute_result"
    }
   ],
   "source": [
    "jb.dump(value= pipe, filename= 'gaussian_nb_model')"
   ]
  },
  {
   "cell_type": "markdown",
   "id": "4d44ceae",
   "metadata": {},
   "source": [
    "### AdaBoostClassifier | Estimador Base: Gaussian Naive Bayes"
   ]
  },
  {
   "cell_type": "code",
   "execution_count": 64,
   "id": "ec5e386a",
   "metadata": {},
   "outputs": [],
   "source": [
    "transformer = ColumnTransformer([('jmss', JamesSteinEncoder(), categorical_variables),\n",
    "                                 ('pwr', PowerTransformer(), numerical_variables ),\n",
    "                                 ('stdscaler', StandardScaler(), numerical_variables)])\n",
    "\n",
    "ada_gnb = AdaBoostClassifier(GaussianNB(var_smoothing= 1.5), n_estimators= 100, random_state=4)\n",
    "\n",
    "pipe = Pipeline([('transformer', transformer), ('model', ada_gnb)])\n",
    "\n",
    "param_grid = {'model__learning_rate': np.arange(1, 1.5, 0.05)}   \n",
    "    \n",
    "rscv_ada_gnb = RandomizedSearchCV(pipe, param_grid, cv= 10, n_jobs= -1, scoring= ['recall', 'precision', 'f1', 'roc_auc'], \n",
    "                             refit= 'f1', return_train_score= True, random_state= 4)\n",
    "\n",
    "rscv_ada_gnb.fit(X_train, y_train)\n",
    "\n",
    "best_results = pd.DataFrame(rscv_ada_gnb.cv_results_)"
   ]
  },
  {
   "cell_type": "code",
   "execution_count": 65,
   "id": "5c492678",
   "metadata": {
    "scrolled": true
   },
   "outputs": [
    {
     "data": {
      "text/html": [
       "<div>\n",
       "<style scoped>\n",
       "    .dataframe tbody tr th:only-of-type {\n",
       "        vertical-align: middle;\n",
       "    }\n",
       "\n",
       "    .dataframe tbody tr th {\n",
       "        vertical-align: top;\n",
       "    }\n",
       "\n",
       "    .dataframe thead th {\n",
       "        text-align: right;\n",
       "    }\n",
       "</style>\n",
       "<table border=\"1\" class=\"dataframe\">\n",
       "  <thead>\n",
       "    <tr style=\"text-align: right;\">\n",
       "      <th></th>\n",
       "      <th>params</th>\n",
       "      <th>mean_train_recall</th>\n",
       "      <th>mean_test_recall</th>\n",
       "      <th>mean_train_precision</th>\n",
       "      <th>mean_test_precision</th>\n",
       "      <th>mean_train_f1</th>\n",
       "      <th>mean_test_f1</th>\n",
       "      <th>mean_train_roc_auc</th>\n",
       "      <th>mean_test_roc_auc</th>\n",
       "    </tr>\n",
       "  </thead>\n",
       "  <tbody>\n",
       "    <tr>\n",
       "      <th>1</th>\n",
       "      <td>{'model__learning_rate': 1.05}</td>\n",
       "      <td>0.64</td>\n",
       "      <td>0.64</td>\n",
       "      <td>0.41</td>\n",
       "      <td>0.41</td>\n",
       "      <td>0.44</td>\n",
       "      <td>0.44</td>\n",
       "      <td>0.63</td>\n",
       "      <td>0.63</td>\n",
       "    </tr>\n",
       "    <tr>\n",
       "      <th>3</th>\n",
       "      <td>{'model__learning_rate': 1.1500000000000001}</td>\n",
       "      <td>0.64</td>\n",
       "      <td>0.64</td>\n",
       "      <td>0.43</td>\n",
       "      <td>0.44</td>\n",
       "      <td>0.42</td>\n",
       "      <td>0.42</td>\n",
       "      <td>0.60</td>\n",
       "      <td>0.60</td>\n",
       "    </tr>\n",
       "    <tr>\n",
       "      <th>8</th>\n",
       "      <td>{'model__learning_rate': 1.4000000000000004}</td>\n",
       "      <td>0.55</td>\n",
       "      <td>0.55</td>\n",
       "      <td>0.37</td>\n",
       "      <td>0.37</td>\n",
       "      <td>0.37</td>\n",
       "      <td>0.37</td>\n",
       "      <td>0.54</td>\n",
       "      <td>0.54</td>\n",
       "    </tr>\n",
       "    <tr>\n",
       "      <th>9</th>\n",
       "      <td>{'model__learning_rate': 1.4500000000000004}</td>\n",
       "      <td>0.52</td>\n",
       "      <td>0.52</td>\n",
       "      <td>0.46</td>\n",
       "      <td>0.45</td>\n",
       "      <td>0.36</td>\n",
       "      <td>0.36</td>\n",
       "      <td>0.57</td>\n",
       "      <td>0.57</td>\n",
       "    </tr>\n",
       "    <tr>\n",
       "      <th>5</th>\n",
       "      <td>{'model__learning_rate': 1.2500000000000002}</td>\n",
       "      <td>0.46</td>\n",
       "      <td>0.47</td>\n",
       "      <td>0.49</td>\n",
       "      <td>0.50</td>\n",
       "      <td>0.36</td>\n",
       "      <td>0.36</td>\n",
       "      <td>0.64</td>\n",
       "      <td>0.64</td>\n",
       "    </tr>\n",
       "    <tr>\n",
       "      <th>2</th>\n",
       "      <td>{'model__learning_rate': 1.1}</td>\n",
       "      <td>0.40</td>\n",
       "      <td>0.40</td>\n",
       "      <td>0.49</td>\n",
       "      <td>0.39</td>\n",
       "      <td>0.31</td>\n",
       "      <td>0.31</td>\n",
       "      <td>0.60</td>\n",
       "      <td>0.60</td>\n",
       "    </tr>\n",
       "    <tr>\n",
       "      <th>0</th>\n",
       "      <td>{'model__learning_rate': 1.0}</td>\n",
       "      <td>0.46</td>\n",
       "      <td>0.45</td>\n",
       "      <td>0.50</td>\n",
       "      <td>0.51</td>\n",
       "      <td>0.30</td>\n",
       "      <td>0.30</td>\n",
       "      <td>0.62</td>\n",
       "      <td>0.62</td>\n",
       "    </tr>\n",
       "    <tr>\n",
       "      <th>7</th>\n",
       "      <td>{'model__learning_rate': 1.3500000000000003}</td>\n",
       "      <td>0.41</td>\n",
       "      <td>0.41</td>\n",
       "      <td>0.41</td>\n",
       "      <td>0.42</td>\n",
       "      <td>0.29</td>\n",
       "      <td>0.29</td>\n",
       "      <td>0.57</td>\n",
       "      <td>0.57</td>\n",
       "    </tr>\n",
       "    <tr>\n",
       "      <th>6</th>\n",
       "      <td>{'model__learning_rate': 1.3000000000000003}</td>\n",
       "      <td>0.42</td>\n",
       "      <td>0.42</td>\n",
       "      <td>0.47</td>\n",
       "      <td>0.47</td>\n",
       "      <td>0.29</td>\n",
       "      <td>0.29</td>\n",
       "      <td>0.59</td>\n",
       "      <td>0.59</td>\n",
       "    </tr>\n",
       "    <tr>\n",
       "      <th>4</th>\n",
       "      <td>{'model__learning_rate': 1.2000000000000002}</td>\n",
       "      <td>0.31</td>\n",
       "      <td>0.31</td>\n",
       "      <td>0.40</td>\n",
       "      <td>0.41</td>\n",
       "      <td>0.27</td>\n",
       "      <td>0.28</td>\n",
       "      <td>0.55</td>\n",
       "      <td>0.56</td>\n",
       "    </tr>\n",
       "  </tbody>\n",
       "</table>\n",
       "</div>"
      ],
      "text/plain": [
       "                                         params  mean_train_recall  \\\n",
       "1                {'model__learning_rate': 1.05}               0.64   \n",
       "3  {'model__learning_rate': 1.1500000000000001}               0.64   \n",
       "8  {'model__learning_rate': 1.4000000000000004}               0.55   \n",
       "9  {'model__learning_rate': 1.4500000000000004}               0.52   \n",
       "5  {'model__learning_rate': 1.2500000000000002}               0.46   \n",
       "2                 {'model__learning_rate': 1.1}               0.40   \n",
       "0                 {'model__learning_rate': 1.0}               0.46   \n",
       "7  {'model__learning_rate': 1.3500000000000003}               0.41   \n",
       "6  {'model__learning_rate': 1.3000000000000003}               0.42   \n",
       "4  {'model__learning_rate': 1.2000000000000002}               0.31   \n",
       "\n",
       "   mean_test_recall  mean_train_precision  mean_test_precision  mean_train_f1  \\\n",
       "1              0.64                  0.41                 0.41           0.44   \n",
       "3              0.64                  0.43                 0.44           0.42   \n",
       "8              0.55                  0.37                 0.37           0.37   \n",
       "9              0.52                  0.46                 0.45           0.36   \n",
       "5              0.47                  0.49                 0.50           0.36   \n",
       "2              0.40                  0.49                 0.39           0.31   \n",
       "0              0.45                  0.50                 0.51           0.30   \n",
       "7              0.41                  0.41                 0.42           0.29   \n",
       "6              0.42                  0.47                 0.47           0.29   \n",
       "4              0.31                  0.40                 0.41           0.27   \n",
       "\n",
       "   mean_test_f1  mean_train_roc_auc  mean_test_roc_auc  \n",
       "1          0.44                0.63               0.63  \n",
       "3          0.42                0.60               0.60  \n",
       "8          0.37                0.54               0.54  \n",
       "9          0.36                0.57               0.57  \n",
       "5          0.36                0.64               0.64  \n",
       "2          0.31                0.60               0.60  \n",
       "0          0.30                0.62               0.62  \n",
       "7          0.29                0.57               0.57  \n",
       "6          0.29                0.59               0.59  \n",
       "4          0.28                0.55               0.56  "
      ]
     },
     "execution_count": 65,
     "metadata": {},
     "output_type": "execute_result"
    }
   ],
   "source": [
    "pd.set_option('max.colwidth', None)\n",
    "best_results[['params','mean_train_recall', 'mean_test_recall', 'mean_train_precision', 'mean_test_precision', \n",
    "              'mean_train_f1', 'mean_test_f1', 'mean_train_roc_auc', 'mean_test_roc_auc']].sort_values(\n",
    "                                                                                'mean_test_f1', ascending= False).round(2)"
   ]
  },
  {
   "cell_type": "code",
   "execution_count": 66,
   "id": "86023c82",
   "metadata": {},
   "outputs": [
    {
     "name": "stdout",
     "output_type": "stream",
     "text": [
      "{'model__learning_rate': 1.05}\n",
      "\n",
      "              precision    recall  f1-score   support\n",
      "\n",
      "           0       0.81      0.53      0.64     23067\n",
      "           1       0.50      0.79      0.61     13578\n",
      "\n",
      "    accuracy                           0.63     36645\n",
      "   macro avg       0.65      0.66      0.63     36645\n",
      "weighted avg       0.69      0.63      0.63     36645\n",
      "\n"
     ]
    }
   ],
   "source": [
    "print(rscv_ada_gnb.best_params_)\n",
    "print('')\n",
    "\n",
    "y_pred = rscv_ada_gnb.predict(X_test)\n",
    "print(classification_report(y_test, y_pred))"
   ]
  },
  {
   "cell_type": "code",
   "execution_count": 69,
   "id": "dd27daf6",
   "metadata": {
    "scrolled": true
   },
   "outputs": [
    {
     "data": {
      "text/plain": [
       "['ada_gnb_model']"
      ]
     },
     "execution_count": 69,
     "metadata": {},
     "output_type": "execute_result"
    }
   ],
   "source": [
    "jb.dump(value= rscv_ada_gnb, filename= 'ada_gnb_model')"
   ]
  },
  {
   "cell_type": "code",
   "execution_count": null,
   "id": "bca84294",
   "metadata": {},
   "outputs": [],
   "source": []
  }
 ],
 "metadata": {
  "kernelspec": {
   "display_name": "Python 3 (ipykernel)",
   "language": "python",
   "name": "python3"
  },
  "language_info": {
   "codemirror_mode": {
    "name": "ipython",
    "version": 3
   },
   "file_extension": ".py",
   "mimetype": "text/x-python",
   "name": "python",
   "nbconvert_exporter": "python",
   "pygments_lexer": "ipython3",
   "version": "3.9.13"
  }
 },
 "nbformat": 4,
 "nbformat_minor": 5
}
