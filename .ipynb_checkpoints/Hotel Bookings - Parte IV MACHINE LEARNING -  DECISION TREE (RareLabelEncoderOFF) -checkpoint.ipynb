{
 "cells": [
  {
   "cell_type": "code",
   "execution_count": 18,
   "id": "6f9fd631",
   "metadata": {},
   "outputs": [],
   "source": [
    "import warnings\n",
    "warnings.filterwarnings('ignore')\n",
    "import pandas as pd\n",
    "pd.set_option('display.max_columns', None)\n",
    "import numpy as np\n",
    "from sklearn.model_selection import train_test_split, RandomizedSearchCV, cross_validate\n",
    "from sklearn.preprocessing import OneHotEncoder, StandardScaler\n",
    "from category_encoders import JamesSteinEncoder\n",
    "from sklearn.pipeline import Pipeline\n",
    "from sklearn.compose import ColumnTransformer\n",
    "from sklearn.tree import DecisionTreeClassifier\n",
    "from sklearn.metrics import classification_report\n",
    "import joblib as jb"
   ]
  },
  {
   "cell_type": "code",
   "execution_count": 67,
   "id": "b45ea35f",
   "metadata": {},
   "outputs": [],
   "source": [
    "df = pd.read_csv('hotel_bookings.csv')"
   ]
  },
  {
   "cell_type": "code",
   "execution_count": 68,
   "id": "b78a7f50",
   "metadata": {},
   "outputs": [
    {
     "data": {
      "text/plain": [
       "(111689, 32)"
      ]
     },
     "execution_count": 68,
     "metadata": {},
     "output_type": "execute_result"
    }
   ],
   "source": [
    "df = df[~((df['arrival_date_year'] == 2015) & (df['arrival_date_month'] == 'July') | (df['arrival_date_year'] == 2017) &\n",
    "         (df['arrival_date_month'] == 'August'))]\n",
    "df.shape"
   ]
  },
  {
   "cell_type": "code",
   "execution_count": 69,
   "id": "bfe5954d",
   "metadata": {},
   "outputs": [
    {
     "data": {
      "text/plain": [
       "(111513, 32)"
      ]
     },
     "execution_count": 69,
     "metadata": {},
     "output_type": "execute_result"
    }
   ],
   "source": [
    "df = df[~((df['children'] == 0) & (df['adults'] == 0) & (df['babies'] == 0))]\n",
    "df.shape"
   ]
  },
  {
   "cell_type": "code",
   "execution_count": 70,
   "id": "bf6a6ebc",
   "metadata": {},
   "outputs": [
    {
     "data": {
      "text/plain": [
       "(111513, 24)"
      ]
     },
     "execution_count": 70,
     "metadata": {},
     "output_type": "execute_result"
    }
   ],
   "source": [
    "df.drop(columns= ['company', 'agent', 'reservation_status_date', 'assigned_room_type', 'reservation_status',\n",
    "                  'arrival_date_year', 'arrival_date_month', 'arrival_date_day_of_month'], \n",
    "        inplace= True)\n",
    "df.shape"
   ]
  },
  {
   "cell_type": "code",
   "execution_count": 71,
   "id": "312cdd76",
   "metadata": {
    "scrolled": true
   },
   "outputs": [
    {
     "data": {
      "text/plain": [
       "(111044, 24)"
      ]
     },
     "execution_count": 71,
     "metadata": {},
     "output_type": "execute_result"
    }
   ],
   "source": [
    "df.dropna(inplace= True)\n",
    "df.shape"
   ]
  },
  {
   "cell_type": "code",
   "execution_count": 72,
   "id": "35659b89",
   "metadata": {
    "scrolled": false
   },
   "outputs": [
    {
     "data": {
      "text/plain": [
       "31653"
      ]
     },
     "execution_count": 72,
     "metadata": {},
     "output_type": "execute_result"
    }
   ],
   "source": [
    "df.duplicated().sum()"
   ]
  },
  {
   "cell_type": "code",
   "execution_count": 73,
   "id": "d59d435f",
   "metadata": {
    "scrolled": true
   },
   "outputs": [
    {
     "data": {
      "text/plain": [
       "0    63.02\n",
       "1    36.98\n",
       "Name: is_canceled, dtype: float64"
      ]
     },
     "execution_count": 73,
     "metadata": {},
     "output_type": "execute_result"
    }
   ],
   "source": [
    "df['is_canceled'].value_counts(normalize= True).mul(100).round(2)"
   ]
  },
  {
   "cell_type": "code",
   "execution_count": 75,
   "id": "bb55f2ce",
   "metadata": {
    "collapsed": true
   },
   "outputs": [
    {
     "data": {
      "text/html": [
       "<div>\n",
       "<style scoped>\n",
       "    .dataframe tbody tr th:only-of-type {\n",
       "        vertical-align: middle;\n",
       "    }\n",
       "\n",
       "    .dataframe tbody tr th {\n",
       "        vertical-align: top;\n",
       "    }\n",
       "\n",
       "    .dataframe thead th {\n",
       "        text-align: right;\n",
       "    }\n",
       "</style>\n",
       "<table border=\"1\" class=\"dataframe\">\n",
       "  <thead>\n",
       "    <tr style=\"text-align: right;\">\n",
       "      <th></th>\n",
       "      <th>hotel</th>\n",
       "      <th>meal</th>\n",
       "      <th>country</th>\n",
       "      <th>market_segment</th>\n",
       "      <th>distribution_channel</th>\n",
       "      <th>reserved_room_type</th>\n",
       "      <th>deposit_type</th>\n",
       "      <th>customer_type</th>\n",
       "    </tr>\n",
       "  </thead>\n",
       "  <tbody>\n",
       "    <tr>\n",
       "      <th>82162</th>\n",
       "      <td>City Hotel</td>\n",
       "      <td>BB</td>\n",
       "      <td>PRT</td>\n",
       "      <td>Corporate</td>\n",
       "      <td>Corporate</td>\n",
       "      <td>A</td>\n",
       "      <td>No Deposit</td>\n",
       "      <td>Transient-Party</td>\n",
       "    </tr>\n",
       "    <tr>\n",
       "      <th>12953</th>\n",
       "      <td>Resort Hotel</td>\n",
       "      <td>HB</td>\n",
       "      <td>PRT</td>\n",
       "      <td>Offline TA/TO</td>\n",
       "      <td>TA/TO</td>\n",
       "      <td>E</td>\n",
       "      <td>No Deposit</td>\n",
       "      <td>Contract</td>\n",
       "    </tr>\n",
       "    <tr>\n",
       "      <th>31360</th>\n",
       "      <td>Resort Hotel</td>\n",
       "      <td>HB</td>\n",
       "      <td>GBR</td>\n",
       "      <td>Direct</td>\n",
       "      <td>Direct</td>\n",
       "      <td>A</td>\n",
       "      <td>No Deposit</td>\n",
       "      <td>Transient</td>\n",
       "    </tr>\n",
       "    <tr>\n",
       "      <th>115771</th>\n",
       "      <td>City Hotel</td>\n",
       "      <td>BB</td>\n",
       "      <td>GBR</td>\n",
       "      <td>Online TA</td>\n",
       "      <td>TA/TO</td>\n",
       "      <td>F</td>\n",
       "      <td>No Deposit</td>\n",
       "      <td>Transient</td>\n",
       "    </tr>\n",
       "    <tr>\n",
       "      <th>63645</th>\n",
       "      <td>City Hotel</td>\n",
       "      <td>BB</td>\n",
       "      <td>PRT</td>\n",
       "      <td>Online TA</td>\n",
       "      <td>TA/TO</td>\n",
       "      <td>G</td>\n",
       "      <td>No Deposit</td>\n",
       "      <td>Transient</td>\n",
       "    </tr>\n",
       "  </tbody>\n",
       "</table>\n",
       "</div>"
      ],
      "text/plain": [
       "               hotel meal country market_segment distribution_channel  \\\n",
       "82162     City Hotel   BB     PRT      Corporate            Corporate   \n",
       "12953   Resort Hotel   HB     PRT  Offline TA/TO                TA/TO   \n",
       "31360   Resort Hotel   HB     GBR         Direct               Direct   \n",
       "115771    City Hotel   BB     GBR      Online TA                TA/TO   \n",
       "63645     City Hotel   BB     PRT      Online TA                TA/TO   \n",
       "\n",
       "       reserved_room_type deposit_type    customer_type  \n",
       "82162                   A   No Deposit  Transient-Party  \n",
       "12953                   E   No Deposit         Contract  \n",
       "31360                   A   No Deposit        Transient  \n",
       "115771                  F   No Deposit        Transient  \n",
       "63645                   G   No Deposit        Transient  "
      ]
     },
     "execution_count": 75,
     "metadata": {},
     "output_type": "execute_result"
    }
   ],
   "source": [
    "df_categorical = df.select_dtypes('object')\n",
    "df_numerical = df.select_dtypes('number')"
   ]
  },
  {
   "cell_type": "code",
   "execution_count": 76,
   "id": "3f133ae6",
   "metadata": {
    "scrolled": false
   },
   "outputs": [
    {
     "data": {
      "text/plain": [
       "(111044, 8)"
      ]
     },
     "execution_count": 76,
     "metadata": {},
     "output_type": "execute_result"
    }
   ],
   "source": [
    "df_categorical.shape"
   ]
  },
  {
   "cell_type": "code",
   "execution_count": 78,
   "id": "03c0d796",
   "metadata": {
    "scrolled": false
   },
   "outputs": [
    {
     "data": {
      "text/plain": [
       "(111044, 16)"
      ]
     },
     "execution_count": 78,
     "metadata": {},
     "output_type": "execute_result"
    }
   ],
   "source": [
    "df_numerical.shape"
   ]
  },
  {
   "cell_type": "code",
   "execution_count": 79,
   "id": "f8697bc6",
   "metadata": {},
   "outputs": [],
   "source": [
    "X = df.drop(['is_canceled'], axis= 1)\n",
    "y = df['is_canceled']\n",
    "\n",
    "categorical_variables = X.select_dtypes('object').columns.to_list()\n",
    "numerical_variables = X.select_dtypes('number').columns.to_list()\n",
    "\n",
    "X_train, X_test, y_train, y_test = train_test_split(X, y, test_size= 0.33, random_state= 4)"
   ]
  },
  {
   "cell_type": "code",
   "execution_count": 86,
   "id": "5e4ce7d6",
   "metadata": {
    "scrolled": true
   },
   "outputs": [
    {
     "data": {
      "text/html": [
       "<div>\n",
       "<style scoped>\n",
       "    .dataframe tbody tr th:only-of-type {\n",
       "        vertical-align: middle;\n",
       "    }\n",
       "\n",
       "    .dataframe tbody tr th {\n",
       "        vertical-align: top;\n",
       "    }\n",
       "\n",
       "    .dataframe thead th {\n",
       "        text-align: right;\n",
       "    }\n",
       "</style>\n",
       "<table border=\"1\" class=\"dataframe\">\n",
       "  <thead>\n",
       "    <tr style=\"text-align: right;\">\n",
       "      <th></th>\n",
       "      <th>lead_time</th>\n",
       "      <th>arrival_date_week_number</th>\n",
       "      <th>stays_in_weekend_nights</th>\n",
       "      <th>stays_in_week_nights</th>\n",
       "      <th>adults</th>\n",
       "      <th>children</th>\n",
       "      <th>babies</th>\n",
       "      <th>is_repeated_guest</th>\n",
       "      <th>previous_cancellations</th>\n",
       "      <th>previous_bookings_not_canceled</th>\n",
       "      <th>booking_changes</th>\n",
       "      <th>days_in_waiting_list</th>\n",
       "      <th>adr</th>\n",
       "      <th>required_car_parking_spaces</th>\n",
       "      <th>total_of_special_requests</th>\n",
       "    </tr>\n",
       "  </thead>\n",
       "  <tbody>\n",
       "    <tr>\n",
       "      <th>65992</th>\n",
       "      <td>121</td>\n",
       "      <td>15</td>\n",
       "      <td>0</td>\n",
       "      <td>4</td>\n",
       "      <td>3</td>\n",
       "      <td>0.0</td>\n",
       "      <td>0</td>\n",
       "      <td>0</td>\n",
       "      <td>0</td>\n",
       "      <td>0</td>\n",
       "      <td>0</td>\n",
       "      <td>0</td>\n",
       "      <td>173.25</td>\n",
       "      <td>0</td>\n",
       "      <td>0</td>\n",
       "    </tr>\n",
       "    <tr>\n",
       "      <th>110968</th>\n",
       "      <td>175</td>\n",
       "      <td>18</td>\n",
       "      <td>1</td>\n",
       "      <td>3</td>\n",
       "      <td>2</td>\n",
       "      <td>0.0</td>\n",
       "      <td>0</td>\n",
       "      <td>0</td>\n",
       "      <td>0</td>\n",
       "      <td>0</td>\n",
       "      <td>0</td>\n",
       "      <td>0</td>\n",
       "      <td>99.00</td>\n",
       "      <td>0</td>\n",
       "      <td>2</td>\n",
       "    </tr>\n",
       "    <tr>\n",
       "      <th>14150</th>\n",
       "      <td>4</td>\n",
       "      <td>50</td>\n",
       "      <td>0</td>\n",
       "      <td>1</td>\n",
       "      <td>1</td>\n",
       "      <td>0.0</td>\n",
       "      <td>0</td>\n",
       "      <td>0</td>\n",
       "      <td>0</td>\n",
       "      <td>5</td>\n",
       "      <td>0</td>\n",
       "      <td>0</td>\n",
       "      <td>27.00</td>\n",
       "      <td>0</td>\n",
       "      <td>0</td>\n",
       "    </tr>\n",
       "    <tr>\n",
       "      <th>116903</th>\n",
       "      <td>88</td>\n",
       "      <td>30</td>\n",
       "      <td>1</td>\n",
       "      <td>2</td>\n",
       "      <td>2</td>\n",
       "      <td>0.0</td>\n",
       "      <td>0</td>\n",
       "      <td>0</td>\n",
       "      <td>0</td>\n",
       "      <td>0</td>\n",
       "      <td>0</td>\n",
       "      <td>0</td>\n",
       "      <td>125.00</td>\n",
       "      <td>0</td>\n",
       "      <td>1</td>\n",
       "    </tr>\n",
       "    <tr>\n",
       "      <th>42135</th>\n",
       "      <td>10</td>\n",
       "      <td>36</td>\n",
       "      <td>2</td>\n",
       "      <td>5</td>\n",
       "      <td>2</td>\n",
       "      <td>0.0</td>\n",
       "      <td>0</td>\n",
       "      <td>0</td>\n",
       "      <td>0</td>\n",
       "      <td>0</td>\n",
       "      <td>0</td>\n",
       "      <td>0</td>\n",
       "      <td>85.00</td>\n",
       "      <td>0</td>\n",
       "      <td>0</td>\n",
       "    </tr>\n",
       "  </tbody>\n",
       "</table>\n",
       "</div>"
      ],
      "text/plain": [
       "        lead_time  arrival_date_week_number  stays_in_weekend_nights  \\\n",
       "65992         121                        15                        0   \n",
       "110968        175                        18                        1   \n",
       "14150           4                        50                        0   \n",
       "116903         88                        30                        1   \n",
       "42135          10                        36                        2   \n",
       "\n",
       "        stays_in_week_nights  adults  children  babies  is_repeated_guest  \\\n",
       "65992                      4       3       0.0       0                  0   \n",
       "110968                     3       2       0.0       0                  0   \n",
       "14150                      1       1       0.0       0                  0   \n",
       "116903                     2       2       0.0       0                  0   \n",
       "42135                      5       2       0.0       0                  0   \n",
       "\n",
       "        previous_cancellations  previous_bookings_not_canceled  \\\n",
       "65992                        0                               0   \n",
       "110968                       0                               0   \n",
       "14150                        0                               5   \n",
       "116903                       0                               0   \n",
       "42135                        0                               0   \n",
       "\n",
       "        booking_changes  days_in_waiting_list     adr  \\\n",
       "65992                 0                     0  173.25   \n",
       "110968                0                     0   99.00   \n",
       "14150                 0                     0   27.00   \n",
       "116903                0                     0  125.00   \n",
       "42135                 0                     0   85.00   \n",
       "\n",
       "        required_car_parking_spaces  total_of_special_requests  \n",
       "65992                             0                          0  \n",
       "110968                            0                          2  \n",
       "14150                             0                          0  \n",
       "116903                            0                          1  \n",
       "42135                             0                          0  "
      ]
     },
     "execution_count": 86,
     "metadata": {},
     "output_type": "execute_result"
    }
   ],
   "source": [
    "X_train[numerical_variables].head()"
   ]
  },
  {
   "cell_type": "code",
   "execution_count": 87,
   "id": "3884bcc7",
   "metadata": {
    "scrolled": false
   },
   "outputs": [
    {
     "data": {
      "text/plain": [
       "['hotel',\n",
       " 'meal',\n",
       " 'country',\n",
       " 'market_segment',\n",
       " 'distribution_channel',\n",
       " 'reserved_room_type',\n",
       " 'deposit_type',\n",
       " 'customer_type']"
      ]
     },
     "execution_count": 87,
     "metadata": {},
     "output_type": "execute_result"
    }
   ],
   "source": [
    "categorical_variables"
   ]
  },
  {
   "cell_type": "code",
   "execution_count": 88,
   "id": "16cadfe4",
   "metadata": {},
   "outputs": [
    {
     "data": {
      "text/plain": [
       "['country']"
      ]
     },
     "execution_count": 88,
     "metadata": {},
     "output_type": "execute_result"
    }
   ],
   "source": [
    "country_variable = [categorical_variables[2]]\n",
    "country_variable"
   ]
  },
  {
   "cell_type": "code",
   "execution_count": 90,
   "id": "9d8f8cea",
   "metadata": {
    "scrolled": true
   },
   "outputs": [
    {
     "data": {
      "text/plain": [
       "['hotel',\n",
       " 'meal',\n",
       " 'market_segment',\n",
       " 'distribution_channel',\n",
       " 'deposit_type',\n",
       " 'customer_type']"
      ]
     },
     "execution_count": 90,
     "metadata": {},
     "output_type": "execute_result"
    }
   ],
   "source": [
    "other_variables = []\n",
    "for i in categorical_variables:\n",
    "    if i not in ['country', 'reserved_room_type']:\n",
    "        other_variables.append(i)\n",
    "    else:\n",
    "        pass\n",
    "        \n",
    "other_variables"
   ]
  },
  {
   "cell_type": "markdown",
   "id": "137603e2",
   "metadata": {},
   "source": [
    "#### Testando combinação de  diferentes encoders."
   ]
  },
  {
   "cell_type": "code",
   "execution_count": 91,
   "id": "0af05af8",
   "metadata": {},
   "outputs": [],
   "source": [
    "def encoders_model_results_tree(encoders_cat, encoders_country, model_):\n",
    "        \n",
    "    def differentencoders_model_results(x, y):\n",
    "        other_variables_pipe = Pipeline([('encoder_other_variables', x)])\n",
    "        country_pipe = Pipeline([('encoder_country', y)])\n",
    "        num_pipe = Pipeline([('num_pwr_transf', PowerTransformer()), \n",
    "                             ('num_std_scaler', StandardScaler())])\n",
    "        \n",
    "        transformer = ColumnTransformer([('other_variables_transf', other_variables_pipe, other_variables),\n",
    "                                         ('country_transf', country_pipe, country_variable), \n",
    "                                         ('num_transf', num_pipe, numerical_variables)])\n",
    "        \n",
    "        X_train_transformed = transformer.fit_transform(X_train, y_train)\n",
    "        X_test_transformed = transformer.transform(X_test)\n",
    "    \n",
    "        cv = cross_validate(model_, X_train_transformed, y_train, cv= 10, scoring= ('recall', 'precision', 'f1'), \n",
    "                               n_jobs= -1)\n",
    "        \n",
    "        print(model_)\n",
    "        print('Recall:', cv['test_recall'].mean().round(2), 'Precision:', \n",
    "              cv['test_precision'].mean().round(2), 'F1-Score:', cv['test_f1'].mean().round(2))\n",
    "        print('')\n",
    "    \n",
    "    for i in encoders_cat:\n",
    "        for j in encoders_country:\n",
    "            print(i, ' - other variables      ', j, ' - country variable')                    \n",
    "            differentencoders_model_results(i, j)"
   ]
  },
  {
   "cell_type": "code",
   "execution_count": 92,
   "id": "47163505",
   "metadata": {
    "scrolled": true
   },
   "outputs": [
    {
     "name": "stdout",
     "output_type": "stream",
     "text": [
      "OneHotEncoder(handle_unknown='ignore')  - other variables       OneHotEncoder(handle_unknown='ignore')  - country variable\n",
      "LogisticRegression()\n",
      "Recall: 0.68 Precision: 0.82 F1-Score: 0.74\n",
      "\n",
      "OneHotEncoder(handle_unknown='ignore')  - other variables       JamesSteinEncoder()  - country variable\n",
      "LogisticRegression()\n",
      "Recall: 0.67 Precision: 0.82 F1-Score: 0.74\n",
      "\n",
      "JamesSteinEncoder()  - other variables       OneHotEncoder(handle_unknown='ignore')  - country variable\n",
      "LogisticRegression()\n",
      "Recall: 0.64 Precision: 0.82 F1-Score: 0.72\n",
      "\n",
      "JamesSteinEncoder()  - other variables       JamesSteinEncoder()  - country variable\n",
      "LogisticRegression()\n",
      "Recall: 0.64 Precision: 0.82 F1-Score: 0.72\n",
      "\n"
     ]
    }
   ],
   "source": [
    "others = [OneHotEncoder(handle_unknown= 'ignore'), JamesSteinEncoder()]\n",
    "country = [OneHotEncoder(handle_unknown= 'ignore'), JamesSteinEncoder()]\n",
    "\n",
    "#Árvore de Decisão\n",
    "encoders_model_results_tree(others, country, DecisionTreeClassifier(random_state= 4))"
   ]
  },
  {
   "cell_type": "markdown",
   "id": "253e5011",
   "metadata": {},
   "source": [
    "### Decision Tree"
   ]
  },
  {
   "cell_type": "markdown",
   "id": "9969a328",
   "metadata": {},
   "source": [
    "#### OHE"
   ]
  },
  {
   "cell_type": "code",
   "execution_count": 12,
   "id": "ec5e386a",
   "metadata": {},
   "outputs": [],
   "source": [
    "transformer = ColumnTransformer([('ohe', OneHotEncoder(handle_unknown= 'ignore'), categorical_variables), \n",
    "                                  ('stdscaler', StandardScaler(), numerical_variables)])\n",
    "\n",
    "tree = DecisionTreeClassifier(random_state=4)\n",
    "\n",
    "pipe = Pipeline([('transformer', transformer), ('model', tree)])\n",
    "\n",
    "weights = np.arange(0.2, 0.8, 0.005)\n",
    "param_grid = {'model__min_samples_leaf':[1,2,3,4,5], \n",
    "              'model__class_weight':[{0:x, 1:1-x} for x in weights]}   \n",
    "    \n",
    "rscv_tree = RandomizedSearchCV(pipe, param_grid, cv= 10, n_jobs= -1, scoring= ['recall', 'precision', 'f1', 'roc_auc'], \n",
    "                             refit= 'f1', return_train_score= True, random_state= 4)\n",
    "\n",
    "rscv_tree.fit(X_train, y_train)\n",
    "\n",
    "best_results = pd.DataFrame(rscv_tree.cv_results_)"
   ]
  },
  {
   "cell_type": "code",
   "execution_count": 13,
   "id": "5c492678",
   "metadata": {
    "scrolled": true
   },
   "outputs": [
    {
     "data": {
      "text/html": [
       "<div>\n",
       "<style scoped>\n",
       "    .dataframe tbody tr th:only-of-type {\n",
       "        vertical-align: middle;\n",
       "    }\n",
       "\n",
       "    .dataframe tbody tr th {\n",
       "        vertical-align: top;\n",
       "    }\n",
       "\n",
       "    .dataframe thead th {\n",
       "        text-align: right;\n",
       "    }\n",
       "</style>\n",
       "<table border=\"1\" class=\"dataframe\">\n",
       "  <thead>\n",
       "    <tr style=\"text-align: right;\">\n",
       "      <th></th>\n",
       "      <th>params</th>\n",
       "      <th>mean_train_recall</th>\n",
       "      <th>mean_test_recall</th>\n",
       "      <th>mean_train_precision</th>\n",
       "      <th>mean_test_precision</th>\n",
       "      <th>mean_train_f1</th>\n",
       "      <th>mean_test_f1</th>\n",
       "      <th>mean_train_roc_auc</th>\n",
       "      <th>mean_test_roc_auc</th>\n",
       "    </tr>\n",
       "  </thead>\n",
       "  <tbody>\n",
       "    <tr>\n",
       "      <th>7</th>\n",
       "      <td>{'model__min_samples_leaf': 2, 'model__class_weight': {0: 0.6450000000000005, 1: 0.35499999999999954}}</td>\n",
       "      <td>0.91</td>\n",
       "      <td>0.76</td>\n",
       "      <td>0.98</td>\n",
       "      <td>0.80</td>\n",
       "      <td>0.95</td>\n",
       "      <td>0.78</td>\n",
       "      <td>1.00</td>\n",
       "      <td>0.85</td>\n",
       "    </tr>\n",
       "    <tr>\n",
       "      <th>6</th>\n",
       "      <td>{'model__min_samples_leaf': 2, 'model__class_weight': {0: 0.4250000000000002, 1: 0.5749999999999997}}</td>\n",
       "      <td>0.98</td>\n",
       "      <td>0.81</td>\n",
       "      <td>0.92</td>\n",
       "      <td>0.75</td>\n",
       "      <td>0.95</td>\n",
       "      <td>0.78</td>\n",
       "      <td>1.00</td>\n",
       "      <td>0.85</td>\n",
       "    </tr>\n",
       "    <tr>\n",
       "      <th>9</th>\n",
       "      <td>{'model__min_samples_leaf': 1, 'model__class_weight': {0: 0.7500000000000004, 1: 0.24999999999999956}}</td>\n",
       "      <td>0.99</td>\n",
       "      <td>0.79</td>\n",
       "      <td>1.00</td>\n",
       "      <td>0.77</td>\n",
       "      <td>0.99</td>\n",
       "      <td>0.78</td>\n",
       "      <td>1.00</td>\n",
       "      <td>0.83</td>\n",
       "    </tr>\n",
       "    <tr>\n",
       "      <th>5</th>\n",
       "      <td>{'model__min_samples_leaf': 2, 'model__class_weight': {0: 0.4100000000000002, 1: 0.5899999999999999}}</td>\n",
       "      <td>0.98</td>\n",
       "      <td>0.81</td>\n",
       "      <td>0.92</td>\n",
       "      <td>0.75</td>\n",
       "      <td>0.95</td>\n",
       "      <td>0.78</td>\n",
       "      <td>1.00</td>\n",
       "      <td>0.85</td>\n",
       "    </tr>\n",
       "    <tr>\n",
       "      <th>2</th>\n",
       "      <td>{'model__min_samples_leaf': 2, 'model__class_weight': {0: 0.5450000000000004, 1: 0.4549999999999996}}</td>\n",
       "      <td>0.92</td>\n",
       "      <td>0.75</td>\n",
       "      <td>0.98</td>\n",
       "      <td>0.80</td>\n",
       "      <td>0.95</td>\n",
       "      <td>0.78</td>\n",
       "      <td>1.00</td>\n",
       "      <td>0.85</td>\n",
       "    </tr>\n",
       "    <tr>\n",
       "      <th>8</th>\n",
       "      <td>{'model__min_samples_leaf': 4, 'model__class_weight': {0: 0.35500000000000015, 1: 0.6449999999999998}}</td>\n",
       "      <td>0.95</td>\n",
       "      <td>0.81</td>\n",
       "      <td>0.87</td>\n",
       "      <td>0.74</td>\n",
       "      <td>0.91</td>\n",
       "      <td>0.78</td>\n",
       "      <td>0.99</td>\n",
       "      <td>0.88</td>\n",
       "    </tr>\n",
       "    <tr>\n",
       "      <th>4</th>\n",
       "      <td>{'model__min_samples_leaf': 2, 'model__class_weight': {0: 0.34500000000000014, 1: 0.6549999999999998}}</td>\n",
       "      <td>0.98</td>\n",
       "      <td>0.80</td>\n",
       "      <td>0.92</td>\n",
       "      <td>0.75</td>\n",
       "      <td>0.95</td>\n",
       "      <td>0.78</td>\n",
       "      <td>1.00</td>\n",
       "      <td>0.85</td>\n",
       "    </tr>\n",
       "    <tr>\n",
       "      <th>3</th>\n",
       "      <td>{'model__min_samples_leaf': 2, 'model__class_weight': {0: 0.7850000000000006, 1: 0.2149999999999994}}</td>\n",
       "      <td>0.88</td>\n",
       "      <td>0.73</td>\n",
       "      <td>1.00</td>\n",
       "      <td>0.82</td>\n",
       "      <td>0.93</td>\n",
       "      <td>0.78</td>\n",
       "      <td>1.00</td>\n",
       "      <td>0.85</td>\n",
       "    </tr>\n",
       "    <tr>\n",
       "      <th>0</th>\n",
       "      <td>{'model__min_samples_leaf': 4, 'model__class_weight': {0: 0.6200000000000003, 1: 0.37999999999999967}}</td>\n",
       "      <td>0.84</td>\n",
       "      <td>0.73</td>\n",
       "      <td>0.95</td>\n",
       "      <td>0.82</td>\n",
       "      <td>0.90</td>\n",
       "      <td>0.77</td>\n",
       "      <td>0.99</td>\n",
       "      <td>0.88</td>\n",
       "    </tr>\n",
       "    <tr>\n",
       "      <th>1</th>\n",
       "      <td>{'model__min_samples_leaf': 3, 'model__class_weight': {0: 0.7300000000000004, 1: 0.2699999999999996}}</td>\n",
       "      <td>0.83</td>\n",
       "      <td>0.71</td>\n",
       "      <td>0.98</td>\n",
       "      <td>0.84</td>\n",
       "      <td>0.90</td>\n",
       "      <td>0.77</td>\n",
       "      <td>0.99</td>\n",
       "      <td>0.87</td>\n",
       "    </tr>\n",
       "  </tbody>\n",
       "</table>\n",
       "</div>"
      ],
      "text/plain": [
       "                                                                                                   params  \\\n",
       "7  {'model__min_samples_leaf': 2, 'model__class_weight': {0: 0.6450000000000005, 1: 0.35499999999999954}}   \n",
       "6   {'model__min_samples_leaf': 2, 'model__class_weight': {0: 0.4250000000000002, 1: 0.5749999999999997}}   \n",
       "9  {'model__min_samples_leaf': 1, 'model__class_weight': {0: 0.7500000000000004, 1: 0.24999999999999956}}   \n",
       "5   {'model__min_samples_leaf': 2, 'model__class_weight': {0: 0.4100000000000002, 1: 0.5899999999999999}}   \n",
       "2   {'model__min_samples_leaf': 2, 'model__class_weight': {0: 0.5450000000000004, 1: 0.4549999999999996}}   \n",
       "8  {'model__min_samples_leaf': 4, 'model__class_weight': {0: 0.35500000000000015, 1: 0.6449999999999998}}   \n",
       "4  {'model__min_samples_leaf': 2, 'model__class_weight': {0: 0.34500000000000014, 1: 0.6549999999999998}}   \n",
       "3   {'model__min_samples_leaf': 2, 'model__class_weight': {0: 0.7850000000000006, 1: 0.2149999999999994}}   \n",
       "0  {'model__min_samples_leaf': 4, 'model__class_weight': {0: 0.6200000000000003, 1: 0.37999999999999967}}   \n",
       "1   {'model__min_samples_leaf': 3, 'model__class_weight': {0: 0.7300000000000004, 1: 0.2699999999999996}}   \n",
       "\n",
       "   mean_train_recall  mean_test_recall  mean_train_precision  \\\n",
       "7               0.91              0.76                  0.98   \n",
       "6               0.98              0.81                  0.92   \n",
       "9               0.99              0.79                  1.00   \n",
       "5               0.98              0.81                  0.92   \n",
       "2               0.92              0.75                  0.98   \n",
       "8               0.95              0.81                  0.87   \n",
       "4               0.98              0.80                  0.92   \n",
       "3               0.88              0.73                  1.00   \n",
       "0               0.84              0.73                  0.95   \n",
       "1               0.83              0.71                  0.98   \n",
       "\n",
       "   mean_test_precision  mean_train_f1  mean_test_f1  mean_train_roc_auc  \\\n",
       "7                 0.80           0.95          0.78                1.00   \n",
       "6                 0.75           0.95          0.78                1.00   \n",
       "9                 0.77           0.99          0.78                1.00   \n",
       "5                 0.75           0.95          0.78                1.00   \n",
       "2                 0.80           0.95          0.78                1.00   \n",
       "8                 0.74           0.91          0.78                0.99   \n",
       "4                 0.75           0.95          0.78                1.00   \n",
       "3                 0.82           0.93          0.78                1.00   \n",
       "0                 0.82           0.90          0.77                0.99   \n",
       "1                 0.84           0.90          0.77                0.99   \n",
       "\n",
       "   mean_test_roc_auc  \n",
       "7               0.85  \n",
       "6               0.85  \n",
       "9               0.83  \n",
       "5               0.85  \n",
       "2               0.85  \n",
       "8               0.88  \n",
       "4               0.85  \n",
       "3               0.85  \n",
       "0               0.88  \n",
       "1               0.87  "
      ]
     },
     "execution_count": 13,
     "metadata": {},
     "output_type": "execute_result"
    }
   ],
   "source": [
    "pd.set_option('max.colwidth', None)\n",
    "best_results[['params','mean_train_recall', 'mean_test_recall', 'mean_train_precision', 'mean_test_precision', \n",
    "              'mean_train_f1', 'mean_test_f1', 'mean_train_roc_auc', 'mean_test_roc_auc']].sort_values(\n",
    "                                                                                'mean_test_f1', ascending= False).round(2)"
   ]
  },
  {
   "cell_type": "code",
   "execution_count": 14,
   "id": "86023c82",
   "metadata": {},
   "outputs": [
    {
     "name": "stdout",
     "output_type": "stream",
     "text": [
      "{'model__min_samples_leaf': 2, 'model__class_weight': {0: 0.6450000000000005, 1: 0.35499999999999954}}\n",
      "\n",
      "              precision    recall  f1-score   support\n",
      "\n",
      "           0       0.87      0.89      0.88     23067\n",
      "           1       0.81      0.77      0.79     13578\n",
      "\n",
      "    accuracy                           0.85     36645\n",
      "   macro avg       0.84      0.83      0.83     36645\n",
      "weighted avg       0.85      0.85      0.85     36645\n",
      "\n"
     ]
    }
   ],
   "source": [
    "print(rscv_tree.best_params_)\n",
    "print('')\n",
    "\n",
    "y_pred = rscv_tree.predict(X_test)\n",
    "print(classification_report(y_test, y_pred))"
   ]
  },
  {
   "cell_type": "markdown",
   "id": "5cc3cee0",
   "metadata": {},
   "source": [
    "####  OHE + JamesStein "
   ]
  },
  {
   "cell_type": "code",
   "execution_count": 19,
   "id": "4cc700a8",
   "metadata": {},
   "outputs": [],
   "source": [
    "transformer = ColumnTransformer([('other_variables_transf', OneHotEncoder(handle_unknown= 'ignore'), other_variables),\n",
    "                                 ('country_transf', JamesSteinEncoder(), country_variable),\n",
    "                                 ('stdscaler', StandardScaler(), numerical_variables)])\n",
    "\n",
    "tree = DecisionTreeClassifier(random_state=4)\n",
    "\n",
    "pipe = Pipeline([('transformer', transformer), ('model', tree)])\n",
    "\n",
    "weights = np.arange(0.2, 0.8, 0.005)\n",
    "param_grid = {'model__min_samples_leaf':[1,2,3,4,5], \n",
    "              'model__class_weight':[{0:x, 1:1-x} for x in weights]}   \n",
    "    \n",
    "rscv_tree_jmss = RandomizedSearchCV(pipe, param_grid, cv= 10, n_jobs= -1, scoring= ['recall', 'precision', 'f1', 'roc_auc'], \n",
    "                             refit= 'f1', return_train_score= True, random_state= 4)\n",
    "\n",
    "rscv_tree_jmss.fit(X_train, y_train)\n",
    "\n",
    "best_results = pd.DataFrame(rscv_tree_jmss.cv_results_)"
   ]
  },
  {
   "cell_type": "code",
   "execution_count": 20,
   "id": "4ba63d16",
   "metadata": {},
   "outputs": [
    {
     "data": {
      "text/html": [
       "<div>\n",
       "<style scoped>\n",
       "    .dataframe tbody tr th:only-of-type {\n",
       "        vertical-align: middle;\n",
       "    }\n",
       "\n",
       "    .dataframe tbody tr th {\n",
       "        vertical-align: top;\n",
       "    }\n",
       "\n",
       "    .dataframe thead th {\n",
       "        text-align: right;\n",
       "    }\n",
       "</style>\n",
       "<table border=\"1\" class=\"dataframe\">\n",
       "  <thead>\n",
       "    <tr style=\"text-align: right;\">\n",
       "      <th></th>\n",
       "      <th>params</th>\n",
       "      <th>mean_train_recall</th>\n",
       "      <th>mean_test_recall</th>\n",
       "      <th>mean_train_precision</th>\n",
       "      <th>mean_test_precision</th>\n",
       "      <th>mean_train_f1</th>\n",
       "      <th>mean_test_f1</th>\n",
       "      <th>mean_train_roc_auc</th>\n",
       "      <th>mean_test_roc_auc</th>\n",
       "    </tr>\n",
       "  </thead>\n",
       "  <tbody>\n",
       "    <tr>\n",
       "      <th>9</th>\n",
       "      <td>{'model__min_samples_leaf': 1, 'model__class_weight': {0: 0.7500000000000004, 1: 0.24999999999999956}}</td>\n",
       "      <td>0.99</td>\n",
       "      <td>0.79</td>\n",
       "      <td>1.00</td>\n",
       "      <td>0.77</td>\n",
       "      <td>0.99</td>\n",
       "      <td>0.78</td>\n",
       "      <td>1.00</td>\n",
       "      <td>0.83</td>\n",
       "    </tr>\n",
       "    <tr>\n",
       "      <th>8</th>\n",
       "      <td>{'model__min_samples_leaf': 4, 'model__class_weight': {0: 0.35500000000000015, 1: 0.6449999999999998}}</td>\n",
       "      <td>0.95</td>\n",
       "      <td>0.81</td>\n",
       "      <td>0.87</td>\n",
       "      <td>0.75</td>\n",
       "      <td>0.91</td>\n",
       "      <td>0.78</td>\n",
       "      <td>0.99</td>\n",
       "      <td>0.88</td>\n",
       "    </tr>\n",
       "    <tr>\n",
       "      <th>4</th>\n",
       "      <td>{'model__min_samples_leaf': 2, 'model__class_weight': {0: 0.34500000000000014, 1: 0.6549999999999998}}</td>\n",
       "      <td>0.98</td>\n",
       "      <td>0.80</td>\n",
       "      <td>0.93</td>\n",
       "      <td>0.75</td>\n",
       "      <td>0.95</td>\n",
       "      <td>0.78</td>\n",
       "      <td>1.00</td>\n",
       "      <td>0.85</td>\n",
       "    </tr>\n",
       "    <tr>\n",
       "      <th>6</th>\n",
       "      <td>{'model__min_samples_leaf': 2, 'model__class_weight': {0: 0.4250000000000002, 1: 0.5749999999999997}}</td>\n",
       "      <td>0.98</td>\n",
       "      <td>0.80</td>\n",
       "      <td>0.93</td>\n",
       "      <td>0.75</td>\n",
       "      <td>0.95</td>\n",
       "      <td>0.78</td>\n",
       "      <td>1.00</td>\n",
       "      <td>0.85</td>\n",
       "    </tr>\n",
       "    <tr>\n",
       "      <th>2</th>\n",
       "      <td>{'model__min_samples_leaf': 2, 'model__class_weight': {0: 0.5450000000000004, 1: 0.4549999999999996}}</td>\n",
       "      <td>0.92</td>\n",
       "      <td>0.76</td>\n",
       "      <td>0.98</td>\n",
       "      <td>0.80</td>\n",
       "      <td>0.95</td>\n",
       "      <td>0.78</td>\n",
       "      <td>1.00</td>\n",
       "      <td>0.85</td>\n",
       "    </tr>\n",
       "    <tr>\n",
       "      <th>7</th>\n",
       "      <td>{'model__min_samples_leaf': 2, 'model__class_weight': {0: 0.6450000000000005, 1: 0.35499999999999954}}</td>\n",
       "      <td>0.92</td>\n",
       "      <td>0.76</td>\n",
       "      <td>0.98</td>\n",
       "      <td>0.80</td>\n",
       "      <td>0.95</td>\n",
       "      <td>0.78</td>\n",
       "      <td>1.00</td>\n",
       "      <td>0.85</td>\n",
       "    </tr>\n",
       "    <tr>\n",
       "      <th>3</th>\n",
       "      <td>{'model__min_samples_leaf': 2, 'model__class_weight': {0: 0.7850000000000006, 1: 0.2149999999999994}}</td>\n",
       "      <td>0.88</td>\n",
       "      <td>0.74</td>\n",
       "      <td>1.00</td>\n",
       "      <td>0.82</td>\n",
       "      <td>0.93</td>\n",
       "      <td>0.77</td>\n",
       "      <td>1.00</td>\n",
       "      <td>0.85</td>\n",
       "    </tr>\n",
       "    <tr>\n",
       "      <th>0</th>\n",
       "      <td>{'model__min_samples_leaf': 4, 'model__class_weight': {0: 0.6200000000000003, 1: 0.37999999999999967}}</td>\n",
       "      <td>0.85</td>\n",
       "      <td>0.73</td>\n",
       "      <td>0.96</td>\n",
       "      <td>0.82</td>\n",
       "      <td>0.90</td>\n",
       "      <td>0.77</td>\n",
       "      <td>0.99</td>\n",
       "      <td>0.88</td>\n",
       "    </tr>\n",
       "    <tr>\n",
       "      <th>5</th>\n",
       "      <td>{'model__min_samples_leaf': 2, 'model__class_weight': {0: 0.4100000000000002, 1: 0.5899999999999999}}</td>\n",
       "      <td>0.98</td>\n",
       "      <td>0.80</td>\n",
       "      <td>0.93</td>\n",
       "      <td>0.75</td>\n",
       "      <td>0.95</td>\n",
       "      <td>0.77</td>\n",
       "      <td>1.00</td>\n",
       "      <td>0.85</td>\n",
       "    </tr>\n",
       "    <tr>\n",
       "      <th>1</th>\n",
       "      <td>{'model__min_samples_leaf': 3, 'model__class_weight': {0: 0.7300000000000004, 1: 0.2699999999999996}}</td>\n",
       "      <td>0.84</td>\n",
       "      <td>0.71</td>\n",
       "      <td>0.98</td>\n",
       "      <td>0.83</td>\n",
       "      <td>0.90</td>\n",
       "      <td>0.77</td>\n",
       "      <td>0.99</td>\n",
       "      <td>0.87</td>\n",
       "    </tr>\n",
       "  </tbody>\n",
       "</table>\n",
       "</div>"
      ],
      "text/plain": [
       "                                                                                                   params  \\\n",
       "9  {'model__min_samples_leaf': 1, 'model__class_weight': {0: 0.7500000000000004, 1: 0.24999999999999956}}   \n",
       "8  {'model__min_samples_leaf': 4, 'model__class_weight': {0: 0.35500000000000015, 1: 0.6449999999999998}}   \n",
       "4  {'model__min_samples_leaf': 2, 'model__class_weight': {0: 0.34500000000000014, 1: 0.6549999999999998}}   \n",
       "6   {'model__min_samples_leaf': 2, 'model__class_weight': {0: 0.4250000000000002, 1: 0.5749999999999997}}   \n",
       "2   {'model__min_samples_leaf': 2, 'model__class_weight': {0: 0.5450000000000004, 1: 0.4549999999999996}}   \n",
       "7  {'model__min_samples_leaf': 2, 'model__class_weight': {0: 0.6450000000000005, 1: 0.35499999999999954}}   \n",
       "3   {'model__min_samples_leaf': 2, 'model__class_weight': {0: 0.7850000000000006, 1: 0.2149999999999994}}   \n",
       "0  {'model__min_samples_leaf': 4, 'model__class_weight': {0: 0.6200000000000003, 1: 0.37999999999999967}}   \n",
       "5   {'model__min_samples_leaf': 2, 'model__class_weight': {0: 0.4100000000000002, 1: 0.5899999999999999}}   \n",
       "1   {'model__min_samples_leaf': 3, 'model__class_weight': {0: 0.7300000000000004, 1: 0.2699999999999996}}   \n",
       "\n",
       "   mean_train_recall  mean_test_recall  mean_train_precision  \\\n",
       "9               0.99              0.79                  1.00   \n",
       "8               0.95              0.81                  0.87   \n",
       "4               0.98              0.80                  0.93   \n",
       "6               0.98              0.80                  0.93   \n",
       "2               0.92              0.76                  0.98   \n",
       "7               0.92              0.76                  0.98   \n",
       "3               0.88              0.74                  1.00   \n",
       "0               0.85              0.73                  0.96   \n",
       "5               0.98              0.80                  0.93   \n",
       "1               0.84              0.71                  0.98   \n",
       "\n",
       "   mean_test_precision  mean_train_f1  mean_test_f1  mean_train_roc_auc  \\\n",
       "9                 0.77           0.99          0.78                1.00   \n",
       "8                 0.75           0.91          0.78                0.99   \n",
       "4                 0.75           0.95          0.78                1.00   \n",
       "6                 0.75           0.95          0.78                1.00   \n",
       "2                 0.80           0.95          0.78                1.00   \n",
       "7                 0.80           0.95          0.78                1.00   \n",
       "3                 0.82           0.93          0.77                1.00   \n",
       "0                 0.82           0.90          0.77                0.99   \n",
       "5                 0.75           0.95          0.77                1.00   \n",
       "1                 0.83           0.90          0.77                0.99   \n",
       "\n",
       "   mean_test_roc_auc  \n",
       "9               0.83  \n",
       "8               0.88  \n",
       "4               0.85  \n",
       "6               0.85  \n",
       "2               0.85  \n",
       "7               0.85  \n",
       "3               0.85  \n",
       "0               0.88  \n",
       "5               0.85  \n",
       "1               0.87  "
      ]
     },
     "execution_count": 20,
     "metadata": {},
     "output_type": "execute_result"
    }
   ],
   "source": [
    "best_results[['params','mean_train_recall', 'mean_test_recall', 'mean_train_precision', 'mean_test_precision', \n",
    "              'mean_train_f1', 'mean_test_f1', 'mean_train_roc_auc', 'mean_test_roc_auc']].sort_values(\n",
    "                                                                                'mean_test_f1', ascending= False).round(2)"
   ]
  },
  {
   "cell_type": "code",
   "execution_count": 21,
   "id": "110b134f",
   "metadata": {},
   "outputs": [
    {
     "name": "stdout",
     "output_type": "stream",
     "text": [
      "{'model__min_samples_leaf': 1, 'model__class_weight': {0: 0.7500000000000004, 1: 0.24999999999999956}}\n",
      "\n",
      "              precision    recall  f1-score   support\n",
      "\n",
      "           0       0.88      0.87      0.87     23067\n",
      "           1       0.78      0.80      0.79     13578\n",
      "\n",
      "    accuracy                           0.84     36645\n",
      "   macro avg       0.83      0.83      0.83     36645\n",
      "weighted avg       0.84      0.84      0.84     36645\n",
      "\n"
     ]
    }
   ],
   "source": [
    "print(rscv_tree_jmss.best_params_)\n",
    "print('')\n",
    "\n",
    "y_pred = rscv_tree_jmss.predict(X_test)\n",
    "\n",
    "print(classification_report(y_test, y_pred))\n",
    "\n",
    "pd.reset_option('max.colwidth')"
   ]
  }
 ],
 "metadata": {
  "kernelspec": {
   "display_name": "Python 3 (ipykernel)",
   "language": "python",
   "name": "python3"
  },
  "language_info": {
   "codemirror_mode": {
    "name": "ipython",
    "version": 3
   },
   "file_extension": ".py",
   "mimetype": "text/x-python",
   "name": "python",
   "nbconvert_exporter": "python",
   "pygments_lexer": "ipython3",
   "version": "3.9.13"
  }
 },
 "nbformat": 4,
 "nbformat_minor": 5
}
