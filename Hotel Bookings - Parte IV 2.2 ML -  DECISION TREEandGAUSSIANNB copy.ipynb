{
 "cells": [
  {
   "cell_type": "code",
   "execution_count": 24,
   "id": "6f9fd631",
   "metadata": {},
   "outputs": [],
   "source": [
    "import warnings\n",
    "warnings.filterwarnings('ignore')\n",
    "import pandas as pd\n",
    "pd.set_option('display.max_columns', None)\n",
    "import numpy as np\n",
    "from sklearn.model_selection import train_test_split, RandomizedSearchCV, cross_validate\n",
    "from sklearn.preprocessing import OneHotEncoder, StandardScaler, PowerTransformer\n",
    "from category_encoders import JamesSteinEncoder\n",
    "from sklearn.pipeline import Pipeline\n",
    "from sklearn.compose import ColumnTransformer\n",
    "from sklearn.tree import DecisionTreeClassifier\n",
    "from sklearn.ensemble import AdaBoostClassifier\n",
    "from sklearn.naive_bayes import GaussianNB\n",
    "from sklearn.metrics import classification_report\n",
    "from feature_engine.encoding import RareLabelEncoder\n",
    "import joblib as jb"
   ]
  },
  {
   "cell_type": "code",
   "execution_count": 2,
   "id": "b45ea35f",
   "metadata": {},
   "outputs": [],
   "source": [
    "df = pd.read_csv('df_changed.csv')"
   ]
  },
  {
   "cell_type": "code",
   "execution_count": 3,
   "id": "f8697bc6",
   "metadata": {},
   "outputs": [],
   "source": [
    "X = df.drop(['is_canceled'], axis= 1)\n",
    "y = df['is_canceled']\n",
    "\n",
    "categorical_variables = X.select_dtypes('object').columns.to_list()\n",
    "numerical_variables = X.select_dtypes('number').columns.to_list()\n",
    "\n",
    "X_train, X_test, y_train, y_test = train_test_split(X, y, test_size= 0.33, random_state= 4)"
   ]
  },
  {
   "cell_type": "code",
   "execution_count": 4,
   "id": "b62218b0",
   "metadata": {},
   "outputs": [],
   "source": [
    "rare_encoder = RareLabelEncoder(tol= 0.003900, variables= ['country'], replace_with= 'Other Country')\n",
    "rare_encoder.fit(X_train)\n",
    "X_train = rare_encoder.transform(X_train)\n",
    "X_test = rare_encoder.transform(X_test)"
   ]
  },
  {
   "cell_type": "code",
   "execution_count": 5,
   "id": "3884bcc7",
   "metadata": {
    "scrolled": false
   },
   "outputs": [
    {
     "data": {
      "text/plain": [
       "['hotel',\n",
       " 'meal',\n",
       " 'country',\n",
       " 'market_segment',\n",
       " 'distribution_channel',\n",
       " 'reserved_room_type',\n",
       " 'deposit_type',\n",
       " 'customer_type']"
      ]
     },
     "execution_count": 5,
     "metadata": {},
     "output_type": "execute_result"
    }
   ],
   "source": [
    "categorical_variables"
   ]
  },
  {
   "cell_type": "code",
   "execution_count": 6,
   "id": "16cadfe4",
   "metadata": {},
   "outputs": [],
   "source": [
    "country_variable = [categorical_variables[2]]"
   ]
  },
  {
   "cell_type": "code",
   "execution_count": 7,
   "id": "9d8f8cea",
   "metadata": {
    "scrolled": true
   },
   "outputs": [],
   "source": [
    "other_variables = []\n",
    "for i in categorical_variables:\n",
    "    if i != 'country':\n",
    "        other_variables.append(i)\n",
    "    else:\n",
    "        pass"
   ]
  },
  {
   "cell_type": "markdown",
   "id": "137603e2",
   "metadata": {},
   "source": [
    "#### Testando combinação de  diferentes encoders."
   ]
  },
  {
   "cell_type": "code",
   "execution_count": 8,
   "id": "0af05af8",
   "metadata": {},
   "outputs": [],
   "source": [
    "def encoders_model_results_tree(encoders_cat, encoders_country, model_):\n",
    "        \n",
    "    def differentencoders_model_results(x, y):\n",
    "        other_variables_pipe = Pipeline([('encoder_other_variables', x)])\n",
    "        country_pipe = Pipeline([('encoder_country', y)])\n",
    "        num_pipe = Pipeline([('num_std_scaler', StandardScaler())])\n",
    "        \n",
    "        transformer = ColumnTransformer([('other_variables_transf', other_variables_pipe, other_variables),\n",
    "                                         ('country_transf', country_pipe, country_variable), \n",
    "                                         ('num_transf', num_pipe, numerical_variables)])\n",
    "        \n",
    "        X_train_transformed = transformer.fit_transform(X_train, y_train)\n",
    "        X_test_transformed = transformer.transform(X_test)\n",
    "    \n",
    "        cv = cross_validate(model_, X_train_transformed, y_train, cv= 10, scoring= ('recall', 'precision', 'f1'), \n",
    "                               n_jobs= -1)\n",
    "        \n",
    "        print(model_)\n",
    "        print('Recall:', cv['test_recall'].mean().round(2), 'Precision:', \n",
    "              cv['test_precision'].mean().round(2), 'F1-Score:', cv['test_f1'].mean().round(2))\n",
    "        print('')\n",
    "    \n",
    "    for i in encoders_cat:\n",
    "        for j in encoders_country:\n",
    "            print(i, ' - other variables      ', j, ' - country variable')                    \n",
    "            differentencoders_model_results(i, j)"
   ]
  },
  {
   "cell_type": "code",
   "execution_count": 9,
   "id": "47163505",
   "metadata": {
    "scrolled": true
   },
   "outputs": [
    {
     "name": "stdout",
     "output_type": "stream",
     "text": [
      "OneHotEncoder(handle_unknown='ignore')  - other variables       OneHotEncoder(handle_unknown='ignore')  - country variable\n",
      "DecisionTreeClassifier(random_state=4)\n",
      "Recall: 0.79 Precision: 0.78 F1-Score: 0.78\n",
      "\n",
      "OneHotEncoder(handle_unknown='ignore')  - other variables       JamesSteinEncoder()  - country variable\n",
      "DecisionTreeClassifier(random_state=4)\n",
      "Recall: 0.78 Precision: 0.78 F1-Score: 0.78\n",
      "\n",
      "JamesSteinEncoder()  - other variables       OneHotEncoder(handle_unknown='ignore')  - country variable\n",
      "DecisionTreeClassifier(random_state=4)\n",
      "Recall: 0.79 Precision: 0.78 F1-Score: 0.78\n",
      "\n",
      "JamesSteinEncoder()  - other variables       JamesSteinEncoder()  - country variable\n",
      "DecisionTreeClassifier(random_state=4)\n",
      "Recall: 0.78 Precision: 0.78 F1-Score: 0.78\n",
      "\n"
     ]
    }
   ],
   "source": [
    "others = [OneHotEncoder(handle_unknown= 'ignore'), JamesSteinEncoder()]\n",
    "country = [OneHotEncoder(handle_unknown= 'ignore'), JamesSteinEncoder()]\n",
    "\n",
    "#Árvore de Decisão\n",
    "encoders_model_results_tree(others, country, DecisionTreeClassifier(random_state= 4))"
   ]
  },
  {
   "cell_type": "markdown",
   "id": "253e5011",
   "metadata": {},
   "source": [
    "### Decision Tree"
   ]
  },
  {
   "cell_type": "markdown",
   "id": "9969a328",
   "metadata": {},
   "source": [
    "#### OHE"
   ]
  },
  {
   "cell_type": "code",
   "execution_count": 10,
   "id": "ec5e386a",
   "metadata": {},
   "outputs": [],
   "source": [
    "transformer = ColumnTransformer([('ohe', OneHotEncoder(handle_unknown= 'ignore'), categorical_variables), \n",
    "                                  ('stdscaler', StandardScaler(), numerical_variables)])\n",
    "\n",
    "tree = DecisionTreeClassifier(random_state=4)\n",
    "\n",
    "pipe = Pipeline([('transformer', transformer), ('model', tree)])\n",
    "\n",
    "weights = np.arange(0.2, 0.8, 0.005)\n",
    "param_grid = {'model__min_samples_leaf':[1,2,3,4,5], \n",
    "              'model__class_weight':[{0:x, 1:1-x} for x in weights]}   \n",
    "    \n",
    "rscv_tree = RandomizedSearchCV(pipe, param_grid, cv= 10, n_jobs= -1, scoring= ['recall', 'precision', 'f1', 'roc_auc'], \n",
    "                             refit= 'f1', return_train_score= True, random_state= 4)\n",
    "\n",
    "rscv_tree.fit(X_train, y_train)\n",
    "\n",
    "best_results = pd.DataFrame(rscv_tree.cv_results_)"
   ]
  },
  {
   "cell_type": "code",
   "execution_count": 11,
   "id": "5c492678",
   "metadata": {
    "scrolled": true
   },
   "outputs": [
    {
     "data": {
      "text/html": [
       "<div>\n",
       "<style scoped>\n",
       "    .dataframe tbody tr th:only-of-type {\n",
       "        vertical-align: middle;\n",
       "    }\n",
       "\n",
       "    .dataframe tbody tr th {\n",
       "        vertical-align: top;\n",
       "    }\n",
       "\n",
       "    .dataframe thead th {\n",
       "        text-align: right;\n",
       "    }\n",
       "</style>\n",
       "<table border=\"1\" class=\"dataframe\">\n",
       "  <thead>\n",
       "    <tr style=\"text-align: right;\">\n",
       "      <th></th>\n",
       "      <th>params</th>\n",
       "      <th>mean_train_recall</th>\n",
       "      <th>mean_test_recall</th>\n",
       "      <th>mean_train_precision</th>\n",
       "      <th>mean_test_precision</th>\n",
       "      <th>mean_train_f1</th>\n",
       "      <th>mean_test_f1</th>\n",
       "      <th>mean_train_roc_auc</th>\n",
       "      <th>mean_test_roc_auc</th>\n",
       "    </tr>\n",
       "  </thead>\n",
       "  <tbody>\n",
       "    <tr>\n",
       "      <th>9</th>\n",
       "      <td>{'model__min_samples_leaf': 1, 'model__class_weight': {0: 0.7500000000000004, 1: 0.24999999999999956}}</td>\n",
       "      <td>0.99</td>\n",
       "      <td>0.79</td>\n",
       "      <td>1.00</td>\n",
       "      <td>0.78</td>\n",
       "      <td>0.99</td>\n",
       "      <td>0.78</td>\n",
       "      <td>1.00</td>\n",
       "      <td>0.83</td>\n",
       "    </tr>\n",
       "    <tr>\n",
       "      <th>6</th>\n",
       "      <td>{'model__min_samples_leaf': 2, 'model__class_weight': {0: 0.4250000000000002, 1: 0.5749999999999997}}</td>\n",
       "      <td>0.98</td>\n",
       "      <td>0.81</td>\n",
       "      <td>0.93</td>\n",
       "      <td>0.75</td>\n",
       "      <td>0.95</td>\n",
       "      <td>0.78</td>\n",
       "      <td>1.00</td>\n",
       "      <td>0.85</td>\n",
       "    </tr>\n",
       "    <tr>\n",
       "      <th>4</th>\n",
       "      <td>{'model__min_samples_leaf': 2, 'model__class_weight': {0: 0.34500000000000014, 1: 0.6549999999999998}}</td>\n",
       "      <td>0.98</td>\n",
       "      <td>0.81</td>\n",
       "      <td>0.92</td>\n",
       "      <td>0.75</td>\n",
       "      <td>0.95</td>\n",
       "      <td>0.78</td>\n",
       "      <td>1.00</td>\n",
       "      <td>0.85</td>\n",
       "    </tr>\n",
       "    <tr>\n",
       "      <th>7</th>\n",
       "      <td>{'model__min_samples_leaf': 2, 'model__class_weight': {0: 0.6450000000000005, 1: 0.35499999999999954}}</td>\n",
       "      <td>0.91</td>\n",
       "      <td>0.76</td>\n",
       "      <td>0.98</td>\n",
       "      <td>0.80</td>\n",
       "      <td>0.95</td>\n",
       "      <td>0.78</td>\n",
       "      <td>1.00</td>\n",
       "      <td>0.85</td>\n",
       "    </tr>\n",
       "    <tr>\n",
       "      <th>5</th>\n",
       "      <td>{'model__min_samples_leaf': 2, 'model__class_weight': {0: 0.4100000000000002, 1: 0.5899999999999999}}</td>\n",
       "      <td>0.98</td>\n",
       "      <td>0.81</td>\n",
       "      <td>0.92</td>\n",
       "      <td>0.75</td>\n",
       "      <td>0.95</td>\n",
       "      <td>0.78</td>\n",
       "      <td>1.00</td>\n",
       "      <td>0.85</td>\n",
       "    </tr>\n",
       "    <tr>\n",
       "      <th>2</th>\n",
       "      <td>{'model__min_samples_leaf': 2, 'model__class_weight': {0: 0.5450000000000004, 1: 0.4549999999999996}}</td>\n",
       "      <td>0.92</td>\n",
       "      <td>0.76</td>\n",
       "      <td>0.98</td>\n",
       "      <td>0.80</td>\n",
       "      <td>0.95</td>\n",
       "      <td>0.78</td>\n",
       "      <td>1.00</td>\n",
       "      <td>0.85</td>\n",
       "    </tr>\n",
       "    <tr>\n",
       "      <th>3</th>\n",
       "      <td>{'model__min_samples_leaf': 2, 'model__class_weight': {0: 0.7850000000000006, 1: 0.2149999999999994}}</td>\n",
       "      <td>0.88</td>\n",
       "      <td>0.74</td>\n",
       "      <td>1.00</td>\n",
       "      <td>0.82</td>\n",
       "      <td>0.93</td>\n",
       "      <td>0.78</td>\n",
       "      <td>1.00</td>\n",
       "      <td>0.85</td>\n",
       "    </tr>\n",
       "    <tr>\n",
       "      <th>8</th>\n",
       "      <td>{'model__min_samples_leaf': 4, 'model__class_weight': {0: 0.35500000000000015, 1: 0.6449999999999998}}</td>\n",
       "      <td>0.95</td>\n",
       "      <td>0.81</td>\n",
       "      <td>0.87</td>\n",
       "      <td>0.74</td>\n",
       "      <td>0.91</td>\n",
       "      <td>0.78</td>\n",
       "      <td>0.99</td>\n",
       "      <td>0.88</td>\n",
       "    </tr>\n",
       "    <tr>\n",
       "      <th>0</th>\n",
       "      <td>{'model__min_samples_leaf': 4, 'model__class_weight': {0: 0.6200000000000003, 1: 0.37999999999999967}}</td>\n",
       "      <td>0.84</td>\n",
       "      <td>0.73</td>\n",
       "      <td>0.95</td>\n",
       "      <td>0.82</td>\n",
       "      <td>0.90</td>\n",
       "      <td>0.77</td>\n",
       "      <td>0.99</td>\n",
       "      <td>0.88</td>\n",
       "    </tr>\n",
       "    <tr>\n",
       "      <th>1</th>\n",
       "      <td>{'model__min_samples_leaf': 3, 'model__class_weight': {0: 0.7300000000000004, 1: 0.2699999999999996}}</td>\n",
       "      <td>0.83</td>\n",
       "      <td>0.72</td>\n",
       "      <td>0.98</td>\n",
       "      <td>0.84</td>\n",
       "      <td>0.90</td>\n",
       "      <td>0.77</td>\n",
       "      <td>0.99</td>\n",
       "      <td>0.87</td>\n",
       "    </tr>\n",
       "  </tbody>\n",
       "</table>\n",
       "</div>"
      ],
      "text/plain": [
       "                                                                                                   params  \\\n",
       "9  {'model__min_samples_leaf': 1, 'model__class_weight': {0: 0.7500000000000004, 1: 0.24999999999999956}}   \n",
       "6   {'model__min_samples_leaf': 2, 'model__class_weight': {0: 0.4250000000000002, 1: 0.5749999999999997}}   \n",
       "4  {'model__min_samples_leaf': 2, 'model__class_weight': {0: 0.34500000000000014, 1: 0.6549999999999998}}   \n",
       "7  {'model__min_samples_leaf': 2, 'model__class_weight': {0: 0.6450000000000005, 1: 0.35499999999999954}}   \n",
       "5   {'model__min_samples_leaf': 2, 'model__class_weight': {0: 0.4100000000000002, 1: 0.5899999999999999}}   \n",
       "2   {'model__min_samples_leaf': 2, 'model__class_weight': {0: 0.5450000000000004, 1: 0.4549999999999996}}   \n",
       "3   {'model__min_samples_leaf': 2, 'model__class_weight': {0: 0.7850000000000006, 1: 0.2149999999999994}}   \n",
       "8  {'model__min_samples_leaf': 4, 'model__class_weight': {0: 0.35500000000000015, 1: 0.6449999999999998}}   \n",
       "0  {'model__min_samples_leaf': 4, 'model__class_weight': {0: 0.6200000000000003, 1: 0.37999999999999967}}   \n",
       "1   {'model__min_samples_leaf': 3, 'model__class_weight': {0: 0.7300000000000004, 1: 0.2699999999999996}}   \n",
       "\n",
       "   mean_train_recall  mean_test_recall  mean_train_precision  \\\n",
       "9               0.99              0.79                  1.00   \n",
       "6               0.98              0.81                  0.93   \n",
       "4               0.98              0.81                  0.92   \n",
       "7               0.91              0.76                  0.98   \n",
       "5               0.98              0.81                  0.92   \n",
       "2               0.92              0.76                  0.98   \n",
       "3               0.88              0.74                  1.00   \n",
       "8               0.95              0.81                  0.87   \n",
       "0               0.84              0.73                  0.95   \n",
       "1               0.83              0.72                  0.98   \n",
       "\n",
       "   mean_test_precision  mean_train_f1  mean_test_f1  mean_train_roc_auc  \\\n",
       "9                 0.78           0.99          0.78                1.00   \n",
       "6                 0.75           0.95          0.78                1.00   \n",
       "4                 0.75           0.95          0.78                1.00   \n",
       "7                 0.80           0.95          0.78                1.00   \n",
       "5                 0.75           0.95          0.78                1.00   \n",
       "2                 0.80           0.95          0.78                1.00   \n",
       "3                 0.82           0.93          0.78                1.00   \n",
       "8                 0.74           0.91          0.78                0.99   \n",
       "0                 0.82           0.90          0.77                0.99   \n",
       "1                 0.84           0.90          0.77                0.99   \n",
       "\n",
       "   mean_test_roc_auc  \n",
       "9               0.83  \n",
       "6               0.85  \n",
       "4               0.85  \n",
       "7               0.85  \n",
       "5               0.85  \n",
       "2               0.85  \n",
       "3               0.85  \n",
       "8               0.88  \n",
       "0               0.88  \n",
       "1               0.87  "
      ]
     },
     "execution_count": 11,
     "metadata": {},
     "output_type": "execute_result"
    }
   ],
   "source": [
    "pd.set_option('max.colwidth', None)\n",
    "best_results[['params','mean_train_recall', 'mean_test_recall', 'mean_train_precision', 'mean_test_precision', \n",
    "              'mean_train_f1', 'mean_test_f1', 'mean_train_roc_auc', 'mean_test_roc_auc']].sort_values(\n",
    "                                                                                'mean_test_f1', ascending= False).round(2)"
   ]
  },
  {
   "cell_type": "code",
   "execution_count": 12,
   "id": "86023c82",
   "metadata": {},
   "outputs": [
    {
     "name": "stdout",
     "output_type": "stream",
     "text": [
      "{'model__min_samples_leaf': 1, 'model__class_weight': {0: 0.7500000000000004, 1: 0.24999999999999956}}\n",
      "\n",
      "              precision    recall  f1-score   support\n",
      "\n",
      "           0       0.88      0.87      0.88     23067\n",
      "           1       0.79      0.80      0.79     13578\n",
      "\n",
      "    accuracy                           0.84     36645\n",
      "   macro avg       0.83      0.84      0.83     36645\n",
      "weighted avg       0.85      0.84      0.85     36645\n",
      "\n"
     ]
    }
   ],
   "source": [
    "print(rscv_tree.best_params_)\n",
    "print('')\n",
    "\n",
    "tree_final = rscv_tree.best_estimator_.fit(X_train, y_train)\n",
    "y_pred = tree_final.predict(X_test)\n",
    "print(classification_report(y_test, y_pred))"
   ]
  },
  {
   "cell_type": "code",
   "execution_count": 13,
   "id": "2742cf05",
   "metadata": {},
   "outputs": [
    {
     "data": {
      "text/plain": [
       "['decision_tree_model']"
      ]
     },
     "execution_count": 13,
     "metadata": {},
     "output_type": "execute_result"
    }
   ],
   "source": [
    "jb.dump(value= tree_final, filename= 'decision_tree_model')"
   ]
  },
  {
   "cell_type": "markdown",
   "id": "5cc3cee0",
   "metadata": {},
   "source": [
    "####  OHE + JamesStein "
   ]
  },
  {
   "cell_type": "code",
   "execution_count": 14,
   "id": "4cc700a8",
   "metadata": {},
   "outputs": [],
   "source": [
    "transformer = ColumnTransformer([('other_variables_transf', OneHotEncoder(handle_unknown= 'ignore'), other_variables),\n",
    "                                 ('country_transf', JamesSteinEncoder(), country_variable),\n",
    "                                 ('stdscaler', StandardScaler(), numerical_variables)])\n",
    "\n",
    "tree = DecisionTreeClassifier(random_state=4)\n",
    "\n",
    "pipe = Pipeline([('transformer', transformer), ('model', tree)])\n",
    "\n",
    "weights = np.arange(0.2, 0.8, 0.005)\n",
    "param_grid = {'model__min_samples_leaf':[1,2,3,4,5], \n",
    "              'model__class_weight':[{0:x, 1:1-x} for x in weights]}   \n",
    "    \n",
    "rscv_tree_jmss = RandomizedSearchCV(pipe, param_grid, cv= 10, n_jobs= -1, scoring= ['recall', 'precision', 'f1', 'roc_auc'], \n",
    "                             refit= 'f1', return_train_score= True, random_state= 4)\n",
    "\n",
    "rscv_tree_jmss.fit(X_train, y_train)\n",
    "\n",
    "best_results = pd.DataFrame(rscv_tree_jmss.cv_results_)"
   ]
  },
  {
   "cell_type": "code",
   "execution_count": 15,
   "id": "4ba63d16",
   "metadata": {},
   "outputs": [
    {
     "data": {
      "text/html": [
       "<div>\n",
       "<style scoped>\n",
       "    .dataframe tbody tr th:only-of-type {\n",
       "        vertical-align: middle;\n",
       "    }\n",
       "\n",
       "    .dataframe tbody tr th {\n",
       "        vertical-align: top;\n",
       "    }\n",
       "\n",
       "    .dataframe thead th {\n",
       "        text-align: right;\n",
       "    }\n",
       "</style>\n",
       "<table border=\"1\" class=\"dataframe\">\n",
       "  <thead>\n",
       "    <tr style=\"text-align: right;\">\n",
       "      <th></th>\n",
       "      <th>params</th>\n",
       "      <th>mean_train_recall</th>\n",
       "      <th>mean_test_recall</th>\n",
       "      <th>mean_train_precision</th>\n",
       "      <th>mean_test_precision</th>\n",
       "      <th>mean_train_f1</th>\n",
       "      <th>mean_test_f1</th>\n",
       "      <th>mean_train_roc_auc</th>\n",
       "      <th>mean_test_roc_auc</th>\n",
       "    </tr>\n",
       "  </thead>\n",
       "  <tbody>\n",
       "    <tr>\n",
       "      <th>9</th>\n",
       "      <td>{'model__min_samples_leaf': 1, 'model__class_weight': {0: 0.7500000000000004, 1: 0.24999999999999956}}</td>\n",
       "      <td>0.99</td>\n",
       "      <td>0.79</td>\n",
       "      <td>1.00</td>\n",
       "      <td>0.77</td>\n",
       "      <td>0.99</td>\n",
       "      <td>0.78</td>\n",
       "      <td>1.00</td>\n",
       "      <td>0.83</td>\n",
       "    </tr>\n",
       "    <tr>\n",
       "      <th>8</th>\n",
       "      <td>{'model__min_samples_leaf': 4, 'model__class_weight': {0: 0.35500000000000015, 1: 0.6449999999999998}}</td>\n",
       "      <td>0.95</td>\n",
       "      <td>0.81</td>\n",
       "      <td>0.87</td>\n",
       "      <td>0.75</td>\n",
       "      <td>0.91</td>\n",
       "      <td>0.78</td>\n",
       "      <td>0.99</td>\n",
       "      <td>0.88</td>\n",
       "    </tr>\n",
       "    <tr>\n",
       "      <th>4</th>\n",
       "      <td>{'model__min_samples_leaf': 2, 'model__class_weight': {0: 0.34500000000000014, 1: 0.6549999999999998}}</td>\n",
       "      <td>0.98</td>\n",
       "      <td>0.80</td>\n",
       "      <td>0.93</td>\n",
       "      <td>0.75</td>\n",
       "      <td>0.95</td>\n",
       "      <td>0.78</td>\n",
       "      <td>1.00</td>\n",
       "      <td>0.85</td>\n",
       "    </tr>\n",
       "    <tr>\n",
       "      <th>6</th>\n",
       "      <td>{'model__min_samples_leaf': 2, 'model__class_weight': {0: 0.4250000000000002, 1: 0.5749999999999997}}</td>\n",
       "      <td>0.98</td>\n",
       "      <td>0.80</td>\n",
       "      <td>0.93</td>\n",
       "      <td>0.75</td>\n",
       "      <td>0.95</td>\n",
       "      <td>0.78</td>\n",
       "      <td>1.00</td>\n",
       "      <td>0.85</td>\n",
       "    </tr>\n",
       "    <tr>\n",
       "      <th>5</th>\n",
       "      <td>{'model__min_samples_leaf': 2, 'model__class_weight': {0: 0.4100000000000002, 1: 0.5899999999999999}}</td>\n",
       "      <td>0.98</td>\n",
       "      <td>0.80</td>\n",
       "      <td>0.93</td>\n",
       "      <td>0.75</td>\n",
       "      <td>0.95</td>\n",
       "      <td>0.78</td>\n",
       "      <td>1.00</td>\n",
       "      <td>0.85</td>\n",
       "    </tr>\n",
       "    <tr>\n",
       "      <th>7</th>\n",
       "      <td>{'model__min_samples_leaf': 2, 'model__class_weight': {0: 0.6450000000000005, 1: 0.35499999999999954}}</td>\n",
       "      <td>0.92</td>\n",
       "      <td>0.76</td>\n",
       "      <td>0.98</td>\n",
       "      <td>0.80</td>\n",
       "      <td>0.95</td>\n",
       "      <td>0.77</td>\n",
       "      <td>1.00</td>\n",
       "      <td>0.85</td>\n",
       "    </tr>\n",
       "    <tr>\n",
       "      <th>2</th>\n",
       "      <td>{'model__min_samples_leaf': 2, 'model__class_weight': {0: 0.5450000000000004, 1: 0.4549999999999996}}</td>\n",
       "      <td>0.92</td>\n",
       "      <td>0.75</td>\n",
       "      <td>0.98</td>\n",
       "      <td>0.80</td>\n",
       "      <td>0.95</td>\n",
       "      <td>0.77</td>\n",
       "      <td>1.00</td>\n",
       "      <td>0.85</td>\n",
       "    </tr>\n",
       "    <tr>\n",
       "      <th>0</th>\n",
       "      <td>{'model__min_samples_leaf': 4, 'model__class_weight': {0: 0.6200000000000003, 1: 0.37999999999999967}}</td>\n",
       "      <td>0.85</td>\n",
       "      <td>0.73</td>\n",
       "      <td>0.96</td>\n",
       "      <td>0.82</td>\n",
       "      <td>0.90</td>\n",
       "      <td>0.77</td>\n",
       "      <td>0.99</td>\n",
       "      <td>0.88</td>\n",
       "    </tr>\n",
       "    <tr>\n",
       "      <th>3</th>\n",
       "      <td>{'model__min_samples_leaf': 2, 'model__class_weight': {0: 0.7850000000000006, 1: 0.2149999999999994}}</td>\n",
       "      <td>0.88</td>\n",
       "      <td>0.73</td>\n",
       "      <td>1.00</td>\n",
       "      <td>0.82</td>\n",
       "      <td>0.93</td>\n",
       "      <td>0.77</td>\n",
       "      <td>1.00</td>\n",
       "      <td>0.85</td>\n",
       "    </tr>\n",
       "    <tr>\n",
       "      <th>1</th>\n",
       "      <td>{'model__min_samples_leaf': 3, 'model__class_weight': {0: 0.7300000000000004, 1: 0.2699999999999996}}</td>\n",
       "      <td>0.84</td>\n",
       "      <td>0.72</td>\n",
       "      <td>0.98</td>\n",
       "      <td>0.83</td>\n",
       "      <td>0.90</td>\n",
       "      <td>0.77</td>\n",
       "      <td>0.99</td>\n",
       "      <td>0.87</td>\n",
       "    </tr>\n",
       "  </tbody>\n",
       "</table>\n",
       "</div>"
      ],
      "text/plain": [
       "                                                                                                   params  \\\n",
       "9  {'model__min_samples_leaf': 1, 'model__class_weight': {0: 0.7500000000000004, 1: 0.24999999999999956}}   \n",
       "8  {'model__min_samples_leaf': 4, 'model__class_weight': {0: 0.35500000000000015, 1: 0.6449999999999998}}   \n",
       "4  {'model__min_samples_leaf': 2, 'model__class_weight': {0: 0.34500000000000014, 1: 0.6549999999999998}}   \n",
       "6   {'model__min_samples_leaf': 2, 'model__class_weight': {0: 0.4250000000000002, 1: 0.5749999999999997}}   \n",
       "5   {'model__min_samples_leaf': 2, 'model__class_weight': {0: 0.4100000000000002, 1: 0.5899999999999999}}   \n",
       "7  {'model__min_samples_leaf': 2, 'model__class_weight': {0: 0.6450000000000005, 1: 0.35499999999999954}}   \n",
       "2   {'model__min_samples_leaf': 2, 'model__class_weight': {0: 0.5450000000000004, 1: 0.4549999999999996}}   \n",
       "0  {'model__min_samples_leaf': 4, 'model__class_weight': {0: 0.6200000000000003, 1: 0.37999999999999967}}   \n",
       "3   {'model__min_samples_leaf': 2, 'model__class_weight': {0: 0.7850000000000006, 1: 0.2149999999999994}}   \n",
       "1   {'model__min_samples_leaf': 3, 'model__class_weight': {0: 0.7300000000000004, 1: 0.2699999999999996}}   \n",
       "\n",
       "   mean_train_recall  mean_test_recall  mean_train_precision  \\\n",
       "9               0.99              0.79                  1.00   \n",
       "8               0.95              0.81                  0.87   \n",
       "4               0.98              0.80                  0.93   \n",
       "6               0.98              0.80                  0.93   \n",
       "5               0.98              0.80                  0.93   \n",
       "7               0.92              0.76                  0.98   \n",
       "2               0.92              0.75                  0.98   \n",
       "0               0.85              0.73                  0.96   \n",
       "3               0.88              0.73                  1.00   \n",
       "1               0.84              0.72                  0.98   \n",
       "\n",
       "   mean_test_precision  mean_train_f1  mean_test_f1  mean_train_roc_auc  \\\n",
       "9                 0.77           0.99          0.78                1.00   \n",
       "8                 0.75           0.91          0.78                0.99   \n",
       "4                 0.75           0.95          0.78                1.00   \n",
       "6                 0.75           0.95          0.78                1.00   \n",
       "5                 0.75           0.95          0.78                1.00   \n",
       "7                 0.80           0.95          0.77                1.00   \n",
       "2                 0.80           0.95          0.77                1.00   \n",
       "0                 0.82           0.90          0.77                0.99   \n",
       "3                 0.82           0.93          0.77                1.00   \n",
       "1                 0.83           0.90          0.77                0.99   \n",
       "\n",
       "   mean_test_roc_auc  \n",
       "9               0.83  \n",
       "8               0.88  \n",
       "4               0.85  \n",
       "6               0.85  \n",
       "5               0.85  \n",
       "7               0.85  \n",
       "2               0.85  \n",
       "0               0.88  \n",
       "3               0.85  \n",
       "1               0.87  "
      ]
     },
     "execution_count": 15,
     "metadata": {},
     "output_type": "execute_result"
    }
   ],
   "source": [
    "best_results[['params','mean_train_recall', 'mean_test_recall', 'mean_train_precision', 'mean_test_precision', \n",
    "              'mean_train_f1', 'mean_test_f1', 'mean_train_roc_auc', 'mean_test_roc_auc']].sort_values(\n",
    "                                                                                'mean_test_f1', ascending= False).round(2)"
   ]
  },
  {
   "cell_type": "code",
   "execution_count": 16,
   "id": "110b134f",
   "metadata": {},
   "outputs": [
    {
     "name": "stdout",
     "output_type": "stream",
     "text": [
      "{'model__min_samples_leaf': 1, 'model__class_weight': {0: 0.7500000000000004, 1: 0.24999999999999956}}\n",
      "\n",
      "              precision    recall  f1-score   support\n",
      "\n",
      "           0       0.88      0.87      0.87     23067\n",
      "           1       0.78      0.80      0.79     13578\n",
      "\n",
      "    accuracy                           0.84     36645\n",
      "   macro avg       0.83      0.83      0.83     36645\n",
      "weighted avg       0.84      0.84      0.84     36645\n",
      "\n"
     ]
    }
   ],
   "source": [
    "print(rscv_tree_jmss.best_params_)\n",
    "print('')\n",
    "\n",
    "y_pred = rscv_tree_jmss.predict(X_test)\n",
    "\n",
    "print(classification_report(y_test, y_pred))\n",
    "\n",
    "pd.reset_option('max.colwidth')"
   ]
  },
  {
   "cell_type": "markdown",
   "id": "f3eec8a3",
   "metadata": {},
   "source": [
    "### GaussianNB"
   ]
  },
  {
   "cell_type": "code",
   "execution_count": 25,
   "id": "58656141",
   "metadata": {},
   "outputs": [],
   "source": [
    "transformer = ColumnTransformer([('jmss', JamesSteinEncoder(), categorical_variables),\n",
    "                                 ('pwr', PowerTransformer(), numerical_variables ),\n",
    "                                 ('stdscaler', StandardScaler(), numerical_variables)])\n",
    "\n",
    "gnb = GaussianNB(var_smoothing= 1.5)\n",
    "\n",
    "pipe = Pipeline([('transformer', transformer), ('model', gnb)])\n",
    "\n",
    "gnb_cv = cross_validate(pipe, X_train, y_train, cv= 10, n_jobs= -1, \n",
    "                        scoring= ['f1', 'precision', 'recall'], return_train_score= True)"
   ]
  },
  {
   "cell_type": "code",
   "execution_count": 26,
   "id": "805e9955",
   "metadata": {},
   "outputs": [
    {
     "data": {
      "text/plain": [
       "fit_time           3.93\n",
       "score_time         0.12\n",
       "test_f1            0.63\n",
       "train_f1           0.63\n",
       "test_precision     0.50\n",
       "train_precision    0.50\n",
       "test_recall        0.85\n",
       "train_recall       0.85\n",
       "dtype: float64"
      ]
     },
     "execution_count": 26,
     "metadata": {},
     "output_type": "execute_result"
    }
   ],
   "source": [
    "gnb_cv_df = pd.DataFrame(gnb_cv)\n",
    "gnb_cv_df.mean().round(2)"
   ]
  },
  {
   "cell_type": "code",
   "execution_count": 27,
   "id": "c80eda00",
   "metadata": {
    "scrolled": true
   },
   "outputs": [
    {
     "name": "stdout",
     "output_type": "stream",
     "text": [
      "              precision    recall  f1-score   support\n",
      "\n",
      "           0       0.86      0.50      0.63     23067\n",
      "           1       0.50      0.86      0.64     13578\n",
      "\n",
      "    accuracy                           0.63     36645\n",
      "   macro avg       0.68      0.68      0.63     36645\n",
      "weighted avg       0.73      0.63      0.63     36645\n",
      "\n"
     ]
    }
   ],
   "source": [
    "gnb_final = pipe.fit(X_train, y_train)\n",
    "\n",
    "print(classification_report(y_test, gnb_final.predict(X_test)))"
   ]
  },
  {
   "cell_type": "code",
   "execution_count": 28,
   "id": "490803f8",
   "metadata": {},
   "outputs": [
    {
     "data": {
      "text/plain": [
       "['gaussian_nb_model']"
      ]
     },
     "execution_count": 28,
     "metadata": {},
     "output_type": "execute_result"
    }
   ],
   "source": [
    "jb.dump(value= gnb_final, filename= 'gaussian_nb_model')"
   ]
  }
 ],
 "metadata": {
  "kernelspec": {
   "display_name": "Python 3.9.13 ('base')",
   "language": "python",
   "name": "python3"
  },
  "language_info": {
   "codemirror_mode": {
    "name": "ipython",
    "version": 3
   },
   "file_extension": ".py",
   "mimetype": "text/x-python",
   "name": "python",
   "nbconvert_exporter": "python",
   "pygments_lexer": "ipython3",
   "version": "3.9.13 (main, Aug 25 2022, 23:51:50) [MSC v.1916 64 bit (AMD64)]"
  },
  "vscode": {
   "interpreter": {
    "hash": "7ce700165e2c4b10bae7603f1c1106a887b66d17bed302f9db11fdd8a44210c1"
   }
  }
 },
 "nbformat": 4,
 "nbformat_minor": 5
}
