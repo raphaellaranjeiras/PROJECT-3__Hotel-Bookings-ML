{
 "cells": [
  {
   "cell_type": "code",
   "execution_count": 1,
   "id": "6f9fd631",
   "metadata": {},
   "outputs": [],
   "source": [
    "import warnings\n",
    "warnings.filterwarnings('ignore')\n",
    "import pandas as pd\n",
    "pd.set_option('display.max_columns', None)\n",
    "import numpy as np\n",
    "from sklearn.model_selection import train_test_split, RandomizedSearchCV, cross_validate\n",
    "from sklearn.preprocessing import OneHotEncoder, StandardScaler, PowerTransformer\n",
    "from category_encoders import JamesSteinEncoder\n",
    "from sklearn.pipeline import Pipeline\n",
    "from sklearn.compose import ColumnTransformer\n",
    "from sklearn.linear_model import LogisticRegression\n",
    "from sklearn.metrics import classification_report\n",
    "import joblib as jb"
   ]
  },
  {
   "cell_type": "code",
   "execution_count": 2,
   "id": "b45ea35f",
   "metadata": {},
   "outputs": [],
   "source": [
    "df = pd.read_csv('hotel_bookings.csv')"
   ]
  },
  {
   "cell_type": "code",
   "execution_count": 3,
   "id": "b78a7f50",
   "metadata": {},
   "outputs": [
    {
     "data": {
      "text/plain": [
       "(111689, 32)"
      ]
     },
     "execution_count": 3,
     "metadata": {},
     "output_type": "execute_result"
    }
   ],
   "source": [
    "df = df[~((df['arrival_date_year'] == 2015) & (df['arrival_date_month'] == 'July') | (df['arrival_date_year'] == 2017) &\n",
    "         (df['arrival_date_month'] == 'August'))]\n",
    "df.shape"
   ]
  },
  {
   "cell_type": "code",
   "execution_count": 4,
   "id": "bfe5954d",
   "metadata": {},
   "outputs": [
    {
     "data": {
      "text/plain": [
       "(111513, 32)"
      ]
     },
     "execution_count": 4,
     "metadata": {},
     "output_type": "execute_result"
    }
   ],
   "source": [
    "df = df[~((df['children'] == 0) & (df['adults'] == 0) & (df['babies'] == 0))]\n",
    "df.shape"
   ]
  },
  {
   "cell_type": "code",
   "execution_count": 5,
   "id": "bf6a6ebc",
   "metadata": {},
   "outputs": [
    {
     "data": {
      "text/plain": [
       "(111513, 24)"
      ]
     },
     "execution_count": 5,
     "metadata": {},
     "output_type": "execute_result"
    }
   ],
   "source": [
    "df.drop(columns= ['company', 'agent', 'reservation_status_date', 'assigned_room_type', 'reservation_status',\n",
    "                  'arrival_date_year', 'arrival_date_month', 'arrival_date_day_of_month'], \n",
    "        inplace= True)\n",
    "df.shape"
   ]
  },
  {
   "cell_type": "code",
   "execution_count": 6,
   "id": "312cdd76",
   "metadata": {
    "scrolled": true
   },
   "outputs": [
    {
     "data": {
      "text/plain": [
       "(111044, 24)"
      ]
     },
     "execution_count": 6,
     "metadata": {},
     "output_type": "execute_result"
    }
   ],
   "source": [
    "df.dropna(inplace= True)\n",
    "df.shape"
   ]
  },
  {
   "cell_type": "code",
   "execution_count": 7,
   "id": "35659b89",
   "metadata": {
    "scrolled": false
   },
   "outputs": [
    {
     "data": {
      "text/plain": [
       "31653"
      ]
     },
     "execution_count": 7,
     "metadata": {},
     "output_type": "execute_result"
    }
   ],
   "source": [
    "df.duplicated().sum()"
   ]
  },
  {
   "cell_type": "code",
   "execution_count": 8,
   "id": "d59d435f",
   "metadata": {
    "scrolled": true
   },
   "outputs": [
    {
     "data": {
      "text/plain": [
       "0    63.02\n",
       "1    36.98\n",
       "Name: is_canceled, dtype: float64"
      ]
     },
     "execution_count": 8,
     "metadata": {},
     "output_type": "execute_result"
    }
   ],
   "source": [
    "df['is_canceled'].value_counts(normalize= True).mul(100).round(2)"
   ]
  },
  {
   "cell_type": "code",
   "execution_count": 9,
   "id": "a56e12ac",
   "metadata": {},
   "outputs": [],
   "source": [
    "df.to_csv('df_changed.csv', index= False)"
   ]
  },
  {
   "cell_type": "code",
   "execution_count": 10,
   "id": "f8697bc6",
   "metadata": {},
   "outputs": [],
   "source": [
    "X = df.drop(['is_canceled'], axis= 1)\n",
    "y = df['is_canceled']\n",
    "\n",
    "categorical_variables = X.select_dtypes('object').columns.to_list()\n",
    "numerical_variables = X.select_dtypes('number').columns.to_list()\n",
    "\n",
    "X_train, X_test, y_train, y_test = train_test_split(X, y, test_size= 0.33, random_state= 4)"
   ]
  },
  {
   "cell_type": "code",
   "execution_count": 11,
   "id": "3884bcc7",
   "metadata": {
    "scrolled": false
   },
   "outputs": [
    {
     "data": {
      "text/plain": [
       "['hotel',\n",
       " 'meal',\n",
       " 'country',\n",
       " 'market_segment',\n",
       " 'distribution_channel',\n",
       " 'reserved_room_type',\n",
       " 'deposit_type',\n",
       " 'customer_type']"
      ]
     },
     "execution_count": 11,
     "metadata": {},
     "output_type": "execute_result"
    }
   ],
   "source": [
    "categorical_variables"
   ]
  },
  {
   "cell_type": "code",
   "execution_count": 12,
   "id": "16cadfe4",
   "metadata": {},
   "outputs": [
    {
     "data": {
      "text/plain": [
       "['country']"
      ]
     },
     "execution_count": 12,
     "metadata": {},
     "output_type": "execute_result"
    }
   ],
   "source": [
    "country_variable = [categorical_variables[2]]\n",
    "country_variable"
   ]
  },
  {
   "cell_type": "code",
   "execution_count": 13,
   "id": "9d8f8cea",
   "metadata": {
    "scrolled": true
   },
   "outputs": [
    {
     "data": {
      "text/plain": [
       "['hotel',\n",
       " 'meal',\n",
       " 'market_segment',\n",
       " 'distribution_channel',\n",
       " 'reserved_room_type',\n",
       " 'deposit_type',\n",
       " 'customer_type']"
      ]
     },
     "execution_count": 13,
     "metadata": {},
     "output_type": "execute_result"
    }
   ],
   "source": [
    "other_variables = []\n",
    "for i in categorical_variables:\n",
    "    if i != 'country':\n",
    "        other_variables.append(i)\n",
    "    else:\n",
    "        pass\n",
    "        \n",
    "other_variables"
   ]
  },
  {
   "cell_type": "markdown",
   "id": "137603e2",
   "metadata": {},
   "source": [
    "#### Testando diferentes modelos com diferentes encoders."
   ]
  },
  {
   "cell_type": "code",
   "execution_count": 14,
   "id": "0af05af8",
   "metadata": {},
   "outputs": [],
   "source": [
    "def encoders_model_results_logreg(encoders_cat, encoders_country, model_):\n",
    "        \n",
    "    def differentencoders_model_results(x, y):\n",
    "        other_variables_pipe = Pipeline([('encoder_other_variables', x)])\n",
    "        country_pipe = Pipeline([('encoder_country', y)])\n",
    "        num_pipe = Pipeline([('num_std_scaler', StandardScaler()),\n",
    "                     ('num_pwr_transf', PowerTransformer())])\n",
    "        \n",
    "        transformer = ColumnTransformer([('other_variables_transf', other_variables_pipe, other_variables),\n",
    "                                         ('country_transf', country_pipe, country_variable), \n",
    "                                         ('num_transf', num_pipe, numerical_variables)])\n",
    "        \n",
    "        X_train_transformed = transformer.fit_transform(X_train, y_train)\n",
    "        X_test_transformed = transformer.transform(X_test)\n",
    "    \n",
    "        cv = cross_validate(model_, X_train_transformed, y_train, cv= 10, scoring= ('recall', 'precision', 'f1'), \n",
    "                               n_jobs= -1)\n",
    "        \n",
    "        print(model_)\n",
    "        print('Recall:', cv['test_recall'].mean().round(2), 'Precision:', \n",
    "              cv['test_precision'].mean().round(2), 'F1-Score:', cv['test_f1'].mean().round(2))\n",
    "        print('')\n",
    "    \n",
    "    for i in encoders_cat:\n",
    "        for j in encoders_country:\n",
    "            print(i, ' - other variables      ', j, ' - country variable')                    \n",
    "            differentencoders_model_results(i, j)"
   ]
  },
  {
   "cell_type": "code",
   "execution_count": 15,
   "id": "47163505",
   "metadata": {},
   "outputs": [
    {
     "name": "stdout",
     "output_type": "stream",
     "text": [
      "OneHotEncoder(handle_unknown='ignore')  - other variables       OneHotEncoder(handle_unknown='ignore')  - country variable\n",
      "LogisticRegression()\n",
      "Recall: 0.67 Precision: 0.82 F1-Score: 0.74\n",
      "\n",
      "OneHotEncoder(handle_unknown='ignore')  - other variables       JamesSteinEncoder()  - country variable\n",
      "LogisticRegression()\n",
      "Recall: 0.67 Precision: 0.82 F1-Score: 0.74\n",
      "\n",
      "JamesSteinEncoder()  - other variables       OneHotEncoder(handle_unknown='ignore')  - country variable\n",
      "LogisticRegression()\n",
      "Recall: 0.64 Precision: 0.82 F1-Score: 0.72\n",
      "\n",
      "JamesSteinEncoder()  - other variables       JamesSteinEncoder()  - country variable\n",
      "LogisticRegression()\n",
      "Recall: 0.63 Precision: 0.82 F1-Score: 0.71\n",
      "\n"
     ]
    }
   ],
   "source": [
    "others = [OneHotEncoder(handle_unknown= 'ignore'), JamesSteinEncoder()]\n",
    "country = [OneHotEncoder(handle_unknown= 'ignore'), JamesSteinEncoder()]\n",
    "\n",
    "#Regressão Logística\n",
    "encoders_model_results_logreg(others, country, LogisticRegression())"
   ]
  },
  {
   "cell_type": "markdown",
   "id": "ec08997e",
   "metadata": {},
   "source": [
    "### Logistic Regression"
   ]
  },
  {
   "cell_type": "markdown",
   "id": "1c75cdb8",
   "metadata": {},
   "source": [
    "#### OHE"
   ]
  },
  {
   "cell_type": "code",
   "execution_count": 16,
   "id": "06f158c6",
   "metadata": {},
   "outputs": [],
   "source": [
    "pd.set_option('max.colwidth', None)\n",
    "\n",
    "other_variables_pipe = Pipeline([('encoder_other_variables', OneHotEncoder(handle_unknown= 'ignore'))])\n",
    "country_pipe = Pipeline([('encoder_country', OneHotEncoder(handle_unknown= 'ignore'))])\n",
    "num_pipe = Pipeline([('num_pwr_transf', PowerTransformer()), \n",
    "                     ('num_std_scaler', StandardScaler())])\n",
    "   \n",
    "transformer = ColumnTransformer([('other_variables_transf', other_variables_pipe, other_variables),\n",
    "                                 ('country_transf', country_pipe, country_variable), \n",
    "                                 ('num_transf', num_pipe, numerical_variables)])\n",
    "\n",
    "logreg = LogisticRegression()\n",
    "\n",
    "pipe = Pipeline([('transformer', transformer), ('model', logreg)])\n",
    "\n",
    "weights = np.arange(0.2, 0.8, 0.005)\n",
    "param_grid = {'model__class_weight':[{0:x, 1:1-x} for x in weights]}\n",
    "\n",
    "rscv_logreg = RandomizedSearchCV(pipe, param_grid, cv= 10, n_jobs= -1, \n",
    "                    scoring= ['recall', 'precision', 'f1', 'roc_auc'], refit= 'f1', return_train_score= True, random_state= 4)\n",
    "\n",
    "rscv_logreg.fit(X_train, y_train)\n",
    "\n",
    "best_results = pd.DataFrame(rscv_logreg.cv_results_)"
   ]
  },
  {
   "cell_type": "code",
   "execution_count": 17,
   "id": "0a8161a1",
   "metadata": {},
   "outputs": [
    {
     "data": {
      "text/html": [
       "<div>\n",
       "<style scoped>\n",
       "    .dataframe tbody tr th:only-of-type {\n",
       "        vertical-align: middle;\n",
       "    }\n",
       "\n",
       "    .dataframe tbody tr th {\n",
       "        vertical-align: top;\n",
       "    }\n",
       "\n",
       "    .dataframe thead th {\n",
       "        text-align: right;\n",
       "    }\n",
       "</style>\n",
       "<table border=\"1\" class=\"dataframe\">\n",
       "  <thead>\n",
       "    <tr style=\"text-align: right;\">\n",
       "      <th></th>\n",
       "      <th>params</th>\n",
       "      <th>mean_train_recall</th>\n",
       "      <th>mean_test_recall</th>\n",
       "      <th>mean_train_precision</th>\n",
       "      <th>mean_test_precision</th>\n",
       "      <th>mean_train_f1</th>\n",
       "      <th>mean_test_f1</th>\n",
       "      <th>mean_train_roc_auc</th>\n",
       "      <th>mean_test_roc_auc</th>\n",
       "    </tr>\n",
       "  </thead>\n",
       "  <tbody>\n",
       "    <tr>\n",
       "      <th>2</th>\n",
       "      <td>{'model__class_weight': {0: 0.3250000000000001, 1: 0.6749999999999998}}</td>\n",
       "      <td>0.83</td>\n",
       "      <td>0.82</td>\n",
       "      <td>0.71</td>\n",
       "      <td>0.71</td>\n",
       "      <td>0.76</td>\n",
       "      <td>0.76</td>\n",
       "      <td>0.9</td>\n",
       "      <td>0.9</td>\n",
       "    </tr>\n",
       "    <tr>\n",
       "      <th>7</th>\n",
       "      <td>{'model__class_weight': {0: 0.3200000000000001, 1: 0.6799999999999999}}</td>\n",
       "      <td>0.83</td>\n",
       "      <td>0.83</td>\n",
       "      <td>0.71</td>\n",
       "      <td>0.71</td>\n",
       "      <td>0.76</td>\n",
       "      <td>0.76</td>\n",
       "      <td>0.9</td>\n",
       "      <td>0.9</td>\n",
       "    </tr>\n",
       "    <tr>\n",
       "      <th>5</th>\n",
       "      <td>{'model__class_weight': {0: 0.4050000000000002, 1: 0.5949999999999998}}</td>\n",
       "      <td>0.76</td>\n",
       "      <td>0.76</td>\n",
       "      <td>0.77</td>\n",
       "      <td>0.76</td>\n",
       "      <td>0.76</td>\n",
       "      <td>0.76</td>\n",
       "      <td>0.9</td>\n",
       "      <td>0.9</td>\n",
       "    </tr>\n",
       "    <tr>\n",
       "      <th>9</th>\n",
       "      <td>{'model__class_weight': {0: 0.3000000000000001, 1: 0.7}}</td>\n",
       "      <td>0.84</td>\n",
       "      <td>0.84</td>\n",
       "      <td>0.69</td>\n",
       "      <td>0.69</td>\n",
       "      <td>0.76</td>\n",
       "      <td>0.76</td>\n",
       "      <td>0.9</td>\n",
       "      <td>0.9</td>\n",
       "    </tr>\n",
       "    <tr>\n",
       "      <th>4</th>\n",
       "      <td>{'model__class_weight': {0: 0.2950000000000001, 1: 0.7049999999999998}}</td>\n",
       "      <td>0.85</td>\n",
       "      <td>0.85</td>\n",
       "      <td>0.69</td>\n",
       "      <td>0.69</td>\n",
       "      <td>0.76</td>\n",
       "      <td>0.76</td>\n",
       "      <td>0.9</td>\n",
       "      <td>0.9</td>\n",
       "    </tr>\n",
       "    <tr>\n",
       "      <th>3</th>\n",
       "      <td>{'model__class_weight': {0: 0.2800000000000001, 1: 0.72}}</td>\n",
       "      <td>0.86</td>\n",
       "      <td>0.86</td>\n",
       "      <td>0.68</td>\n",
       "      <td>0.68</td>\n",
       "      <td>0.76</td>\n",
       "      <td>0.76</td>\n",
       "      <td>0.9</td>\n",
       "      <td>0.9</td>\n",
       "    </tr>\n",
       "    <tr>\n",
       "      <th>0</th>\n",
       "      <td>{'model__class_weight': {0: 0.26500000000000007, 1: 0.7349999999999999}}</td>\n",
       "      <td>0.87</td>\n",
       "      <td>0.87</td>\n",
       "      <td>0.66</td>\n",
       "      <td>0.66</td>\n",
       "      <td>0.75</td>\n",
       "      <td>0.75</td>\n",
       "      <td>0.9</td>\n",
       "      <td>0.9</td>\n",
       "    </tr>\n",
       "    <tr>\n",
       "      <th>6</th>\n",
       "      <td>{'model__class_weight': {0: 0.22500000000000003, 1: 0.7749999999999999}}</td>\n",
       "      <td>0.90</td>\n",
       "      <td>0.90</td>\n",
       "      <td>0.63</td>\n",
       "      <td>0.63</td>\n",
       "      <td>0.74</td>\n",
       "      <td>0.74</td>\n",
       "      <td>0.9</td>\n",
       "      <td>0.9</td>\n",
       "    </tr>\n",
       "    <tr>\n",
       "      <th>1</th>\n",
       "      <td>{'model__class_weight': {0: 0.21000000000000002, 1: 0.79}}</td>\n",
       "      <td>0.91</td>\n",
       "      <td>0.91</td>\n",
       "      <td>0.62</td>\n",
       "      <td>0.62</td>\n",
       "      <td>0.74</td>\n",
       "      <td>0.74</td>\n",
       "      <td>0.9</td>\n",
       "      <td>0.9</td>\n",
       "    </tr>\n",
       "    <tr>\n",
       "      <th>8</th>\n",
       "      <td>{'model__class_weight': {0: 0.6100000000000003, 1: 0.3899999999999997}}</td>\n",
       "      <td>0.59</td>\n",
       "      <td>0.59</td>\n",
       "      <td>0.88</td>\n",
       "      <td>0.88</td>\n",
       "      <td>0.71</td>\n",
       "      <td>0.71</td>\n",
       "      <td>0.9</td>\n",
       "      <td>0.9</td>\n",
       "    </tr>\n",
       "  </tbody>\n",
       "</table>\n",
       "</div>"
      ],
      "text/plain": [
       "                                                                     params  \\\n",
       "2   {'model__class_weight': {0: 0.3250000000000001, 1: 0.6749999999999998}}   \n",
       "7   {'model__class_weight': {0: 0.3200000000000001, 1: 0.6799999999999999}}   \n",
       "5   {'model__class_weight': {0: 0.4050000000000002, 1: 0.5949999999999998}}   \n",
       "9                  {'model__class_weight': {0: 0.3000000000000001, 1: 0.7}}   \n",
       "4   {'model__class_weight': {0: 0.2950000000000001, 1: 0.7049999999999998}}   \n",
       "3                 {'model__class_weight': {0: 0.2800000000000001, 1: 0.72}}   \n",
       "0  {'model__class_weight': {0: 0.26500000000000007, 1: 0.7349999999999999}}   \n",
       "6  {'model__class_weight': {0: 0.22500000000000003, 1: 0.7749999999999999}}   \n",
       "1                {'model__class_weight': {0: 0.21000000000000002, 1: 0.79}}   \n",
       "8   {'model__class_weight': {0: 0.6100000000000003, 1: 0.3899999999999997}}   \n",
       "\n",
       "   mean_train_recall  mean_test_recall  mean_train_precision  \\\n",
       "2               0.83              0.82                  0.71   \n",
       "7               0.83              0.83                  0.71   \n",
       "5               0.76              0.76                  0.77   \n",
       "9               0.84              0.84                  0.69   \n",
       "4               0.85              0.85                  0.69   \n",
       "3               0.86              0.86                  0.68   \n",
       "0               0.87              0.87                  0.66   \n",
       "6               0.90              0.90                  0.63   \n",
       "1               0.91              0.91                  0.62   \n",
       "8               0.59              0.59                  0.88   \n",
       "\n",
       "   mean_test_precision  mean_train_f1  mean_test_f1  mean_train_roc_auc  \\\n",
       "2                 0.71           0.76          0.76                 0.9   \n",
       "7                 0.71           0.76          0.76                 0.9   \n",
       "5                 0.76           0.76          0.76                 0.9   \n",
       "9                 0.69           0.76          0.76                 0.9   \n",
       "4                 0.69           0.76          0.76                 0.9   \n",
       "3                 0.68           0.76          0.76                 0.9   \n",
       "0                 0.66           0.75          0.75                 0.9   \n",
       "6                 0.63           0.74          0.74                 0.9   \n",
       "1                 0.62           0.74          0.74                 0.9   \n",
       "8                 0.88           0.71          0.71                 0.9   \n",
       "\n",
       "   mean_test_roc_auc  \n",
       "2                0.9  \n",
       "7                0.9  \n",
       "5                0.9  \n",
       "9                0.9  \n",
       "4                0.9  \n",
       "3                0.9  \n",
       "0                0.9  \n",
       "6                0.9  \n",
       "1                0.9  \n",
       "8                0.9  "
      ]
     },
     "execution_count": 17,
     "metadata": {},
     "output_type": "execute_result"
    }
   ],
   "source": [
    "best_results[['params','mean_train_recall', 'mean_test_recall', 'mean_train_precision', 'mean_test_precision', \n",
    "              'mean_train_f1', 'mean_test_f1', 'mean_train_roc_auc', 'mean_test_roc_auc']].sort_values(\n",
    "                                                                                'mean_test_f1', ascending= False).round(2)"
   ]
  },
  {
   "cell_type": "code",
   "execution_count": 18,
   "id": "b653b308",
   "metadata": {},
   "outputs": [
    {
     "name": "stdout",
     "output_type": "stream",
     "text": [
      "{'model__class_weight': {0: 0.3250000000000001, 1: 0.6749999999999998}}\n",
      "\n",
      "              precision    recall  f1-score   support\n",
      "\n",
      "           0       0.89      0.80      0.84     23067\n",
      "           1       0.71      0.83      0.77     13578\n",
      "\n",
      "    accuracy                           0.81     36645\n",
      "   macro avg       0.80      0.82      0.80     36645\n",
      "weighted avg       0.82      0.81      0.81     36645\n",
      "\n"
     ]
    }
   ],
   "source": [
    "print(rscv_logreg.best_params_)\n",
    "print('')\n",
    "\n",
    "y_pred = rscv_logreg.predict(X_test)\n",
    "\n",
    "print(classification_report(y_test, y_pred))"
   ]
  },
  {
   "cell_type": "markdown",
   "id": "5cc3cee0",
   "metadata": {},
   "source": [
    "####  OHE + JamesStein "
   ]
  },
  {
   "cell_type": "code",
   "execution_count": 19,
   "id": "4cc700a8",
   "metadata": {},
   "outputs": [],
   "source": [
    "other_variables_pipe = Pipeline([('encoder_other_variables', OneHotEncoder(handle_unknown= 'ignore'))])\n",
    "country_pipe = Pipeline([('encoder_country', JamesSteinEncoder())])\n",
    "num_pipe = Pipeline([('num_pwr_transf', PowerTransformer()), \n",
    "                     ('num_std_scaler', StandardScaler())])\n",
    "   \n",
    "transformer = ColumnTransformer([('other_variables_transf', other_variables_pipe, other_variables),\n",
    "                                 ('country_transf', country_pipe, country_variable), \n",
    "                                 ('num_transf', num_pipe, numerical_variables)])\n",
    "\n",
    "logreg = LogisticRegression()\n",
    "\n",
    "pipe = Pipeline([('transformer', transformer), ('model', logreg)])\n",
    "\n",
    "weights = np.arange(0.2, 0.8, 0.005)\n",
    "param_grid = {'model__class_weight':[{0:x, 1:1-x} for x in weights]}\n",
    "\n",
    "rscv_logreg_jss = RandomizedSearchCV(pipe, param_grid, cv= 10, n_jobs= -1, \n",
    "                    scoring= ['recall', 'precision', 'f1', 'roc_auc'], refit= 'f1', return_train_score= True, random_state= 4)\n",
    "\n",
    "rscv_logreg_jss.fit(X_train, y_train)\n",
    "\n",
    "best_results = pd.DataFrame(rscv_logreg_jss.cv_results_)"
   ]
  },
  {
   "cell_type": "code",
   "execution_count": 20,
   "id": "4ba63d16",
   "metadata": {},
   "outputs": [
    {
     "data": {
      "text/html": [
       "<div>\n",
       "<style scoped>\n",
       "    .dataframe tbody tr th:only-of-type {\n",
       "        vertical-align: middle;\n",
       "    }\n",
       "\n",
       "    .dataframe tbody tr th {\n",
       "        vertical-align: top;\n",
       "    }\n",
       "\n",
       "    .dataframe thead th {\n",
       "        text-align: right;\n",
       "    }\n",
       "</style>\n",
       "<table border=\"1\" class=\"dataframe\">\n",
       "  <thead>\n",
       "    <tr style=\"text-align: right;\">\n",
       "      <th></th>\n",
       "      <th>params</th>\n",
       "      <th>mean_train_recall</th>\n",
       "      <th>mean_test_recall</th>\n",
       "      <th>mean_train_precision</th>\n",
       "      <th>mean_test_precision</th>\n",
       "      <th>mean_train_f1</th>\n",
       "      <th>mean_test_f1</th>\n",
       "      <th>mean_train_roc_auc</th>\n",
       "      <th>mean_test_roc_auc</th>\n",
       "    </tr>\n",
       "  </thead>\n",
       "  <tbody>\n",
       "    <tr>\n",
       "      <th>7</th>\n",
       "      <td>{'model__class_weight': {0: 0.3200000000000001, 1: 0.6799999999999999}}</td>\n",
       "      <td>0.82</td>\n",
       "      <td>0.82</td>\n",
       "      <td>0.71</td>\n",
       "      <td>0.70</td>\n",
       "      <td>0.76</td>\n",
       "      <td>0.76</td>\n",
       "      <td>0.9</td>\n",
       "      <td>0.9</td>\n",
       "    </tr>\n",
       "    <tr>\n",
       "      <th>2</th>\n",
       "      <td>{'model__class_weight': {0: 0.3250000000000001, 1: 0.6749999999999998}}</td>\n",
       "      <td>0.82</td>\n",
       "      <td>0.82</td>\n",
       "      <td>0.71</td>\n",
       "      <td>0.71</td>\n",
       "      <td>0.76</td>\n",
       "      <td>0.76</td>\n",
       "      <td>0.9</td>\n",
       "      <td>0.9</td>\n",
       "    </tr>\n",
       "    <tr>\n",
       "      <th>5</th>\n",
       "      <td>{'model__class_weight': {0: 0.4050000000000002, 1: 0.5949999999999998}}</td>\n",
       "      <td>0.76</td>\n",
       "      <td>0.75</td>\n",
       "      <td>0.76</td>\n",
       "      <td>0.76</td>\n",
       "      <td>0.76</td>\n",
       "      <td>0.76</td>\n",
       "      <td>0.9</td>\n",
       "      <td>0.9</td>\n",
       "    </tr>\n",
       "    <tr>\n",
       "      <th>9</th>\n",
       "      <td>{'model__class_weight': {0: 0.3000000000000001, 1: 0.7}}</td>\n",
       "      <td>0.84</td>\n",
       "      <td>0.84</td>\n",
       "      <td>0.69</td>\n",
       "      <td>0.69</td>\n",
       "      <td>0.76</td>\n",
       "      <td>0.76</td>\n",
       "      <td>0.9</td>\n",
       "      <td>0.9</td>\n",
       "    </tr>\n",
       "    <tr>\n",
       "      <th>4</th>\n",
       "      <td>{'model__class_weight': {0: 0.2950000000000001, 1: 0.7049999999999998}}</td>\n",
       "      <td>0.84</td>\n",
       "      <td>0.84</td>\n",
       "      <td>0.69</td>\n",
       "      <td>0.69</td>\n",
       "      <td>0.76</td>\n",
       "      <td>0.76</td>\n",
       "      <td>0.9</td>\n",
       "      <td>0.9</td>\n",
       "    </tr>\n",
       "    <tr>\n",
       "      <th>3</th>\n",
       "      <td>{'model__class_weight': {0: 0.2800000000000001, 1: 0.72}}</td>\n",
       "      <td>0.86</td>\n",
       "      <td>0.85</td>\n",
       "      <td>0.67</td>\n",
       "      <td>0.67</td>\n",
       "      <td>0.75</td>\n",
       "      <td>0.75</td>\n",
       "      <td>0.9</td>\n",
       "      <td>0.9</td>\n",
       "    </tr>\n",
       "    <tr>\n",
       "      <th>0</th>\n",
       "      <td>{'model__class_weight': {0: 0.26500000000000007, 1: 0.7349999999999999}}</td>\n",
       "      <td>0.87</td>\n",
       "      <td>0.87</td>\n",
       "      <td>0.66</td>\n",
       "      <td>0.66</td>\n",
       "      <td>0.75</td>\n",
       "      <td>0.75</td>\n",
       "      <td>0.9</td>\n",
       "      <td>0.9</td>\n",
       "    </tr>\n",
       "    <tr>\n",
       "      <th>6</th>\n",
       "      <td>{'model__class_weight': {0: 0.22500000000000003, 1: 0.7749999999999999}}</td>\n",
       "      <td>0.90</td>\n",
       "      <td>0.90</td>\n",
       "      <td>0.63</td>\n",
       "      <td>0.63</td>\n",
       "      <td>0.74</td>\n",
       "      <td>0.74</td>\n",
       "      <td>0.9</td>\n",
       "      <td>0.9</td>\n",
       "    </tr>\n",
       "    <tr>\n",
       "      <th>1</th>\n",
       "      <td>{'model__class_weight': {0: 0.21000000000000002, 1: 0.79}}</td>\n",
       "      <td>0.91</td>\n",
       "      <td>0.91</td>\n",
       "      <td>0.61</td>\n",
       "      <td>0.61</td>\n",
       "      <td>0.73</td>\n",
       "      <td>0.73</td>\n",
       "      <td>0.9</td>\n",
       "      <td>0.9</td>\n",
       "    </tr>\n",
       "    <tr>\n",
       "      <th>8</th>\n",
       "      <td>{'model__class_weight': {0: 0.6100000000000003, 1: 0.3899999999999997}}</td>\n",
       "      <td>0.59</td>\n",
       "      <td>0.58</td>\n",
       "      <td>0.88</td>\n",
       "      <td>0.88</td>\n",
       "      <td>0.70</td>\n",
       "      <td>0.70</td>\n",
       "      <td>0.9</td>\n",
       "      <td>0.9</td>\n",
       "    </tr>\n",
       "  </tbody>\n",
       "</table>\n",
       "</div>"
      ],
      "text/plain": [
       "                                                                     params  \\\n",
       "7   {'model__class_weight': {0: 0.3200000000000001, 1: 0.6799999999999999}}   \n",
       "2   {'model__class_weight': {0: 0.3250000000000001, 1: 0.6749999999999998}}   \n",
       "5   {'model__class_weight': {0: 0.4050000000000002, 1: 0.5949999999999998}}   \n",
       "9                  {'model__class_weight': {0: 0.3000000000000001, 1: 0.7}}   \n",
       "4   {'model__class_weight': {0: 0.2950000000000001, 1: 0.7049999999999998}}   \n",
       "3                 {'model__class_weight': {0: 0.2800000000000001, 1: 0.72}}   \n",
       "0  {'model__class_weight': {0: 0.26500000000000007, 1: 0.7349999999999999}}   \n",
       "6  {'model__class_weight': {0: 0.22500000000000003, 1: 0.7749999999999999}}   \n",
       "1                {'model__class_weight': {0: 0.21000000000000002, 1: 0.79}}   \n",
       "8   {'model__class_weight': {0: 0.6100000000000003, 1: 0.3899999999999997}}   \n",
       "\n",
       "   mean_train_recall  mean_test_recall  mean_train_precision  \\\n",
       "7               0.82              0.82                  0.71   \n",
       "2               0.82              0.82                  0.71   \n",
       "5               0.76              0.75                  0.76   \n",
       "9               0.84              0.84                  0.69   \n",
       "4               0.84              0.84                  0.69   \n",
       "3               0.86              0.85                  0.67   \n",
       "0               0.87              0.87                  0.66   \n",
       "6               0.90              0.90                  0.63   \n",
       "1               0.91              0.91                  0.61   \n",
       "8               0.59              0.58                  0.88   \n",
       "\n",
       "   mean_test_precision  mean_train_f1  mean_test_f1  mean_train_roc_auc  \\\n",
       "7                 0.70           0.76          0.76                 0.9   \n",
       "2                 0.71           0.76          0.76                 0.9   \n",
       "5                 0.76           0.76          0.76                 0.9   \n",
       "9                 0.69           0.76          0.76                 0.9   \n",
       "4                 0.69           0.76          0.76                 0.9   \n",
       "3                 0.67           0.75          0.75                 0.9   \n",
       "0                 0.66           0.75          0.75                 0.9   \n",
       "6                 0.63           0.74          0.74                 0.9   \n",
       "1                 0.61           0.73          0.73                 0.9   \n",
       "8                 0.88           0.70          0.70                 0.9   \n",
       "\n",
       "   mean_test_roc_auc  \n",
       "7                0.9  \n",
       "2                0.9  \n",
       "5                0.9  \n",
       "9                0.9  \n",
       "4                0.9  \n",
       "3                0.9  \n",
       "0                0.9  \n",
       "6                0.9  \n",
       "1                0.9  \n",
       "8                0.9  "
      ]
     },
     "execution_count": 20,
     "metadata": {},
     "output_type": "execute_result"
    }
   ],
   "source": [
    "best_results[['params','mean_train_recall', 'mean_test_recall', 'mean_train_precision', 'mean_test_precision', \n",
    "              'mean_train_f1', 'mean_test_f1', 'mean_train_roc_auc', 'mean_test_roc_auc']].sort_values(\n",
    "                                                                                'mean_test_f1', ascending= False).round(2)"
   ]
  },
  {
   "cell_type": "code",
   "execution_count": 21,
   "id": "110b134f",
   "metadata": {
    "scrolled": true
   },
   "outputs": [
    {
     "name": "stdout",
     "output_type": "stream",
     "text": [
      "{'model__class_weight': {0: 0.3200000000000001, 1: 0.6799999999999999}}\n",
      "\n",
      "              precision    recall  f1-score   support\n",
      "\n",
      "           0       0.89      0.80      0.84     23067\n",
      "           1       0.70      0.83      0.76     13578\n",
      "\n",
      "    accuracy                           0.81     36645\n",
      "   macro avg       0.80      0.81      0.80     36645\n",
      "weighted avg       0.82      0.81      0.81     36645\n",
      "\n"
     ]
    }
   ],
   "source": [
    "print(rscv_logreg_jss.best_params_)\n",
    "print('')\n",
    "\n",
    "y_pred = rscv_logreg_jss.predict(X_test)\n",
    "\n",
    "print(classification_report(y_test, y_pred))\n",
    "\n",
    "pd.reset_option('max.colwidth')"
   ]
  }
 ],
 "metadata": {
  "kernelspec": {
   "display_name": "Python 3.9.13 ('base')",
   "language": "python",
   "name": "python3"
  },
  "language_info": {
   "codemirror_mode": {
    "name": "ipython",
    "version": 3
   },
   "file_extension": ".py",
   "mimetype": "text/x-python",
   "name": "python",
   "nbconvert_exporter": "python",
   "pygments_lexer": "ipython3",
   "version": "3.9.13"
  },
  "vscode": {
   "interpreter": {
    "hash": "7ce700165e2c4b10bae7603f1c1106a887b66d17bed302f9db11fdd8a44210c1"
   }
  }
 },
 "nbformat": 4,
 "nbformat_minor": 5
}
